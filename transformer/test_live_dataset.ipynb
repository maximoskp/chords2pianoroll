{
 "cells": [
  {
   "cell_type": "code",
   "execution_count": 1,
   "metadata": {},
   "outputs": [
    {
     "name": "stderr",
     "output_type": "stream",
     "text": [
      "/home/maximos/miniconda3/envs/chart_acc_gen/lib/python3.11/site-packages/tqdm/auto.py:21: TqdmWarning: IProgress not found. Please update jupyter and ipywidgets. See https://ipywidgets.readthedocs.io/en/stable/user_install.html\n",
      "  from .autonotebook import tqdm as notebook_tqdm\n"
     ]
    }
   ],
   "source": [
    "import pypianoroll\n",
    "import os\n",
    "import numpy as np\n",
    "import matplotlib.pyplot as plt\n",
    "from copy import deepcopy\n",
    "import numpy as np\n",
    "import torch\n",
    "from torch.utils.data import Dataset, DataLoader\n",
    "import io\n",
    "import symusic\n",
    "from pathlib import Path\n",
    "\n",
    "# from chroma_subsystem.BinaryTokenizer import BinaryTokenizer, SimpleSerialChromaTokenizer\n",
    "from miditok import REMI, TokenizerConfig\n",
    "from transformers import RobertaTokenizer, RobertaTokenizerFast, RobertaModel\n",
    "\n",
    "from torch.nn.utils.rnn import pad_sequence\n",
    "\n",
    "from dataset_utils import LiveMelCATDataset, MelCATCollator\n",
    "import midi_pianoroll_utils as mpu"
   ]
  },
  {
   "cell_type": "code",
   "execution_count": 2,
   "metadata": {},
   "outputs": [],
   "source": [
    "MAX_LENGTH = 1024"
   ]
  },
  {
   "cell_type": "code",
   "execution_count": 3,
   "metadata": {},
   "outputs": [
    {
     "name": "stderr",
     "output_type": "stream",
     "text": [
      "/home/maximos/miniconda3/envs/chart_acc_gen/lib/python3.11/site-packages/transformers/tokenization_utils_base.py:1617: FutureWarning: `clean_up_tokenization_spaces` was not set. It will be set to `True` by default. This behavior will be deprecated in transformers v4.45, and will be then set to `False` by default. For more details check this issue: https://github.com/huggingface/transformers/issues/31884\n",
      "  warnings.warn(\n"
     ]
    }
   ],
   "source": [
    "# midifolder = '/media/datadisk/datasets/GiantMIDI-PIano/midis_v1.2/midis'\n",
    "midifolder = '/media/maindisk/maximos/data/POP909/aug_folder'\n",
    "# midifolder = '/media/datadisk/data/Giant_PIano/'\n",
    "dataset = LiveMelCATDataset(midifolder, segment_size=40)"
   ]
  },
  {
   "cell_type": "code",
   "execution_count": 4,
   "metadata": {},
   "outputs": [
    {
     "name": "stdout",
     "output_type": "stream",
     "text": [
      "46259\n"
     ]
    }
   ],
   "source": [
    "print(len(dataset))"
   ]
  },
  {
   "cell_type": "code",
   "execution_count": 5,
   "metadata": {},
   "outputs": [
    {
     "data": {
      "image/png": "[encoded data removed]",
      "text/plain": [
       "<Figure size 640x480 with 1 Axes>"
      ]
     },
     "metadata": {},
     "output_type": "display_data"
    },
    {
     "data": {
      "image/png": "[encoded data removed]",
      "text/plain": [
       "<Figure size 640x480 with 1 Axes>"
      ]
     },
     "metadata": {},
     "output_type": "display_data"
    }
   ],
   "source": [
    "d0 = dataset[1]"
   ]
  },
  {
   "cell_type": "code",
   "execution_count": 6,
   "metadata": {},
   "outputs": [
    {
     "data": {
      "text/plain": [
       "{'melody': tensor([ 5, 40, 97, 88, 14, 23, 60, 88, 17,  7, 41, 81, 17,  7, 62, 88, 17,  9,\n",
       "         47, 88, 10,  7, 67, 88, 14,  8,  5, 49, 88, 14,  7, 46, 81, 14,  7, 57,\n",
       "         54, 10,  7, 42, 81, 13,  9, 44, 54, 17,  7, 50, 81, 14,  8, 60, 81, 14,\n",
       "          8, 62, 78, 35,  7, 48, 54, 10,  7, 65, 78, 14,  7, 47, 78, 14, 84,  5,\n",
       "         60, 34, 17,  7, 41, 54, 10,  7, 62, 54, 14, 28, 67, 54, 17,  6,  5, 51,\n",
       "         54, 13,  6, 46, 34, 17,  7, 57, 20, 13,  6, 42, 34, 15,  6, 50, 19, 14,\n",
       "          8, 60, 19, 14,  8, 62, 19, 14,  8, 65, 25, 17,  7, 47, 19, 14, 77,  5,\n",
       "         60, 34, 13,  7, 41, 34, 17,  7, 62, 34, 14,  8, 47, 34, 14,  8,  5, 39,\n",
       "         34, 13,  7, 49, 34, 17,  7, 46, 20, 14,  7, 57, 19, 14,  7, 42, 20, 14,\n",
       "          7, 44, 34, 15,  7, 50, 54, 13, 21, 62, 54, 14,  8, 65, 34, 14,  7, 47,\n",
       "         20, 17, 84,  5, 60, 54, 17,  7, 41, 34, 13,  7, 62, 54, 17,  9, 47, 54,\n",
       "         14,  8,  5, 39, 54, 14,  7, 49, 54, 17,  7, 46, 34, 17,  7, 57, 54, 17,\n",
       "          7, 42, 81, 17,  8, 50, 88, 14,  8, 60, 88, 14,  8, 62, 88, 14,  7, 48,\n",
       "         81, 17,  6, 47, 88, 14, 77,  5, 60, 88, 17,  7, 41, 81, 17,  7, 62, 88,\n",
       "         17, 21, 67, 88, 14,  8,  5, 49, 88, 14,  7, 46, 81, 14,  7, 57, 54, 10,\n",
       "          7, 42, 81, 13,  9, 44, 20, 17,  7, 50, 98, 14,  6, 60, 98, 14,  8, 62,\n",
       "         98, 17,  7, 48, 88, 17,  6, 47, 98, 15,  8]),\n",
       " 'chroma': tensor([25, 17,  9, 13,  6, 17,  9, 13,  6, 17,  9, 10,  7, 17,  9,  8, 10,  7,\n",
       "         17,  9,  8,  6, 17,  9,  8,  6, 17,  5,  7, 17,  5, 14,  7, 17,  5, 14,\n",
       "          7, 17,  5, 14,  7, 17,  5,  6,  7, 17,  5,  6, 12, 17,  5,  6, 12, 17,\n",
       "          9,  5,  6, 12, 17,  9,  6, 17,  9,  6, 17,  9, 13, 10,  6, 17,  9,  5,\n",
       "         13, 10,  6, 12, 17,  9, 10,  7, 17,  9, 10,  7, 17,  9, 10,  7, 17,  9,\n",
       "         10,  6,  7, 12, 17,  5,  6,  7, 12, 17,  5,  6, 12, 17,  5,  6, 12, 17,\n",
       "          5, 10,  6, 12, 17,  5,  6,  7, 17,  5,  6, 12, 17,  5,  6, 12, 17,  9,\n",
       "          5,  6, 12, 17,  9,  6, 17,  9,  6, 17,  9,  5, 13,  6, 17,  9,  5, 13,\n",
       "          6, 12, 17,  9, 10,  7, 17,  9,  8, 10,  7, 17,  9,  8,  6, 17,  9,  8,\n",
       "          6, 17,  5,  7, 17,  9,  5, 14,  7, 17]),\n",
       " 'text': tensor([    0,   102,  3495, 38963,  8913,     2]),\n",
       " 'accomp': tensor([  5,  40,  97, 130,  13,  89,  39,  99, 107,  28,  49,  73, 129,   7,\n",
       "          46,  70,  17,  21,  57,  99,  32,  28,  56,  80,  11,   8,  50, 106,\n",
       "          13,  76,  36,  12,   6,  22,  12,   9,  37,  80,  16,  28,  60,  36,\n",
       "          12,   7,  41,  36,  13,   6,  19,  10,   6,  62,  80,  32,   6,  48,\n",
       "          36,  13,   7,  22,  13,   7,  67, 130,  10,  77,  80,  10,   6,  43,\n",
       "          82,   9,   5,  39,  99, 119,  28,  49,  80,  10,  28,  46,  27,  10,\n",
       "           6,  57,  99,  32,   8,  42,  80,  16,   7,  43,  13,   8,  27,  13,\n",
       "           8,  19,  10,   9,  56,  80,  32,   7,  50, 121,  17,  84,  73,  13,\n",
       "           8,  37,  91, 124,   9,  60,  73,  17,   8,  41,  22,  15,   8,  62,\n",
       "          91,  32,  45,  48,  73,  12,  28,  65,  33,  13,   8,  47,  22,  13,\n",
       "           6,  67, 121,  17,  84,  73,  11,   8,  33,  12,   9,  22,  82,   9,\n",
       "          20,  10,   9,   5,  39,  91, 119,  45,  57,  73,  14,   6,  33,  14,\n",
       "           8,  22,  13,   9,  42,  91,  13,  21,  56,  73,  15,   7,  44,  73,\n",
       "          10,   6,  33,  13,   6,  22,  32,   6,  20,  10,   6,  50,  99,  13,\n",
       "          89,  37,  73,  32,  28,  60,  27,  10,   6,  41,  22,  17,   6,  62,\n",
       "          73,  87,   8,  48,  25,  10,   7,  65,  73, 147,   7,  67,  99,  13,\n",
       "          77,  27,  12,   6,  20,  10,   6,   5,  39,  73,  82,  28,  49,  27,\n",
       "         107,   7,  46,  27,  10,   9,  25,  10,  28,  42,  73,  16,   6,  56,\n",
       "          27,  14,   7,  50, 130,  13,  84,  80,  10,   6,  27,  11,   8,  37,\n",
       "          99,  82,  77,  60,  80,  16,   7,  41,  80, 107,  21,  19,  10,  21,\n",
       "          47,  80,  17,   8,  27,  11,   8,  67, 130,  13,  89,   5,  39,  99,\n",
       "         107,  28,  49,  73, 129,   7,  34,  17,   7,  46,  70,  17,  21,  54,\n",
       "          17,   6,  57,  99,  32,  28,  34,  15,   6,  42,  20,  17,   6,  56,\n",
       "          80,  11,   8,  19,  17,   6,  44,  25,  12,   6,  50, 106,  11,  89,\n",
       "          80,  13,   6,  36,  12,   8,  19,  17,  76,  60,  80, 129,   7,  41,\n",
       "          22,  17,   9,  48,  36,  12,   6,  65,  80,  11,   8,  67, 106,  10,\n",
       "          77,  80,  12,   6,  36,  16,   9,   5,  49,  80, 124,   7,  46,  80,\n",
       "          10,   6,  22,  10,   9,  42,  80,  13,   7,  36,  10,   6,  56,  80,\n",
       "          10,   7,  50,  99,  13,  89,  27,  10,   6,  25,  10,   8,  37,  73,\n",
       "          87,  77,  60,  27,  82,   6,  41,  22,  14,   8,  48,  25,  17,   8,\n",
       "          67,  99,  13,  84,  27,  10,   6,  19,  14,   7,  20,  10,   9,   5,\n",
       "          39,  73,  92,  28,  25,  17,   6,  49,  27,  10,  77,  46,  25,  13,\n",
       "          21,  42,  73,  12,  28,  56,  36,  10,   9,  44,  25,  10,   6,  50,\n",
       "          99,  13,  89,  27,  10,  76,  37,  73,  32,  28,  41,  22,  17,   6,\n",
       "          62,  73,  87,   8,  48,  25,  10,   7,  65,  73, 147,   7,  67,  99,\n",
       "          13,  77,  27,  12,   6,  20,  10,   6,   5,  39,  73,  82,  28,  49,\n",
       "          27, 107,   7,  46,  27,  10,   9,  25,  10,  28,  42,  73,  16,   6,\n",
       "          56,  27,  14,   7,  50, 130,  13,  84,  80,  10,   6,  27,  11,   8,\n",
       "          37,  99,  82,  77,  60,  80,  16,   7,  41,  80, 107,  21,  19,  10,\n",
       "          21,  47,  80,  17,   8,  27,  11,   8,  67, 130,  13,  89,   5,  39,\n",
       "          99, 107,  28,  49,  73, 129,   7,  46,  70,  17,  21,  20,  17,   6,\n",
       "          57,  99,  32,  28,  19,  15,   6,  42,  20,  11,   6,  56,  80,  11,\n",
       "           8,  19,  10,   6,  44,  25,  11,   6,  50, 106,  13,  76,  36,  17,\n",
       "          76,  22,  12,   9,  37,  80,  16,  28,  41,  19,  10,   6,  62,  80,\n",
       "          32,   6,  48,  36,  13,   7,  22,  13,   7,  67, 130,  10,  77,  80,\n",
       "          10,   6,  43,  82,   9,   5,  39,  99, 119,  28,  49,  80,  10,  28,\n",
       "          46,  27,  10,   6,  57,  99,  32,   8,  42,  80,  16,   7,  43,  13,\n",
       "           8,  27,  13,   8,  19,  10,   9,  56,  80,  32,   7,  50, 121,  17,\n",
       "          84,  73,  13,   8,  37,  91, 124,   9,  60,  73,  10,   9,  41,  22,\n",
       "          15,   8,  62,  91,  32,  45,  27,  13,   6,  48,  73,  12,  28,  22,\n",
       "          14,   6,  65,  33,  13,   8,  19,  17,   8,  47,  22,  13,   6,  67,\n",
       "         121,  17,   7,  73,  11,   7,  33,  12,   7,  22,  15,   7,  20,  17,\n",
       "           7])}"
      ]
     },
     "execution_count": 6,
     "metadata": {},
     "output_type": "execute_result"
    }
   ],
   "source": [
    "d0"
   ]
  },
  {
   "cell_type": "code",
   "execution_count": 7,
   "metadata": {},
   "outputs": [],
   "source": [
    "custom_collate_fn = MelCATCollator(max_seq_lens=dataset.max_seq_lengths, padding_values=dataset.padding_values)"
   ]
  },
  {
   "cell_type": "code",
   "execution_count": 8,
   "metadata": {},
   "outputs": [],
   "source": [
    "dataloader = DataLoader(dataset, batch_size=4, collate_fn=custom_collate_fn)"
   ]
  },
  {
   "cell_type": "code",
   "execution_count": 9,
   "metadata": {},
   "outputs": [],
   "source": [
    "b = next(iter(dataloader))"
   ]
  },
  {
   "cell_type": "code",
   "execution_count": 10,
   "metadata": {},
   "outputs": [
    {
     "name": "stdout",
     "output_type": "stream",
     "text": [
      "{'melody': {'input_ids': tensor([[  5,  40,  97,  ...,  98,  14,   7],\n",
      "        [  5,  40,  96,  ...,   3,   3,   3],\n",
      "        [  5,  40,  97,  ...,   3,   3,   3],\n",
      "        [  5,  40, 116,  ...,   3,   3,   3]]), 'attention_mask': tensor([[1, 1, 1,  ..., 1, 1, 1],\n",
      "        [1, 1, 1,  ..., 0, 0, 0],\n",
      "        [1, 1, 1,  ..., 0, 0, 0],\n",
      "        [1, 1, 1,  ..., 0, 0, 0]])}, 'chroma': {'input_ids': tensor([[25, 17,  9,  8,  6, 17,  9,  8,  6, 17, 13,  6, 12, 17,  9,  5, 13,  6,\n",
      "         12, 17,  5, 14,  6,  7, 17,  5, 10, 14,  6,  7, 17,  5,  6, 12, 17,  5,\n",
      "          6, 12, 17,  5, 10,  6, 12, 17,  5, 10,  6, 12, 17,  9, 10,  6, 17,  9,\n",
      "         13, 10,  6, 17,  9, 13,  6, 17,  9,  5,  6, 12, 17,  9, 10,  7, 17,  9,\n",
      "         10, 17,  9,  8,  6, 17,  9,  8,  6, 17,  5, 10,  7, 17,  9,  5, 10,  7,\n",
      "         17,  5,  6, 12, 17,  5,  6, 12, 17,  5,  6, 12, 17,  5,  6, 12, 17,  5,\n",
      "          6, 12, 17,  5,  6, 12, 17,  9, 13,  6, 17,  9, 13,  6, 17,  9, 13,  6,\n",
      "         17,  9,  5, 13,  6, 17,  9, 10,  7, 17,  9, 10, 17,  9,  8,  6, 17,  9,\n",
      "          8,  6, 17, 13,  6, 12, 17, 13,  6, 12, 17,  5, 14,  7, 17,  5, 14,  7,\n",
      "         12, 17,  5,  6, 12, 17,  5,  6, 12, 17,  3,  3],\n",
      "        [25, 17,  9, 13,  6, 12, 17,  9, 13, 15, 17,  9, 13, 15, 17,  9, 13, 12,\n",
      "         17, 13,  6, 12, 17,  9, 10, 15, 17,  9, 10, 15, 17,  9, 10, 15, 17,  9,\n",
      "         10, 15, 17, 10, 15, 12, 17, 16, 10, 12, 17, 10, 12, 17, 16, 10, 12, 17,\n",
      "          9, 16,  6, 12, 17,  9, 13,  6, 17,  9, 13,  6, 17,  9, 13, 10,  6, 17,\n",
      "          9, 10,  6, 17,  9, 10,  6, 15, 17,  9, 10, 15, 12, 17,  9, 10, 15, 12,\n",
      "         17,  9, 10, 12, 17,  9,  5, 10, 17,  9,  5, 13, 10, 17, 16, 13, 10, 15,\n",
      "         17, 16, 10, 15, 17, 16, 10, 15, 12, 17,  9, 16, 10, 15, 17,  9, 16, 10,\n",
      "         15, 12, 17, 13, 10,  6, 12, 17, 13,  6, 12, 17, 13, 12, 17,  9, 13,  6,\n",
      "         12, 17,  9, 13, 15, 17,  9, 13, 15, 17,  9, 13, 12, 17, 13,  6, 12, 17,\n",
      "          9, 10, 15, 17,  9, 10, 15, 17,  9, 10, 15, 17],\n",
      "        [25, 17, 16,  8,  7, 17, 14, 11, 17, 14, 11, 17, 16,  8, 15, 17, 16, 15,\n",
      "         17, 16, 15, 17, 16, 15, 17,  5, 11, 17,  5, 17,  5,  7, 17,  5,  8, 14,\n",
      "         15, 17, 10, 12, 17,  5, 17,  5, 10, 12, 17,  5, 10, 12, 17,  9,  6, 17,\n",
      "          9,  6, 17,  9,  6,  7, 17,  9,  6, 17,  9,  5, 17,  9,  6, 17,  9,  8,\n",
      "          6, 17,  9,  8,  6, 17,  9,  5, 10, 12, 17,  5, 10, 12, 17,  9,  5,  6,\n",
      "         17, 12, 17,  9,  8,  7, 17,  9,  7, 17,  5,  7, 17,  5, 17,  5,  6, 12,\n",
      "         17,  5,  6, 12, 17,  9,  6, 17,  9, 10,  6, 17,  9, 10,  7, 17,  9, 10,\n",
      "          7, 17,  9, 10, 17,  9, 17, 12, 17,  3,  3,  3,  3,  3,  3,  3,  3,  3,\n",
      "          3,  3,  3,  3,  3,  3,  3,  3,  3,  3,  3,  3,  3,  3,  3,  3,  3,  3,\n",
      "          3,  3,  3,  3,  3,  3,  3,  3,  3,  3,  3,  3],\n",
      "        [25, 17, 13, 12, 17, 13, 10, 12, 17, 16, 13, 10, 12, 17,  9, 16, 13, 10,\n",
      "         17,  9, 13, 10, 17,  9, 13, 10, 15, 17,  9, 13, 10, 15, 17,  9, 16, 10,\n",
      "         12, 17, 16, 10, 12, 17, 16, 10, 12, 17, 16, 10, 15, 12, 17, 16, 12, 17,\n",
      "         10, 12, 17, 16, 10, 12, 17, 16, 10, 12, 17,  9, 10, 12, 17,  9, 10, 15,\n",
      "         17,  9, 10, 15, 12, 17,  9, 10, 15, 17, 13, 10, 15, 12, 17, 13, 12, 17,\n",
      "         13, 14, 12, 17, 13, 14, 12, 17,  9, 10, 17,  9, 10, 15, 17,  9, 10, 12,\n",
      "         17,  9, 10, 15, 12, 17, 10, 15, 12, 17, 10, 12, 17, 16, 10, 12, 17, 16,\n",
      "         10, 12, 17, 13, 12, 17, 13, 14, 12, 17, 13, 14, 12, 17, 13, 10, 14, 12,\n",
      "         17, 16, 13, 10, 12, 17,  9, 13, 10, 17,  9, 13, 10, 15, 17,  9, 13, 10,\n",
      "         15, 17,  9, 16, 10, 12, 17,  3,  3,  3,  3,  3]]), 'attention_mask': tensor([[1, 1, 1, 1, 1, 1, 1, 1, 1, 1, 1, 1, 1, 1, 1, 1, 1, 1, 1, 1, 1, 1, 1, 1,\n",
      "         1, 1, 1, 1, 1, 1, 1, 1, 1, 1, 1, 1, 1, 1, 1, 1, 1, 1, 1, 1, 1, 1, 1, 1,\n",
      "         1, 1, 1, 1, 1, 1, 1, 1, 1, 1, 1, 1, 1, 1, 1, 1, 1, 1, 1, 1, 1, 1, 1, 1,\n",
      "         1, 1, 1, 1, 1, 1, 1, 1, 1, 1, 1, 1, 1, 1, 1, 1, 1, 1, 1, 1, 1, 1, 1, 1,\n",
      "         1, 1, 1, 1, 1, 1, 1, 1, 1, 1, 1, 1, 1, 1, 1, 1, 1, 1, 1, 1, 1, 1, 1, 1,\n",
      "         1, 1, 1, 1, 1, 1, 1, 1, 1, 1, 1, 1, 1, 1, 1, 1, 1, 1, 1, 1, 1, 1, 1, 1,\n",
      "         1, 1, 1, 1, 1, 1, 1, 1, 1, 1, 1, 1, 1, 1, 1, 1, 1, 1, 1, 1, 1, 1, 1, 1,\n",
      "         1, 1, 1, 1, 0, 0],\n",
      "        [1, 1, 1, 1, 1, 1, 1, 1, 1, 1, 1, 1, 1, 1, 1, 1, 1, 1, 1, 1, 1, 1, 1, 1,\n",
      "         1, 1, 1, 1, 1, 1, 1, 1, 1, 1, 1, 1, 1, 1, 1, 1, 1, 1, 1, 1, 1, 1, 1, 1,\n",
      "         1, 1, 1, 1, 1, 1, 1, 1, 1, 1, 1, 1, 1, 1, 1, 1, 1, 1, 1, 1, 1, 1, 1, 1,\n",
      "         1, 1, 1, 1, 1, 1, 1, 1, 1, 1, 1, 1, 1, 1, 1, 1, 1, 1, 1, 1, 1, 1, 1, 1,\n",
      "         1, 1, 1, 1, 1, 1, 1, 1, 1, 1, 1, 1, 1, 1, 1, 1, 1, 1, 1, 1, 1, 1, 1, 1,\n",
      "         1, 1, 1, 1, 1, 1, 1, 1, 1, 1, 1, 1, 1, 1, 1, 1, 1, 1, 1, 1, 1, 1, 1, 1,\n",
      "         1, 1, 1, 1, 1, 1, 1, 1, 1, 1, 1, 1, 1, 1, 1, 1, 1, 1, 1, 1, 1, 1, 1, 1,\n",
      "         1, 1, 1, 1, 1, 1],\n",
      "        [1, 1, 1, 1, 1, 1, 1, 1, 1, 1, 1, 1, 1, 1, 1, 1, 1, 1, 1, 1, 1, 1, 1, 1,\n",
      "         1, 1, 1, 1, 1, 1, 1, 1, 1, 1, 1, 1, 1, 1, 1, 1, 1, 1, 1, 1, 1, 1, 1, 1,\n",
      "         1, 1, 1, 1, 1, 1, 1, 1, 1, 1, 1, 1, 1, 1, 1, 1, 1, 1, 1, 1, 1, 1, 1, 1,\n",
      "         1, 1, 1, 1, 1, 1, 1, 1, 1, 1, 1, 1, 1, 1, 1, 1, 1, 1, 1, 1, 1, 1, 1, 1,\n",
      "         1, 1, 1, 1, 1, 1, 1, 1, 1, 1, 1, 1, 1, 1, 1, 1, 1, 1, 1, 1, 1, 1, 1, 1,\n",
      "         1, 1, 1, 1, 1, 1, 1, 1, 1, 1, 1, 1, 1, 1, 1, 0, 0, 0, 0, 0, 0, 0, 0, 0,\n",
      "         0, 0, 0, 0, 0, 0, 0, 0, 0, 0, 0, 0, 0, 0, 0, 0, 0, 0, 0, 0, 0, 0, 0, 0,\n",
      "         0, 0, 0, 0, 0, 0],\n",
      "        [1, 1, 1, 1, 1, 1, 1, 1, 1, 1, 1, 1, 1, 1, 1, 1, 1, 1, 1, 1, 1, 1, 1, 1,\n",
      "         1, 1, 1, 1, 1, 1, 1, 1, 1, 1, 1, 1, 1, 1, 1, 1, 1, 1, 1, 1, 1, 1, 1, 1,\n",
      "         1, 1, 1, 1, 1, 1, 1, 1, 1, 1, 1, 1, 1, 1, 1, 1, 1, 1, 1, 1, 1, 1, 1, 1,\n",
      "         1, 1, 1, 1, 1, 1, 1, 1, 1, 1, 1, 1, 1, 1, 1, 1, 1, 1, 1, 1, 1, 1, 1, 1,\n",
      "         1, 1, 1, 1, 1, 1, 1, 1, 1, 1, 1, 1, 1, 1, 1, 1, 1, 1, 1, 1, 1, 1, 1, 1,\n",
      "         1, 1, 1, 1, 1, 1, 1, 1, 1, 1, 1, 1, 1, 1, 1, 1, 1, 1, 1, 1, 1, 1, 1, 1,\n",
      "         1, 1, 1, 1, 1, 1, 1, 1, 1, 1, 1, 1, 1, 1, 1, 1, 1, 1, 1, 1, 1, 1, 1, 1,\n",
      "         1, 0, 0, 0, 0, 0]])}, 'text': {'input_ids': tensor([[    0,   102,  3495,  2125,     2,     1,     1,     1],\n",
      "        [    0,   102,  3495, 38963,  8913,     2,     1,     1],\n",
      "        [    0,   102,  3495,  2125,     2,     1,     1,     1],\n",
      "        [    0,   102,  2125,    11,     5,  3495,  2496,     2]]), 'attention_mask': tensor([[1, 1, 1, 1, 1, 0, 0, 0],\n",
      "        [1, 1, 1, 1, 1, 1, 0, 0],\n",
      "        [1, 1, 1, 1, 1, 0, 0, 0],\n",
      "        [1, 1, 1, 1, 1, 1, 1, 1]])}, 'accomp': {'input_ids': tensor([[  5,  40,  97,  ...,  73,  32,   7],\n",
      "        [  5,  40,  96,  ...,   3,   3,   3],\n",
      "        [  5,  40,  97,  ...,   3,   3,   3],\n",
      "        [  5,  40, 116,  ...,   3,   3,   3]]), 'attention_mask': tensor([[1, 1, 1,  ..., 1, 1, 1],\n",
      "        [1, 1, 1,  ..., 0, 0, 0],\n",
      "        [1, 1, 1,  ..., 0, 0, 0],\n",
      "        [1, 1, 1,  ..., 0, 0, 0]])}}\n"
     ]
    }
   ],
   "source": [
    "print(b)\n",
    "# print(len(b['melody']['input_ids']))\n",
    "# print(len(b['accomp']['input_ids']))"
   ]
  },
  {
   "cell_type": "code",
   "execution_count": 14,
   "metadata": {},
   "outputs": [
    {
     "name": "stdout",
     "output_type": "stream",
     "text": [
      "torch.Size([4, 402])\n",
      "torch.Size([4, 402])\n",
      "torch.Size([4, 40])\n",
      "torch.Size([4, 40])\n",
      "torch.Size([4, 301])\n",
      "torch.Size([4, 301])\n",
      "torch.Size([4, 889])\n",
      "torch.Size([4, 889])\n"
     ]
    }
   ],
   "source": [
    "print(b['melody']['input_ids'].shape)\n",
    "print(b['melody']['attention_mask'].shape)\n",
    "print(b['text']['input_ids'].shape)\n",
    "print(b['text']['attention_mask'].shape)\n",
    "print(b['chroma']['input_ids'].shape)\n",
    "print(b['chroma']['attention_mask'].shape)\n",
    "print(b['accomp']['input_ids'].shape)\n",
    "print(b['accomp']['attention_mask'].shape)"
   ]
  }
 ],
 "metadata": {
  "kernelspec": {
   "display_name": "chart_acc_gen",
   "language": "python",
   "name": "python3"
  },
  "language_info": {
   "codemirror_mode": {
    "name": "ipython",
    "version": 3
   },
   "file_extension": ".py",
   "mimetype": "text/x-python",
   "name": "python",
   "nbconvert_exporter": "python",
   "pygments_lexer": "ipython3",
   "version": "3.11.5"
  }
 },
 "nbformat": 4,
 "nbformat_minor": 2
}
