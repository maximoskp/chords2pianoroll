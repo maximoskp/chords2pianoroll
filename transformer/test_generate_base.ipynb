{
 "cells": [
  {
   "cell_type": "code",
   "execution_count": 29,
   "metadata": {},
   "outputs": [
    {
     "name": "stderr",
     "output_type": "stream",
     "text": [
      "Some weights of RobertaModel were not initialized from the model checkpoint at roberta-base and are newly initialized: ['roberta.pooler.dense.bias', 'roberta.pooler.dense.weight']\n",
      "You should probably TRAIN this model on a down-stream task to be able to use it for predictions and inference.\n",
      "Some weights of RobertaModel were not initialized from the model checkpoint at /media/datadisk/data/pretrained_models/midi_mlm_tiny/checkpoint-46080 and are newly initialized: ['roberta.pooler.dense.bias', 'roberta.pooler.dense.weight']\n",
      "You should probably TRAIN this model on a down-stream task to be able to use it for predictions and inference.\n",
      "Some weights of RobertaModel were not initialized from the model checkpoint at /media/datadisk/data/pretrained_models/chroma_mlm_tiny/checkpoint-14336 and are newly initialized: ['roberta.pooler.dense.bias', 'roberta.pooler.dense.weight']\n",
      "You should probably TRAIN this model on a down-stream task to be able to use it for predictions and inference.\n"
     ]
    },
    {
     "data": {
      "text/plain": [
       "MelCAT_base(\n",
       "  (text_encoder): RobertaModel(\n",
       "    (embeddings): RobertaEmbeddings(\n",
       "      (word_embeddings): Embedding(50265, 768, padding_idx=1)\n",
       "      (position_embeddings): Embedding(514, 768, padding_idx=1)\n",
       "      (token_type_embeddings): Embedding(1, 768)\n",
       "      (LayerNorm): LayerNorm((768,), eps=1e-05, elementwise_affine=True)\n",
       "      (dropout): Dropout(p=0.1, inplace=False)\n",
       "    )\n",
       "    (encoder): RobertaEncoder(\n",
       "      (layer): ModuleList(\n",
       "        (0-11): 12 x RobertaLayer(\n",
       "          (attention): RobertaAttention(\n",
       "            (self): RobertaSdpaSelfAttention(\n",
       "              (query): Linear(in_features=768, out_features=768, bias=True)\n",
       "              (key): Linear(in_features=768, out_features=768, bias=True)\n",
       "              (value): Linear(in_features=768, out_features=768, bias=True)\n",
       "              (dropout): Dropout(p=0.1, inplace=False)\n",
       "            )\n",
       "            (output): RobertaSelfOutput(\n",
       "              (dense): Linear(in_features=768, out_features=768, bias=True)\n",
       "              (LayerNorm): LayerNorm((768,), eps=1e-05, elementwise_affine=True)\n",
       "              (dropout): Dropout(p=0.1, inplace=False)\n",
       "            )\n",
       "          )\n",
       "          (intermediate): RobertaIntermediate(\n",
       "            (dense): Linear(in_features=768, out_features=3072, bias=True)\n",
       "            (intermediate_act_fn): GELUActivation()\n",
       "          )\n",
       "          (output): RobertaOutput(\n",
       "            (dense): Linear(in_features=3072, out_features=768, bias=True)\n",
       "            (LayerNorm): LayerNorm((768,), eps=1e-05, elementwise_affine=True)\n",
       "            (dropout): Dropout(p=0.1, inplace=False)\n",
       "          )\n",
       "        )\n",
       "      )\n",
       "    )\n",
       "    (pooler): RobertaPooler(\n",
       "      (dense): Linear(in_features=768, out_features=768, bias=True)\n",
       "      (activation): Tanh()\n",
       "    )\n",
       "  )\n",
       "  (text_lstm): LSTM(768, 256, batch_first=True)\n",
       "  (midi_encoder): RobertaModel(\n",
       "    (embeddings): RobertaEmbeddings(\n",
       "      (word_embeddings): Embedding(170, 256, padding_idx=3)\n",
       "      (position_embeddings): Embedding(2048, 256, padding_idx=3)\n",
       "      (token_type_embeddings): Embedding(2, 256)\n",
       "      (LayerNorm): LayerNorm((256,), eps=1e-12, elementwise_affine=True)\n",
       "      (dropout): Dropout(p=0.1, inplace=False)\n",
       "    )\n",
       "    (encoder): RobertaEncoder(\n",
       "      (layer): ModuleList(\n",
       "        (0-3): 4 x RobertaLayer(\n",
       "          (attention): RobertaAttention(\n",
       "            (self): RobertaSdpaSelfAttention(\n",
       "              (query): Linear(in_features=256, out_features=256, bias=True)\n",
       "              (key): Linear(in_features=256, out_features=256, bias=True)\n",
       "              (value): Linear(in_features=256, out_features=256, bias=True)\n",
       "              (dropout): Dropout(p=0.1, inplace=False)\n",
       "            )\n",
       "            (output): RobertaSelfOutput(\n",
       "              (dense): Linear(in_features=256, out_features=256, bias=True)\n",
       "              (LayerNorm): LayerNorm((256,), eps=1e-12, elementwise_affine=True)\n",
       "              (dropout): Dropout(p=0.1, inplace=False)\n",
       "            )\n",
       "          )\n",
       "          (intermediate): RobertaIntermediate(\n",
       "            (dense): Linear(in_features=256, out_features=3072, bias=True)\n",
       "            (intermediate_act_fn): GELUActivation()\n",
       "          )\n",
       "          (output): RobertaOutput(\n",
       "            (dense): Linear(in_features=3072, out_features=256, bias=True)\n",
       "            (LayerNorm): LayerNorm((256,), eps=1e-12, elementwise_affine=True)\n",
       "            (dropout): Dropout(p=0.1, inplace=False)\n",
       "          )\n",
       "        )\n",
       "      )\n",
       "    )\n",
       "    (pooler): RobertaPooler(\n",
       "      (dense): Linear(in_features=256, out_features=256, bias=True)\n",
       "      (activation): Tanh()\n",
       "    )\n",
       "  )\n",
       "  (chroma_encoder): RobertaModel(\n",
       "    (embeddings): RobertaEmbeddings(\n",
       "      (word_embeddings): Embedding(26, 256, padding_idx=3)\n",
       "      (position_embeddings): Embedding(2048, 256, padding_idx=3)\n",
       "      (token_type_embeddings): Embedding(2, 256)\n",
       "      (LayerNorm): LayerNorm((256,), eps=1e-12, elementwise_affine=True)\n",
       "      (dropout): Dropout(p=0.1, inplace=False)\n",
       "    )\n",
       "    (encoder): RobertaEncoder(\n",
       "      (layer): ModuleList(\n",
       "        (0-3): 4 x RobertaLayer(\n",
       "          (attention): RobertaAttention(\n",
       "            (self): RobertaSdpaSelfAttention(\n",
       "              (query): Linear(in_features=256, out_features=256, bias=True)\n",
       "              (key): Linear(in_features=256, out_features=256, bias=True)\n",
       "              (value): Linear(in_features=256, out_features=256, bias=True)\n",
       "              (dropout): Dropout(p=0.1, inplace=False)\n",
       "            )\n",
       "            (output): RobertaSelfOutput(\n",
       "              (dense): Linear(in_features=256, out_features=256, bias=True)\n",
       "              (LayerNorm): LayerNorm((256,), eps=1e-12, elementwise_affine=True)\n",
       "              (dropout): Dropout(p=0.1, inplace=False)\n",
       "            )\n",
       "          )\n",
       "          (intermediate): RobertaIntermediate(\n",
       "            (dense): Linear(in_features=256, out_features=3072, bias=True)\n",
       "            (intermediate_act_fn): GELUActivation()\n",
       "          )\n",
       "          (output): RobertaOutput(\n",
       "            (dense): Linear(in_features=3072, out_features=256, bias=True)\n",
       "            (LayerNorm): LayerNorm((256,), eps=1e-12, elementwise_affine=True)\n",
       "            (dropout): Dropout(p=0.1, inplace=False)\n",
       "          )\n",
       "        )\n",
       "      )\n",
       "    )\n",
       "    (pooler): RobertaPooler(\n",
       "      (dense): Linear(in_features=256, out_features=256, bias=True)\n",
       "      (activation): Tanh()\n",
       "    )\n",
       "  )\n",
       "  (bart_model): BartForConditionalGeneration(\n",
       "    (model): BartModel(\n",
       "      (shared): BartScaledWordEmbedding(170, 256, padding_idx=3)\n",
       "      (encoder): BartEncoder(\n",
       "        (embed_tokens): BartScaledWordEmbedding(170, 256, padding_idx=3)\n",
       "        (embed_positions): BartLearnedPositionalEmbedding(1026, 256)\n",
       "        (layers): ModuleList(\n",
       "          (0-7): 8 x BartEncoderLayer(\n",
       "            (self_attn): BartSdpaAttention(\n",
       "              (k_proj): Linear(in_features=256, out_features=256, bias=True)\n",
       "              (v_proj): Linear(in_features=256, out_features=256, bias=True)\n",
       "              (q_proj): Linear(in_features=256, out_features=256, bias=True)\n",
       "              (out_proj): Linear(in_features=256, out_features=256, bias=True)\n",
       "            )\n",
       "            (self_attn_layer_norm): LayerNorm((256,), eps=1e-05, elementwise_affine=True)\n",
       "            (activation_fn): GELUActivation()\n",
       "            (fc1): Linear(in_features=256, out_features=4096, bias=True)\n",
       "            (fc2): Linear(in_features=4096, out_features=256, bias=True)\n",
       "            (final_layer_norm): LayerNorm((256,), eps=1e-05, elementwise_affine=True)\n",
       "          )\n",
       "        )\n",
       "        (layernorm_embedding): LayerNorm((256,), eps=1e-05, elementwise_affine=True)\n",
       "      )\n",
       "      (decoder): BartDecoder(\n",
       "        (embed_tokens): BartScaledWordEmbedding(170, 256, padding_idx=3)\n",
       "        (embed_positions): BartLearnedPositionalEmbedding(1026, 256)\n",
       "        (layers): ModuleList(\n",
       "          (0-7): 8 x BartDecoderLayer(\n",
       "            (self_attn): BartSdpaAttention(\n",
       "              (k_proj): Linear(in_features=256, out_features=256, bias=True)\n",
       "              (v_proj): Linear(in_features=256, out_features=256, bias=True)\n",
       "              (q_proj): Linear(in_features=256, out_features=256, bias=True)\n",
       "              (out_proj): Linear(in_features=256, out_features=256, bias=True)\n",
       "            )\n",
       "            (activation_fn): GELUActivation()\n",
       "            (self_attn_layer_norm): LayerNorm((256,), eps=1e-05, elementwise_affine=True)\n",
       "            (encoder_attn): BartSdpaAttention(\n",
       "              (k_proj): Linear(in_features=256, out_features=256, bias=True)\n",
       "              (v_proj): Linear(in_features=256, out_features=256, bias=True)\n",
       "              (q_proj): Linear(in_features=256, out_features=256, bias=True)\n",
       "              (out_proj): Linear(in_features=256, out_features=256, bias=True)\n",
       "            )\n",
       "            (encoder_attn_layer_norm): LayerNorm((256,), eps=1e-05, elementwise_affine=True)\n",
       "            (fc1): Linear(in_features=256, out_features=4096, bias=True)\n",
       "            (fc2): Linear(in_features=4096, out_features=256, bias=True)\n",
       "            (final_layer_norm): LayerNorm((256,), eps=1e-05, elementwise_affine=True)\n",
       "          )\n",
       "        )\n",
       "        (layernorm_embedding): LayerNorm((256,), eps=1e-05, elementwise_affine=True)\n",
       "      )\n",
       "    )\n",
       "    (lm_head): Linear(in_features=256, out_features=170, bias=False)\n",
       "  )\n",
       ")"
      ]
     },
     "execution_count": 29,
     "metadata": {},
     "output_type": "execute_result"
    }
   ],
   "source": [
    "from transformers import BartForConditionalGeneration, BartConfig\n",
    "from transformers import RobertaTokenizerFast\n",
    "import torch\n",
    "from torch.utils.data import DataLoader\n",
    "\n",
    "from models import MelCAT_base\n",
    "from dataset_utils import LiveMelCATDataset, MelCATCollator\n",
    "\n",
    "from torch.nn import CrossEntropyLoss\n",
    "import torch.nn.functional as F\n",
    "\n",
    "import os\n",
    "import numpy as np\n",
    "import csv\n",
    "\n",
    "from tqdm import tqdm\n",
    "\n",
    "load_saved = True\n",
    "\n",
    "MAX_LENGTH = 1024\n",
    "\n",
    "roberta_tokenizer_midi = RobertaTokenizerFast.from_pretrained('/media/datadisk/data/pretrained_models/midi_mlm_tiny/midi_wordlevel_tokenizer')\n",
    "\n",
    "bart_config = BartConfig(\n",
    "    vocab_size=roberta_tokenizer_midi.vocab_size,\n",
    "    pad_token_id=roberta_tokenizer_midi.pad_token_id,\n",
    "    bos_token_id=roberta_tokenizer_midi.bos_token_id,\n",
    "    eos_token_id=roberta_tokenizer_midi.eos_token_id,\n",
    "    decoder_start_token_id=roberta_tokenizer_midi.bos_token_id,\n",
    "    forced_eos_token_id=roberta_tokenizer_midi.eos_token_id,\n",
    "    max_position_embeddings=MAX_LENGTH,\n",
    "    encoder_layers=8,\n",
    "    encoder_attention_heads=16,\n",
    "    encoder_ffn_dim=4096,\n",
    "    decoder_layers=8,\n",
    "    decoder_attention_heads=16,\n",
    "    decoder_ffn_dim=4096,\n",
    "    d_model=256,\n",
    "    encoder_layerdrop=0.3,\n",
    "    decoder_layerdrop=0.3,\n",
    "    dropout=0.3\n",
    ")\n",
    "\n",
    "\n",
    "# dev = torch.device(\"cuda:0\" if torch.cuda.is_available() else \"cpu\")\n",
    "dev = torch.device(\"cpu\")\n",
    "model = MelCAT_base(bart_config, gpu=None).to(dev)\n",
    "\n",
    "if load_saved:\n",
    "    checkpoint = torch.load('saved_models/bart_base/bart_base.pt', map_location=\"cpu\", weights_only=True)\n",
    "    model.load_state_dict(checkpoint)\n",
    "\n",
    "model.eval()"
   ]
  },
  {
   "cell_type": "code",
   "execution_count": 6,
   "metadata": {},
   "outputs": [
    {
     "name": "stderr",
     "output_type": "stream",
     "text": [
      "/home/maximos/anaconda3/envs/torch/lib/python3.11/site-packages/transformers/tokenization_utils_base.py:1617: FutureWarning: `clean_up_tokenization_spaces` was not set. It will be set to `True` by default. This behavior will be deprecated in transformers v4.45, and will be then set to `False` by default. For more details check this issue: https://github.com/huggingface/transformers/issues/31884\n",
      "  warnings.warn(\n"
     ]
    }
   ],
   "source": [
    "midifolder = '/media/datadisk/datasets/GiantMIDI-PIano/midis_v1.2/midis'\n",
    "# midifolder = '/media/datadisk/data/Giant_PIano/'\n",
    "dataset = LiveMelCATDataset(midifolder, segment_size=40, resolution=4, max_seq_len=1024, only_beginning=True)"
   ]
  },
  {
   "cell_type": "code",
   "execution_count": 11,
   "metadata": {},
   "outputs": [],
   "source": [
    "custom_collate_fn = MelCATCollator(max_seq_lens=dataset.max_seq_lengths, padding_values=dataset.padding_values)\n",
    "dataloader = DataLoader(dataset, batch_size=1, collate_fn=custom_collate_fn, drop_last=True)"
   ]
  },
  {
   "cell_type": "code",
   "execution_count": 13,
   "metadata": {},
   "outputs": [
    {
     "name": "stdout",
     "output_type": "stream",
     "text": [
      "{'melody': {'input_ids': tensor([[ 26,  70, 157,   5,  12,  26,  68,  97,  16,  29,   5,  12,   5,  10,\n",
      "          26,  92,  44,  19,  11,   5,  12,   5,   9,  91,  96,  24,  20,   5,\n",
      "           8,   5,  10,  26,  88,  59,  21,  20,   5,   8,   5,  10,  26,  61,\n",
      "          44,  16,  20,   5,  12,   5,  10,  62,  38,  13,  29,   5,  12,   5,\n",
      "          10,  93,  52,  16,   7,   5,   9,   5,   6,  26,  70,  55,  21,   7,\n",
      "           5,   9,   5,   6,  92,  59,  24,  11,   5,   8,   5,   9,  91,  96,\n",
      "          36,   7,   5,  25,   5,   6,  94, 102,  21,  20,   5,   8,   5,  10,\n",
      "          26,  66, 102,  16,  11,   5,  12,   5,   9,  68, 108,  21,  20,   5,\n",
      "           8,   5,  10,  94, 121,  21,  11,   5,  14,   5,   9,  26,  67, 118,\n",
      "          24,   7,   5,   9,   5,   6,  61,  96,  21,  20,   5,  12,   5,  10,\n",
      "          91, 118,  19,  20,   5,   8,   5,  10,  26,  70,  35,  13,  11,   5,\n",
      "          14,   5,   9,  92,  32,  16,   7,   5,   9,   5,   6,  90,  31,  24,\n",
      "           7,   5,  25,   5,   6,  68,  32,  24,  20,   5,  12,   5,  10,  65,\n",
      "         102,  21,   7,   5,  25,   5,   6,  62, 108,  24,  11,   5,  12,   5,\n",
      "           9,  93, 121,  24,  20,   5,   8,   5,  10]]), 'attention_mask': tensor([[1, 1, 1, 1, 1, 1, 1, 1, 1, 1, 1, 1, 1, 1, 1, 1, 1, 1, 1, 1, 1, 1, 1, 1,\n",
      "         1, 1, 1, 1, 1, 1, 1, 1, 1, 1, 1, 1, 1, 1, 1, 1, 1, 1, 1, 1, 1, 1, 1, 1,\n",
      "         1, 1, 1, 1, 1, 1, 1, 1, 1, 1, 1, 1, 1, 1, 1, 1, 1, 1, 1, 1, 1, 1, 1, 1,\n",
      "         1, 1, 1, 1, 1, 1, 1, 1, 1, 1, 1, 1, 1, 1, 1, 1, 1, 1, 1, 1, 1, 1, 1, 1,\n",
      "         1, 1, 1, 1, 1, 1, 1, 1, 1, 1, 1, 1, 1, 1, 1, 1, 1, 1, 1, 1, 1, 1, 1, 1,\n",
      "         1, 1, 1, 1, 1, 1, 1, 1, 1, 1, 1, 1, 1, 1, 1, 1, 1, 1, 1, 1, 1, 1, 1, 1,\n",
      "         1, 1, 1, 1, 1, 1, 1, 1, 1, 1, 1, 1, 1, 1, 1, 1, 1, 1, 1, 1, 1, 1, 1, 1,\n",
      "         1, 1, 1, 1, 1, 1, 1, 1, 1, 1, 1, 1, 1, 1, 1, 1, 1, 1, 1, 1, 1, 1, 1, 1,\n",
      "         1, 1, 1, 1, 1, 1, 1, 1, 1, 1, 1, 1, 1]])}, 'chroma': {'input_ids': tensor([[25, 17, 16, 10, 17, 16, 13, 10, 14,  7, 17,  9, 16,  5,  8, 10,  7, 17,\n",
      "          9, 16,  5, 10,  7, 17,  9, 16,  5, 10,  6, 17,  9, 16,  5, 10,  6, 17,\n",
      "          9,  5,  8, 10,  6,  7, 12, 17]]), 'attention_mask': tensor([[1, 1, 1, 1, 1, 1, 1, 1, 1, 1, 1, 1, 1, 1, 1, 1, 1, 1, 1, 1, 1, 1, 1, 1,\n",
      "         1, 1, 1, 1, 1, 1, 1, 1, 1, 1, 1, 1, 1, 1, 1, 1, 1, 1, 1, 1]])}, 'text': {'input_ids': tensor([[    0,  6209, 16266,   718,  1417,     6,  2668,   710,     6,  5519,\n",
      "          4058,   594,  5559,     6,   132,  1864,  1178,   257, 37912,   139,\n",
      "           565,   245,   495,   330,     4, 16079,     2]]), 'attention_mask': tensor([[1, 1, 1, 1, 1, 1, 1, 1, 1, 1, 1, 1, 1, 1, 1, 1, 1, 1, 1, 1, 1, 1, 1, 1,\n",
      "         1, 1, 1]])}, 'accomp': {'input_ids': tensor([[ 26,  70, 157,   5,  12,  26,  68,  37,  28,  20,   5,   8,   5,  10,\n",
      "          50,  18,  11,   5,  12,   5,   9,  62,  38,  16,   7,   5,   9,   5,\n",
      "           6,  64,  50,  19,   7,   5,   9,   5,   6,  69,  39,  19,   7,   5,\n",
      "           9,   5,   6,  26,  70,  34,  13,  11,   5,  12,   5,   9,  90,  40,\n",
      "          19,   7,   5,   9,   5,   6,  91,  41,  15,  20,   5,  12,   5,  10,\n",
      "          31,  19,  29,   5,  12,   5,  10,  65,  60,  24,  11,   5,  10,   5,\n",
      "           9,  62,  50,  21,   7,   5,  25,   5,   6,  93,  33,  13,  11,   5,\n",
      "          14,   5,   9,  38,  16,  20,   5,   8,   5,  10,  26,  67,  37,  13,\n",
      "           7,   5,  25,   5,   6,  90,  32,  21,   7,   5,   9,   5,   6,  91,\n",
      "          37,  19,  20,   5,   8,   5,  10,  94,  44,  16,   7,   5,  25,   5,\n",
      "           6,  64,  52,  21,  11,   5,  10,   5,   9,  69,  32,  19,   7,   5,\n",
      "           9,   5,   6,  26,  67,  31,  24,   7,   5,  25,   5,   6,  90,  32,\n",
      "          13,   7,   5,  10,   5,   6,  66,  37,  19,   7,   5,  25,   5,   6,\n",
      "          88,  35,  16,   7,   5,  25,   5,   6,  62,  33,  13,  95,   5,  12,\n",
      "           5,   8,  26,  70,  55,  21,   7,   5,  10,   5,   6,  92,  59,  24,\n",
      "           7,   5,  10,   5,   6,  90,  55,  24,  11,   5,   8,   5,   9,  91,\n",
      "          96,  36,   7,   5,  10,   5,   6,  94,  48,  13,  20,   5,   8,   5,\n",
      "          10,  93,  40,  16,   7,   5,  25,   5,   6,  26,  70,  37,  13,   7,\n",
      "           5,  25,   5,   6,  61,  32,  13,  29,   5,   8,   5,  10,  94,  35,\n",
      "          18,  95,   5,  12,   5,   8,  89, 118,  24,  11,   5,  12,   5,   9,\n",
      "          93, 113,  36,   7,   5,  25,   5,   6,  26,  67,  37,  15,  29,   5,\n",
      "          12,   5,  10,  88,  41,  16,   7,   5,  25,   5,   6,  62,  48,  16,\n",
      "           7,   5,   9,   5,   6,  64,  41,  13,   7,   5,  25,   5,   6,  26,\n",
      "          90,  31,  24,   7,   5,  10,   5,   6,  62, 108,  24,   7,   5,  10,\n",
      "           5,   6,  89, 102,  21,   7,   5,  25,   5,   6,  93,  49,  16,  95,\n",
      "           5,  12,   5,   8, 121,  24,   7,   5,  10,   5,   6,  69,  31,  13,\n",
      "          11,   5,  14,   5,   9, 108,  24,  11,   5,  14,   5,   9,  26,  92,\n",
      "         118,  24,   7,   5,  25,   5,   6,  90, 113,  24,   7,   5,  25,   5,\n",
      "           6,  91,  32,  16,  20,   5,  12,   5,  10, 118,  19,  20,   5,  12,\n",
      "           5,  10,  88, 113,  24,  11,   5,  10,   5,   9,  94,  96,  24,  11,\n",
      "           5,  12,   5,   9,  64,  46,  13,   7,   5,  25,   5,   6, 108,  21,\n",
      "           7,   5,  25,   5,   6]]), 'attention_mask': tensor([[1, 1, 1, 1, 1, 1, 1, 1, 1, 1, 1, 1, 1, 1, 1, 1, 1, 1, 1, 1, 1, 1, 1, 1,\n",
      "         1, 1, 1, 1, 1, 1, 1, 1, 1, 1, 1, 1, 1, 1, 1, 1, 1, 1, 1, 1, 1, 1, 1, 1,\n",
      "         1, 1, 1, 1, 1, 1, 1, 1, 1, 1, 1, 1, 1, 1, 1, 1, 1, 1, 1, 1, 1, 1, 1, 1,\n",
      "         1, 1, 1, 1, 1, 1, 1, 1, 1, 1, 1, 1, 1, 1, 1, 1, 1, 1, 1, 1, 1, 1, 1, 1,\n",
      "         1, 1, 1, 1, 1, 1, 1, 1, 1, 1, 1, 1, 1, 1, 1, 1, 1, 1, 1, 1, 1, 1, 1, 1,\n",
      "         1, 1, 1, 1, 1, 1, 1, 1, 1, 1, 1, 1, 1, 1, 1, 1, 1, 1, 1, 1, 1, 1, 1, 1,\n",
      "         1, 1, 1, 1, 1, 1, 1, 1, 1, 1, 1, 1, 1, 1, 1, 1, 1, 1, 1, 1, 1, 1, 1, 1,\n",
      "         1, 1, 1, 1, 1, 1, 1, 1, 1, 1, 1, 1, 1, 1, 1, 1, 1, 1, 1, 1, 1, 1, 1, 1,\n",
      "         1, 1, 1, 1, 1, 1, 1, 1, 1, 1, 1, 1, 1, 1, 1, 1, 1, 1, 1, 1, 1, 1, 1, 1,\n",
      "         1, 1, 1, 1, 1, 1, 1, 1, 1, 1, 1, 1, 1, 1, 1, 1, 1, 1, 1, 1, 1, 1, 1, 1,\n",
      "         1, 1, 1, 1, 1, 1, 1, 1, 1, 1, 1, 1, 1, 1, 1, 1, 1, 1, 1, 1, 1, 1, 1, 1,\n",
      "         1, 1, 1, 1, 1, 1, 1, 1, 1, 1, 1, 1, 1, 1, 1, 1, 1, 1, 1, 1, 1, 1, 1, 1,\n",
      "         1, 1, 1, 1, 1, 1, 1, 1, 1, 1, 1, 1, 1, 1, 1, 1, 1, 1, 1, 1, 1, 1, 1, 1,\n",
      "         1, 1, 1, 1, 1, 1, 1, 1, 1, 1, 1, 1, 1, 1, 1, 1, 1, 1, 1, 1, 1, 1, 1, 1,\n",
      "         1, 1, 1, 1, 1, 1, 1, 1, 1, 1, 1, 1, 1, 1, 1, 1, 1, 1, 1, 1, 1, 1, 1, 1,\n",
      "         1, 1, 1, 1, 1, 1, 1, 1, 1, 1, 1, 1, 1, 1, 1, 1, 1, 1, 1, 1, 1, 1, 1, 1,\n",
      "         1, 1, 1, 1, 1, 1, 1, 1, 1, 1, 1, 1, 1, 1, 1, 1, 1, 1, 1, 1, 1, 1, 1, 1,\n",
      "         1, 1, 1, 1, 1, 1, 1, 1, 1, 1, 1, 1, 1, 1, 1, 1, 1, 1, 1, 1, 1, 1, 1, 1,\n",
      "         1, 1, 1, 1, 1, 1, 1]])}}\n"
     ]
    }
   ],
   "source": [
    "d = next(iter(dataloader))\n",
    "print(d)"
   ]
  },
  {
   "cell_type": "code",
   "execution_count": 16,
   "metadata": {},
   "outputs": [
    {
     "name": "stdout",
     "output_type": "stream",
     "text": [
      "{'input_ids': tensor([[ 26,  70, 157,   5,  12,  26,  68,  37,  28,  20,   5,   8,   5,  10,\n",
      "          50,  18,  11,   5,  12,   5,   9,  62,  38,  16,   7,   5,   9,   5,\n",
      "           6,  64,  50,  19,   7,   5,   9,   5,   6,  69,  39,  19,   7,   5,\n",
      "           9,   5,   6,  26,  70,  34,  13,  11,   5,  12,   5,   9,  90,  40,\n",
      "          19,   7,   5,   9,   5,   6,  91,  41,  15,  20,   5,  12,   5,  10,\n",
      "          31,  19,  29,   5,  12,   5,  10,  65,  60,  24,  11,   5,  10,   5,\n",
      "           9,  62,  50,  21,   7,   5,  25,   5,   6,  93,  33,  13,  11,   5,\n",
      "          14,   5,   9,  38,  16,  20,   5,   8,   5,  10,  26,  67,  37,  13,\n",
      "           7,   5,  25,   5,   6,  90,  32,  21,   7,   5,   9,   5,   6,  91,\n",
      "          37,  19,  20,   5,   8,   5,  10,  94,  44,  16,   7,   5,  25,   5,\n",
      "           6,  64,  52,  21,  11,   5,  10,   5,   9,  69,  32,  19,   7,   5,\n",
      "           9,   5,   6,  26,  67,  31,  24,   7,   5,  25,   5,   6,  90,  32,\n",
      "          13,   7,   5,  10,   5,   6,  66,  37,  19,   7,   5,  25,   5,   6,\n",
      "          88,  35,  16,   7,   5,  25,   5,   6,  62,  33,  13,  95,   5,  12,\n",
      "           5,   8,  26,  70,  55,  21,   7,   5,  10,   5,   6,  92,  59,  24,\n",
      "           7,   5,  10,   5,   6,  90,  55,  24,  11,   5,   8,   5,   9,  91,\n",
      "          96,  36,   7,   5,  10,   5,   6,  94,  48,  13,  20,   5,   8,   5,\n",
      "          10,  93,  40,  16,   7,   5,  25,   5,   6,  26,  70,  37,  13,   7,\n",
      "           5,  25,   5,   6,  61,  32,  13,  29,   5,   8,   5,  10,  94,  35,\n",
      "          18,  95,   5,  12,   5,   8,  89, 118,  24,  11,   5,  12,   5,   9,\n",
      "          93, 113,  36,   7,   5,  25,   5,   6,  26,  67,  37,  15,  29,   5,\n",
      "          12,   5,  10,  88,  41,  16,   7,   5,  25,   5,   6,  62,  48,  16,\n",
      "           7,   5,   9,   5,   6,  64,  41,  13,   7,   5,  25,   5,   6,  26,\n",
      "          90,  31,  24,   7,   5,  10,   5,   6,  62, 108,  24,   7,   5,  10,\n",
      "           5,   6,  89, 102,  21,   7,   5,  25,   5,   6,  93,  49,  16,  95,\n",
      "           5,  12,   5,   8, 121,  24,   7,   5,  10,   5,   6,  69,  31,  13,\n",
      "          11,   5,  14,   5,   9, 108,  24,  11,   5,  14,   5,   9,  26,  92,\n",
      "         118,  24,   7,   5,  25,   5,   6,  90, 113,  24,   7,   5,  25,   5,\n",
      "           6,  91,  32,  16,  20,   5,  12,   5,  10, 118,  19,  20,   5,  12,\n",
      "           5,  10,  88, 113,  24,  11,   5,  10,   5,   9,  94,  96,  24,  11,\n",
      "           5,  12,   5,   9,  64,  46,  13,   7,   5,  25,   5,   6, 108,  21,\n",
      "           7,   5,  25,   5,   6]]), 'attention_mask': tensor([[1, 1, 1, 1, 1, 1, 1, 1, 1, 1, 1, 1, 1, 1, 1, 1, 1, 1, 1, 1, 1, 1, 1, 1,\n",
      "         1, 1, 1, 1, 1, 1, 1, 1, 1, 1, 1, 1, 1, 1, 1, 1, 1, 1, 1, 1, 1, 1, 1, 1,\n",
      "         1, 1, 1, 1, 1, 1, 1, 1, 1, 1, 1, 1, 1, 1, 1, 1, 1, 1, 1, 1, 1, 1, 1, 1,\n",
      "         1, 1, 1, 1, 1, 1, 1, 1, 1, 1, 1, 1, 1, 1, 1, 1, 1, 1, 1, 1, 1, 1, 1, 1,\n",
      "         1, 1, 1, 1, 1, 1, 1, 1, 1, 1, 1, 1, 1, 1, 1, 1, 1, 1, 1, 1, 1, 1, 1, 1,\n",
      "         1, 1, 1, 1, 1, 1, 1, 1, 1, 1, 1, 1, 1, 1, 1, 1, 1, 1, 1, 1, 1, 1, 1, 1,\n",
      "         1, 1, 1, 1, 1, 1, 1, 1, 1, 1, 1, 1, 1, 1, 1, 1, 1, 1, 1, 1, 1, 1, 1, 1,\n",
      "         1, 1, 1, 1, 1, 1, 1, 1, 1, 1, 1, 1, 1, 1, 1, 1, 1, 1, 1, 1, 1, 1, 1, 1,\n",
      "         1, 1, 1, 1, 1, 1, 1, 1, 1, 1, 1, 1, 1, 1, 1, 1, 1, 1, 1, 1, 1, 1, 1, 1,\n",
      "         1, 1, 1, 1, 1, 1, 1, 1, 1, 1, 1, 1, 1, 1, 1, 1, 1, 1, 1, 1, 1, 1, 1, 1,\n",
      "         1, 1, 1, 1, 1, 1, 1, 1, 1, 1, 1, 1, 1, 1, 1, 1, 1, 1, 1, 1, 1, 1, 1, 1,\n",
      "         1, 1, 1, 1, 1, 1, 1, 1, 1, 1, 1, 1, 1, 1, 1, 1, 1, 1, 1, 1, 1, 1, 1, 1,\n",
      "         1, 1, 1, 1, 1, 1, 1, 1, 1, 1, 1, 1, 1, 1, 1, 1, 1, 1, 1, 1, 1, 1, 1, 1,\n",
      "         1, 1, 1, 1, 1, 1, 1, 1, 1, 1, 1, 1, 1, 1, 1, 1, 1, 1, 1, 1, 1, 1, 1, 1,\n",
      "         1, 1, 1, 1, 1, 1, 1, 1, 1, 1, 1, 1, 1, 1, 1, 1, 1, 1, 1, 1, 1, 1, 1, 1,\n",
      "         1, 1, 1, 1, 1, 1, 1, 1, 1, 1, 1, 1, 1, 1, 1, 1, 1, 1, 1, 1, 1, 1, 1, 1,\n",
      "         1, 1, 1, 1, 1, 1, 1, 1, 1, 1, 1, 1, 1, 1, 1, 1, 1, 1, 1, 1, 1, 1, 1, 1,\n",
      "         1, 1, 1, 1, 1, 1, 1, 1, 1, 1, 1, 1, 1, 1, 1, 1, 1, 1, 1, 1, 1, 1, 1, 1,\n",
      "         1, 1, 1, 1, 1, 1, 1]])}\n"
     ]
    }
   ],
   "source": [
    "print(d['accomp'])"
   ]
  },
  {
   "cell_type": "code",
   "execution_count": 81,
   "metadata": {},
   "outputs": [],
   "source": [
    "bos_input = {\n",
    "    'input_ids' : torch.LongTensor([[roberta_tokenizer_midi.bos_token_id]]),\n",
    "    'attention_mask' : torch.LongTensor([[1]])\n",
    "}\n",
    "logits = model(d['text'], d['melody'], d['chroma'], bos_input)\n",
    "logits_full = model(d['text'], d['melody'], d['chroma'], d['accomp'])"
   ]
  },
  {
   "cell_type": "code",
   "execution_count": 20,
   "metadata": {},
   "outputs": [],
   "source": [
    "import matplotlib.pyplot as plt"
   ]
  },
  {
   "cell_type": "code",
   "execution_count": 27,
   "metadata": {},
   "outputs": [
    {
     "name": "stdout",
     "output_type": "stream",
     "text": [
      "torch.Size([1, 1, 170])\n"
     ]
    },
    {
     "data": {
      "text/plain": [
       "[<matplotlib.lines.Line2D at 0x7f3c7612ccd0>]"
      ]
     },
     "execution_count": 27,
     "metadata": {},
     "output_type": "execute_result"
    },
    {
     "data": {
      "image/png": "[encoded data removed]",
      "text/plain": [
       "<Figure size 640x480 with 1 Axes>"
      ]
     },
     "metadata": {},
     "output_type": "display_data"
    }
   ],
   "source": [
    "print(logits.shape)\n",
    "plt.plot(logits[0,0,:].detach().numpy())"
   ]
  },
  {
   "cell_type": "code",
   "execution_count": 30,
   "metadata": {},
   "outputs": [
    {
     "name": "stdout",
     "output_type": "stream",
     "text": [
      "torch.Size([1, 1, 170])\n"
     ]
    },
    {
     "data": {
      "text/plain": [
       "[<matplotlib.lines.Line2D at 0x7f3c75dc0110>]"
      ]
     },
     "execution_count": 30,
     "metadata": {},
     "output_type": "execute_result"
    },
    {
     "data": {
      "image/png": "[encoded data removed]",
      "text/plain": [
       "<Figure size 640x480 with 1 Axes>"
      ]
     },
     "metadata": {},
     "output_type": "display_data"
    }
   ],
   "source": [
    "logits_softmax = F.softmax(logits, dim=-1)\n",
    "print(logits_softmax.shape)\n",
    "plt.plot(logits_softmax[0,0,:].detach().numpy())"
   ]
  },
  {
   "cell_type": "code",
   "execution_count": 35,
   "metadata": {},
   "outputs": [],
   "source": [
    "def sample_with_temperature(logits, temperature=1.0):\n",
    "    # Scale logits by temperature\n",
    "    logits = logits / temperature\n",
    "    # Apply softmax to get probabilities\n",
    "    probs = F.softmax(logits, dim=-1)\n",
    "\n",
    "    # Flatten the logits if necessary\n",
    "    batch_size, seq_len, vocab_size = probs.shape\n",
    "    probs = probs.view(-1, vocab_size)  # Merge batch_size and seq_len dimensions\n",
    "    \n",
    "    # Sample from the probability distribution\n",
    "    sampled_tokens = torch.multinomial(probs, num_samples=1)\n",
    "    \n",
    "    # Reshape back to [batch_size, seq_len, 1]\n",
    "    sampled_tokens = sampled_tokens.view(batch_size, seq_len, 1)\n",
    "\n",
    "    # # Sample from the probability distribution\n",
    "    # sampled_token = torch.multinomial(probs, num_samples=1)\n",
    "    return sampled_tokens"
   ]
  },
  {
   "cell_type": "code",
   "execution_count": 98,
   "metadata": {},
   "outputs": [
    {
     "name": "stdout",
     "output_type": "stream",
     "text": [
      "torch.Size([1, 439, 170])\n",
      "torch.Size([1, 439, 1])\n",
      "torch.Size([1, 439])\n"
     ]
    }
   ],
   "source": [
    "sampled_full = sample_with_temperature(logits_full)\n",
    "print(logits_full.shape)\n",
    "print(sampled_full.shape)\n",
    "print(sampled_full[:][-1][:].reshape(1,-1).shape)"
   ]
  },
  {
   "cell_type": "code",
   "execution_count": 36,
   "metadata": {},
   "outputs": [
    {
     "name": "stdout",
     "output_type": "stream",
     "text": [
      "tensor([[[26]]])\n"
     ]
    }
   ],
   "source": [
    "temperature = 0.7  # Adjust temperature as needed\n",
    "sampled_tokens = sample_with_temperature(logits, temperature)\n",
    "print(sampled_tokens)"
   ]
  },
  {
   "cell_type": "code",
   "execution_count": 43,
   "metadata": {},
   "outputs": [
    {
     "name": "stdout",
     "output_type": "stream",
     "text": [
      "tensor(26)\n",
      "2\n",
      "tensor(True)\n"
     ]
    }
   ],
   "source": [
    "print(sampled_tokens[0][0][-1])\n",
    "print(roberta_tokenizer_midi.eos_token_id)\n",
    "print(sampled_tokens[0][0][-1] != roberta_tokenizer_midi.eos_token_id)"
   ]
  },
  {
   "cell_type": "code",
   "execution_count": 58,
   "metadata": {},
   "outputs": [],
   "source": [
    "x = torch.cat( (bos_input['input_ids'], sampled_tokens[:][:][-1]), -1)"
   ]
  },
  {
   "cell_type": "code",
   "execution_count": 60,
   "metadata": {},
   "outputs": [
    {
     "name": "stdout",
     "output_type": "stream",
     "text": [
      "torch.Size([1, 2])\n",
      "torch.Size([1, 439])\n"
     ]
    }
   ],
   "source": [
    "print(x.shape)\n",
    "print(d['accomp']['input_ids'].shape)"
   ]
  },
  {
   "cell_type": "code",
   "execution_count": 71,
   "metadata": {},
   "outputs": [
    {
     "name": "stdout",
     "output_type": "stream",
     "text": [
      "tensor([[ 1, 26, 26]])\n"
     ]
    }
   ],
   "source": [
    "y = torch.cat( (x, sampled_tokens[:][-1:][-1]), 1)\n",
    "print(y)"
   ]
  },
  {
   "cell_type": "code",
   "execution_count": 56,
   "metadata": {},
   "outputs": [
    {
     "data": {
      "text/plain": [
       "tensor([[1, 1]])"
      ]
     },
     "execution_count": 56,
     "metadata": {},
     "output_type": "execute_result"
    }
   ],
   "source": [
    "torch.cat( (bos_input['attention_mask'], torch.full(sampled_tokens[:][:][-1].shape,1)), -1)"
   ]
  },
  {
   "cell_type": "code",
   "execution_count": 101,
   "metadata": {},
   "outputs": [],
   "source": [
    "def generate_bart_base(d, temperature=1.0, max_seq_len=4096):\n",
    "    accomp_input = {\n",
    "        'input_ids' : torch.LongTensor([[roberta_tokenizer_midi.bos_token_id]]),\n",
    "        'attention_mask' : torch.LongTensor([[1]])\n",
    "    }\n",
    "    logits = model(d['text'], d['melody'], d['chroma'], accomp_input)\n",
    "    sampled_tokens = sample_with_temperature(logits, temperature)\n",
    "    while sampled_tokens[0][0][-1] != roberta_tokenizer_midi.eos_token_id and accomp_input['input_ids'].shape[-1] < max_seq_len:\n",
    "        print('accomp_input[input_ids]:', accomp_input['input_ids'].shape)\n",
    "        print(sampled_tokens[:][:][-1].shape)\n",
    "        accomp_input['input_ids'] = torch.cat( (accomp_input['input_ids'], sampled_tokens[:][-1][:].reshape(1,-1)), -1)\n",
    "        accomp_input['attention_mask'] = torch.cat( (accomp_input['attention_mask'], torch.full(sampled_tokens[:][-1][:].reshape(1,-1).shape,1)), -1)\n",
    "        logits = model(d['text'], d['melody'], d['chroma'], accomp_input)\n",
    "        sampled_tokens = sample_with_temperature(logits, temperature)\n",
    "        print(accomp_input['input_ids'])\n",
    "    return accomp_input"
   ]
  },
  {
   "cell_type": "code",
   "execution_count": 102,
   "metadata": {},
   "outputs": [
    {
     "name": "stdout",
     "output_type": "stream",
     "text": [
      "accomp_input[input_ids]: torch.Size([1, 1])\n",
      "torch.Size([1, 1])\n",
      "tensor([[ 1, 26]])\n",
      "accomp_input[input_ids]: torch.Size([1, 2])\n",
      "torch.Size([2, 1])\n",
      "tensor([[ 1, 26, 26, 70]])\n",
      "accomp_input[input_ids]: torch.Size([1, 4])\n",
      "torch.Size([4, 1])\n",
      "tensor([[  1,  26,  26,  70,  26,  70,  70, 157]])\n",
      "accomp_input[input_ids]: torch.Size([1, 8])\n",
      "torch.Size([8, 1])\n",
      "tensor([[  1,  26,  26,  70,  26,  70,  70, 157,  26,  70,  70, 157,  70, 157,\n",
      "         157,   5]])\n",
      "accomp_input[input_ids]: torch.Size([1, 16])\n",
      "torch.Size([16, 1])\n",
      "tensor([[  1,  26,  26,  70,  26,  70,  70, 157,  26,  70,  70, 157,  70, 157,\n",
      "         157,   5,  26,  70,  70, 157,  70, 157, 157,   5,  63, 157, 157, 157,\n",
      "         157,   5,   5,  12]])\n",
      "accomp_input[input_ids]: torch.Size([1, 32])\n",
      "torch.Size([32, 1])\n",
      "tensor([[  1,  26,  26,  70,  26,  70,  70, 157,  26,  70,  70, 157,  70, 157,\n",
      "         157,   5,  26,  70,  70, 157,  70, 157, 157,   5,  63, 157, 157, 157,\n",
      "         157,   5,   5,  12,  26,  70,  70, 157,  70, 157, 157,   5,  70, 157,\n",
      "         157,   5, 157,   5,   5,  12,  70, 157, 157,   5, 157,   5,   5,  12,\n",
      "           5,   5,   5,   5,   5,  12,  12,   5]])\n",
      "accomp_input[input_ids]: torch.Size([1, 64])\n",
      "torch.Size([64, 1])\n",
      "tensor([[  1,  26,  26,  70,  26,  70,  70, 157,  26,  70,  70, 157,  70, 157,\n",
      "         157,   5,  26,  70,  70, 157,  70, 157, 157,   5,  63, 157, 157, 157,\n",
      "         157,   5,   5,  12,  26,  70,  70, 157,  70, 157, 157,   5,  70, 157,\n",
      "         157,   5, 157,   5,   5,  12,  70, 157, 157,   5, 157,   5,   5,  12,\n",
      "           5,   5,   5,   5,   5,  12,  12,   5,  26,  70,  70, 157,  70, 157,\n",
      "         157,   5,  70, 157, 157,   5, 157,   5,   5,  12,  67, 157, 157,   5,\n",
      "         157,   5,   5,  12,  12,   5,   5,   5,   5,  12,  12,   5,  67, 157,\n",
      "         123,   5, 157,   5,   5,  12, 157,   5,   5,  12,   5,  12,  12,   5,\n",
      "          98,   5,   5,  12,   5,  12,  12,   5,   8,   8,   8,   8,   8,  61,\n",
      "          26,  10]])\n",
      "accomp_input[input_ids]: torch.Size([1, 128])\n",
      "torch.Size([128, 1])\n",
      "tensor([[  1,  26,  26,  70,  26,  70,  70, 157,  26,  70,  70, 157,  70, 157,\n",
      "         157,   5,  26,  70,  70, 157,  70, 157, 157,   5,  63, 157, 157, 157,\n",
      "         157,   5,   5,  12,  26,  70,  70, 157,  70, 157, 157,   5,  70, 157,\n",
      "         157,   5, 157,   5,   5,  12,  70, 157, 157,   5, 157,   5,   5,  12,\n",
      "           5,   5,   5,   5,   5,  12,  12,   5,  26,  70,  70, 157,  70, 157,\n",
      "         157,   5,  70, 157, 157,   5, 157,   5,   5,  12,  67, 157, 157,   5,\n",
      "         157,   5,   5,  12,  12,   5,   5,   5,   5,  12,  12,   5,  67, 157,\n",
      "         123,   5, 157,   5,   5,  12, 157,   5,   5,  12,   5,  12,  12,   5,\n",
      "          98,   5,   5,  12,   5,  12,  12,   5,   8,   8,   8,   8,   8,  61,\n",
      "          26,  10,  26,  70,  70,   5,  70, 157, 157,   5,  70, 157, 157,   5,\n",
      "         157,   5,   5,  12,  70, 157, 157,   5, 157,   5,   5,  12,  95,   5,\n",
      "           5,   5,   5,  12,  12,   5,  67,  46, 157,   5, 157,   5,   5,  12,\n",
      "         157,   5,   5,  12,   5,  12,  12,   5,  56,   5,   5,  12,   5,  12,\n",
      "           8,   5,   8,   8,   8,   8,   8,  90,  89,  10,  90,  56,  35,   6,\n",
      "         116,  20,  20,   8, 110,   5,   7,   8,   5,   8,   8,   5,  56,   6,\n",
      "           5,   8,   5,   8,   8,   5,  88,   8,   8,   8,   8,  61,  66,  10,\n",
      "         141, 157,  21,  10,  11,  10,  10,  66,   6,  10,  10,  90,  10, 107,\n",
      "          92,  96, 103,  10,  10,  61,  10,  58,  92,  67,  63,  48,  98,  37,\n",
      "          92, 115,  69,  92]])\n",
      "accomp_input[input_ids]: torch.Size([1, 256])\n",
      "torch.Size([256, 1])\n",
      "tensor([[  1,  26,  26,  70,  26,  70,  70, 157,  26,  70,  70, 157,  70, 157,\n",
      "         157,   5,  26,  70,  70, 157,  70, 157, 157,   5,  63, 157, 157, 157,\n",
      "         157,   5,   5,  12,  26,  70,  70, 157,  70, 157, 157,   5,  70, 157,\n",
      "         157,   5, 157,   5,   5,  12,  70, 157, 157,   5, 157,   5,   5,  12,\n",
      "           5,   5,   5,   5,   5,  12,  12,   5,  26,  70,  70, 157,  70, 157,\n",
      "         157,   5,  70, 157, 157,   5, 157,   5,   5,  12,  67, 157, 157,   5,\n",
      "         157,   5,   5,  12,  12,   5,   5,   5,   5,  12,  12,   5,  67, 157,\n",
      "         123,   5, 157,   5,   5,  12, 157,   5,   5,  12,   5,  12,  12,   5,\n",
      "          98,   5,   5,  12,   5,  12,  12,   5,   8,   8,   8,   8,   8,  61,\n",
      "          26,  10,  26,  70,  70,   5,  70, 157, 157,   5,  70, 157, 157,   5,\n",
      "         157,   5,   5,  12,  70, 157, 157,   5, 157,   5,   5,  12,  95,   5,\n",
      "           5,   5,   5,  12,  12,   5,  67,  46, 157,   5, 157,   5,   5,  12,\n",
      "         157,   5,   5,  12,   5,  12,  12,   5,  56,   5,   5,  12,   5,  12,\n",
      "           8,   5,   8,   8,   8,   8,   8,  90,  89,  10,  90,  56,  35,   6,\n",
      "         116,  20,  20,   8, 110,   5,   7,   8,   5,   8,   8,   5,  56,   6,\n",
      "           5,   8,   5,   8,   8,   5,  88,   8,   8,   8,   8,  61,  66,  10,\n",
      "         141, 157,  21,  10,  11,  10,  10,  66,   6,  10,  10,  90,  10, 107,\n",
      "          92,  96, 103,  10,  10,  61,  10,  58,  92,  67,  63,  48,  98,  37,\n",
      "          92, 115,  69,  92,  26,  70,  70,   5,  90, 157, 157,   5,  70, 157,\n",
      "         157,   5, 157,   5,   5,  12,  70, 157, 157,   5, 157,   5,   5,  12,\n",
      "         134,   5,   5,   5,   5,  12,  12,   5,  70, 139, 157,   5, 157,   5,\n",
      "           5,  12, 157,   5,   5,  12,   5,  12,  12,   5, 135,   5,   5,  12,\n",
      "           5,   8,   8,   5,   8,   8,   8,   8,   8,  91,  61,  10,  91,  37,\n",
      "          31, 157, 102,  98,  20,   8,  56,   5,   5,   8,   5,   8,   8,   5,\n",
      "         116,   5,   5,   8,   5,   8,   8,   5,  90,   8,   8,   8,   8, 100,\n",
      "          90,  10,  98, 138,  17,  10,  11,  10,  10,  61,  20,  10,  10,  68,\n",
      "          10,  64,  90,  10,  24,  67,  46,  66,  10,  92,  91,  68,  61,  49,\n",
      "          92,  63,  35,  56,  66,  56,  92, 127, 116,   6, 107,  56,  31,   6,\n",
      "          51,  98,  48,   6,  37,   6,   6,   5, 143,  56,  33,   6,  32,   6,\n",
      "           6,   5,   5,   8,  68,   8,   8,  92,  61,  65,  56,  23,  46,  65,\n",
      "          49,  66,  95,  67,  56,  66,   6,  92,  65,  92,  90,  90,  19,  91,\n",
      "          70,  67,  61,  66,  46,  94,  90,  66,  67,  61,  55,  98,  98,  90,\n",
      "          46,  16,  21,  61,  16,   5,   5,  65,  16,  66,  46,   5,   6,   5,\n",
      "          65,   6,  13,  61,  66,  49,   6,  64,  61,  92, 135,  66,  91,  46,\n",
      "          34,  96, 116,  68,  23,  56,   7,  65,   5,  88,  62,  37,  94,  88,\n",
      "          66,  46,  91,  13, 123,  24,   7,  92,   5, 127,  93, 103,  56,  56,\n",
      "         120,  16,  13,  19,  37,  18, 116,  35]])\n",
      "accomp_input[input_ids]: torch.Size([1, 512])\n",
      "torch.Size([512, 1])\n",
      "tensor([[ 1, 26, 26,  ..., 20, 13, 24]])\n",
      "accomp_input[input_ids]: torch.Size([1, 1024])\n",
      "torch.Size([1024, 1])\n",
      "tensor([[  1,  26,  26,  ...,  70, 124,   8]])\n",
      "accomp_input[input_ids]: torch.Size([1, 2048])\n",
      "torch.Size([1024, 1])\n",
      "tensor([[  1,  26,  26,  ...,  12,   7, 109]])\n",
      "accomp_input[input_ids]: torch.Size([1, 3072])\n",
      "torch.Size([1024, 1])\n",
      "tensor([[ 1, 26, 26,  ..., 67, 12, 70]])\n"
     ]
    }
   ],
   "source": [
    "a = generate_bart_base(d)"
   ]
  },
  {
   "cell_type": "code",
   "execution_count": 103,
   "metadata": {},
   "outputs": [
    {
     "name": "stdout",
     "output_type": "stream",
     "text": [
      "torch.Size([1, 4096])\n"
     ]
    }
   ],
   "source": [
    "print(a['input_ids'].shape)"
   ]
  }
 ],
 "metadata": {
  "kernelspec": {
   "display_name": "torch",
   "language": "python",
   "name": "python3"
  },
  "language_info": {
   "codemirror_mode": {
    "name": "ipython",
    "version": 3
   },
   "file_extension": ".py",
   "mimetype": "text/x-python",
   "name": "python",
   "nbconvert_exporter": "python",
   "pygments_lexer": "ipython3",
   "version": "3.11.5"
  }
 },
 "nbformat": 4,
 "nbformat_minor": 2
}
