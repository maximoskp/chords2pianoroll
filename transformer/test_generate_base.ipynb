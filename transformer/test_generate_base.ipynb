{
 "cells": [
  {
   "cell_type": "code",
   "execution_count": 1,
   "metadata": {},
   "outputs": [
    {
     "name": "stderr",
     "output_type": "stream",
     "text": [
      "/home/maximos/anaconda3/envs/torch/lib/python3.11/site-packages/tqdm/auto.py:21: TqdmWarning: IProgress not found. Please update jupyter and ipywidgets. See https://ipywidgets.readthedocs.io/en/stable/user_install.html\n",
      "  from .autonotebook import tqdm as notebook_tqdm\n",
      "Some weights of RobertaModel were not initialized from the model checkpoint at roberta-base and are newly initialized: ['roberta.pooler.dense.bias', 'roberta.pooler.dense.weight']\n",
      "You should probably TRAIN this model on a down-stream task to be able to use it for predictions and inference.\n",
      "Some weights of RobertaModel were not initialized from the model checkpoint at /media/datadisk/data/pretrained_models/midi_mlm_tiny/checkpoint-46080 and are newly initialized: ['roberta.pooler.dense.bias', 'roberta.pooler.dense.weight']\n",
      "You should probably TRAIN this model on a down-stream task to be able to use it for predictions and inference.\n",
      "Some weights of RobertaModel were not initialized from the model checkpoint at /media/datadisk/data/pretrained_models/chroma_mlm_tiny/checkpoint-14336 and are newly initialized: ['roberta.pooler.dense.bias', 'roberta.pooler.dense.weight']\n",
      "You should probably TRAIN this model on a down-stream task to be able to use it for predictions and inference.\n",
      "/home/maximos/anaconda3/envs/torch/lib/python3.11/site-packages/torch/_utils.py:831: UserWarning: TypedStorage is deprecated. It will be removed in the future and UntypedStorage will be the only storage class. This should only matter to you if you are using storages directly.  To access UntypedStorage directly, use tensor.untyped_storage() instead of tensor.storage()\n",
      "  return self.fget.__get__(instance, owner)()\n"
     ]
    },
    {
     "data": {
      "text/plain": [
       "MelCAT_base(\n",
       "  (text_encoder): RobertaModel(\n",
       "    (embeddings): RobertaEmbeddings(\n",
       "      (word_embeddings): Embedding(50265, 768, padding_idx=1)\n",
       "      (position_embeddings): Embedding(514, 768, padding_idx=1)\n",
       "      (token_type_embeddings): Embedding(1, 768)\n",
       "      (LayerNorm): LayerNorm((768,), eps=1e-05, elementwise_affine=True)\n",
       "      (dropout): Dropout(p=0.1, inplace=False)\n",
       "    )\n",
       "    (encoder): RobertaEncoder(\n",
       "      (layer): ModuleList(\n",
       "        (0-11): 12 x RobertaLayer(\n",
       "          (attention): RobertaAttention(\n",
       "            (self): RobertaSdpaSelfAttention(\n",
       "              (query): Linear(in_features=768, out_features=768, bias=True)\n",
       "              (key): Linear(in_features=768, out_features=768, bias=True)\n",
       "              (value): Linear(in_features=768, out_features=768, bias=True)\n",
       "              (dropout): Dropout(p=0.1, inplace=False)\n",
       "            )\n",
       "            (output): RobertaSelfOutput(\n",
       "              (dense): Linear(in_features=768, out_features=768, bias=True)\n",
       "              (LayerNorm): LayerNorm((768,), eps=1e-05, elementwise_affine=True)\n",
       "              (dropout): Dropout(p=0.1, inplace=False)\n",
       "            )\n",
       "          )\n",
       "          (intermediate): RobertaIntermediate(\n",
       "            (dense): Linear(in_features=768, out_features=3072, bias=True)\n",
       "            (intermediate_act_fn): GELUActivation()\n",
       "          )\n",
       "          (output): RobertaOutput(\n",
       "            (dense): Linear(in_features=3072, out_features=768, bias=True)\n",
       "            (LayerNorm): LayerNorm((768,), eps=1e-05, elementwise_affine=True)\n",
       "            (dropout): Dropout(p=0.1, inplace=False)\n",
       "          )\n",
       "        )\n",
       "      )\n",
       "    )\n",
       "    (pooler): RobertaPooler(\n",
       "      (dense): Linear(in_features=768, out_features=768, bias=True)\n",
       "      (activation): Tanh()\n",
       "    )\n",
       "  )\n",
       "  (text_lstm): LSTM(768, 256, batch_first=True)\n",
       "  (midi_encoder): RobertaModel(\n",
       "    (embeddings): RobertaEmbeddings(\n",
       "      (word_embeddings): Embedding(170, 256, padding_idx=3)\n",
       "      (position_embeddings): Embedding(2048, 256, padding_idx=3)\n",
       "      (token_type_embeddings): Embedding(2, 256)\n",
       "      (LayerNorm): LayerNorm((256,), eps=1e-12, elementwise_affine=True)\n",
       "      (dropout): Dropout(p=0.1, inplace=False)\n",
       "    )\n",
       "    (encoder): RobertaEncoder(\n",
       "      (layer): ModuleList(\n",
       "        (0-3): 4 x RobertaLayer(\n",
       "          (attention): RobertaAttention(\n",
       "            (self): RobertaSdpaSelfAttention(\n",
       "              (query): Linear(in_features=256, out_features=256, bias=True)\n",
       "              (key): Linear(in_features=256, out_features=256, bias=True)\n",
       "              (value): Linear(in_features=256, out_features=256, bias=True)\n",
       "              (dropout): Dropout(p=0.1, inplace=False)\n",
       "            )\n",
       "            (output): RobertaSelfOutput(\n",
       "              (dense): Linear(in_features=256, out_features=256, bias=True)\n",
       "              (LayerNorm): LayerNorm((256,), eps=1e-12, elementwise_affine=True)\n",
       "              (dropout): Dropout(p=0.1, inplace=False)\n",
       "            )\n",
       "          )\n",
       "          (intermediate): RobertaIntermediate(\n",
       "            (dense): Linear(in_features=256, out_features=3072, bias=True)\n",
       "            (intermediate_act_fn): GELUActivation()\n",
       "          )\n",
       "          (output): RobertaOutput(\n",
       "            (dense): Linear(in_features=3072, out_features=256, bias=True)\n",
       "            (LayerNorm): LayerNorm((256,), eps=1e-12, elementwise_affine=True)\n",
       "            (dropout): Dropout(p=0.1, inplace=False)\n",
       "          )\n",
       "        )\n",
       "      )\n",
       "    )\n",
       "    (pooler): RobertaPooler(\n",
       "      (dense): Linear(in_features=256, out_features=256, bias=True)\n",
       "      (activation): Tanh()\n",
       "    )\n",
       "  )\n",
       "  (chroma_encoder): RobertaModel(\n",
       "    (embeddings): RobertaEmbeddings(\n",
       "      (word_embeddings): Embedding(26, 256, padding_idx=3)\n",
       "      (position_embeddings): Embedding(2048, 256, padding_idx=3)\n",
       "      (token_type_embeddings): Embedding(2, 256)\n",
       "      (LayerNorm): LayerNorm((256,), eps=1e-12, elementwise_affine=True)\n",
       "      (dropout): Dropout(p=0.1, inplace=False)\n",
       "    )\n",
       "    (encoder): RobertaEncoder(\n",
       "      (layer): ModuleList(\n",
       "        (0-3): 4 x RobertaLayer(\n",
       "          (attention): RobertaAttention(\n",
       "            (self): RobertaSdpaSelfAttention(\n",
       "              (query): Linear(in_features=256, out_features=256, bias=True)\n",
       "              (key): Linear(in_features=256, out_features=256, bias=True)\n",
       "              (value): Linear(in_features=256, out_features=256, bias=True)\n",
       "              (dropout): Dropout(p=0.1, inplace=False)\n",
       "            )\n",
       "            (output): RobertaSelfOutput(\n",
       "              (dense): Linear(in_features=256, out_features=256, bias=True)\n",
       "              (LayerNorm): LayerNorm((256,), eps=1e-12, elementwise_affine=True)\n",
       "              (dropout): Dropout(p=0.1, inplace=False)\n",
       "            )\n",
       "          )\n",
       "          (intermediate): RobertaIntermediate(\n",
       "            (dense): Linear(in_features=256, out_features=3072, bias=True)\n",
       "            (intermediate_act_fn): GELUActivation()\n",
       "          )\n",
       "          (output): RobertaOutput(\n",
       "            (dense): Linear(in_features=3072, out_features=256, bias=True)\n",
       "            (LayerNorm): LayerNorm((256,), eps=1e-12, elementwise_affine=True)\n",
       "            (dropout): Dropout(p=0.1, inplace=False)\n",
       "          )\n",
       "        )\n",
       "      )\n",
       "    )\n",
       "    (pooler): RobertaPooler(\n",
       "      (dense): Linear(in_features=256, out_features=256, bias=True)\n",
       "      (activation): Tanh()\n",
       "    )\n",
       "  )\n",
       "  (bart_model): BartForConditionalGeneration(\n",
       "    (model): BartModel(\n",
       "      (shared): BartScaledWordEmbedding(170, 256, padding_idx=3)\n",
       "      (encoder): BartEncoder(\n",
       "        (embed_tokens): BartScaledWordEmbedding(170, 256, padding_idx=3)\n",
       "        (embed_positions): BartLearnedPositionalEmbedding(1026, 256)\n",
       "        (layers): ModuleList(\n",
       "          (0-7): 8 x BartEncoderLayer(\n",
       "            (self_attn): BartSdpaAttention(\n",
       "              (k_proj): Linear(in_features=256, out_features=256, bias=True)\n",
       "              (v_proj): Linear(in_features=256, out_features=256, bias=True)\n",
       "              (q_proj): Linear(in_features=256, out_features=256, bias=True)\n",
       "              (out_proj): Linear(in_features=256, out_features=256, bias=True)\n",
       "            )\n",
       "            (self_attn_layer_norm): LayerNorm((256,), eps=1e-05, elementwise_affine=True)\n",
       "            (activation_fn): GELUActivation()\n",
       "            (fc1): Linear(in_features=256, out_features=4096, bias=True)\n",
       "            (fc2): Linear(in_features=4096, out_features=256, bias=True)\n",
       "            (final_layer_norm): LayerNorm((256,), eps=1e-05, elementwise_affine=True)\n",
       "          )\n",
       "        )\n",
       "        (layernorm_embedding): LayerNorm((256,), eps=1e-05, elementwise_affine=True)\n",
       "      )\n",
       "      (decoder): BartDecoder(\n",
       "        (embed_tokens): BartScaledWordEmbedding(170, 256, padding_idx=3)\n",
       "        (embed_positions): BartLearnedPositionalEmbedding(1026, 256)\n",
       "        (layers): ModuleList(\n",
       "          (0-7): 8 x BartDecoderLayer(\n",
       "            (self_attn): BartSdpaAttention(\n",
       "              (k_proj): Linear(in_features=256, out_features=256, bias=True)\n",
       "              (v_proj): Linear(in_features=256, out_features=256, bias=True)\n",
       "              (q_proj): Linear(in_features=256, out_features=256, bias=True)\n",
       "              (out_proj): Linear(in_features=256, out_features=256, bias=True)\n",
       "            )\n",
       "            (activation_fn): GELUActivation()\n",
       "            (self_attn_layer_norm): LayerNorm((256,), eps=1e-05, elementwise_affine=True)\n",
       "            (encoder_attn): BartSdpaAttention(\n",
       "              (k_proj): Linear(in_features=256, out_features=256, bias=True)\n",
       "              (v_proj): Linear(in_features=256, out_features=256, bias=True)\n",
       "              (q_proj): Linear(in_features=256, out_features=256, bias=True)\n",
       "              (out_proj): Linear(in_features=256, out_features=256, bias=True)\n",
       "            )\n",
       "            (encoder_attn_layer_norm): LayerNorm((256,), eps=1e-05, elementwise_affine=True)\n",
       "            (fc1): Linear(in_features=256, out_features=4096, bias=True)\n",
       "            (fc2): Linear(in_features=4096, out_features=256, bias=True)\n",
       "            (final_layer_norm): LayerNorm((256,), eps=1e-05, elementwise_affine=True)\n",
       "          )\n",
       "        )\n",
       "        (layernorm_embedding): LayerNorm((256,), eps=1e-05, elementwise_affine=True)\n",
       "      )\n",
       "    )\n",
       "    (lm_head): Linear(in_features=256, out_features=170, bias=False)\n",
       "  )\n",
       ")"
      ]
     },
     "execution_count": 1,
     "metadata": {},
     "output_type": "execute_result"
    }
   ],
   "source": [
    "from transformers import BartForConditionalGeneration, BartConfig\n",
    "from transformers import RobertaTokenizerFast\n",
    "import torch\n",
    "from torch.utils.data import DataLoader\n",
    "\n",
    "from miditok import REMI, TokenizerConfig, TokSequence\n",
    "from pathlib import Path\n",
    "\n",
    "from models import MelCAT_base\n",
    "from dataset_utils import LiveMelCATDataset, MelCATCollator\n",
    "\n",
    "from torch.nn import CrossEntropyLoss\n",
    "import torch.nn.functional as F\n",
    "\n",
    "import os\n",
    "import numpy as np\n",
    "import csv\n",
    "\n",
    "import symusic\n",
    "\n",
    "from tqdm import tqdm\n",
    "\n",
    "MAX_LENGTH = 1024\n",
    "\n",
    "roberta_tokenizer_midi = RobertaTokenizerFast.from_pretrained('/media/datadisk/data/pretrained_models/midi_mlm_tiny/midi_wordlevel_tokenizer')\n",
    "\n",
    "bart_config = BartConfig(\n",
    "    vocab_size=roberta_tokenizer_midi.vocab_size,\n",
    "    pad_token_id=roberta_tokenizer_midi.pad_token_id,\n",
    "    bos_token_id=roberta_tokenizer_midi.bos_token_id,\n",
    "    eos_token_id=roberta_tokenizer_midi.eos_token_id,\n",
    "    decoder_start_token_id=roberta_tokenizer_midi.bos_token_id,\n",
    "    forced_eos_token_id=roberta_tokenizer_midi.eos_token_id,\n",
    "    max_position_embeddings=MAX_LENGTH,\n",
    "    encoder_layers=8,\n",
    "    encoder_attention_heads=16,\n",
    "    encoder_ffn_dim=4096,\n",
    "    decoder_layers=8,\n",
    "    decoder_attention_heads=16,\n",
    "    decoder_ffn_dim=4096,\n",
    "    d_model=256,\n",
    "    encoder_layerdrop=0.3,\n",
    "    decoder_layerdrop=0.3,\n",
    "    dropout=0.3\n",
    ")\n",
    "\n",
    "run_on_gpu = True\n",
    "\n",
    "if run_on_gpu:\n",
    "    dev = torch.device(\"cuda:0\" if torch.cuda.is_available() else \"cpu\")\n",
    "    model = MelCAT_base(bart_config, gpu=0).to(dev)\n",
    "    checkpoint = torch.load('saved_models/bart_base/bart_base.pt', weights_only=True)\n",
    "else:\n",
    "    dev = torch.device(\"cpu\")\n",
    "    model = MelCAT_base(bart_config, gpu=None).to(dev)\n",
    "    checkpoint = torch.load('saved_models/bart_base/bart_base.pt', map_location=\"cpu\", weights_only=True)\n",
    "\n",
    "model.load_state_dict(checkpoint)\n",
    "\n",
    "model.eval()"
   ]
  },
  {
   "cell_type": "code",
   "execution_count": 2,
   "metadata": {},
   "outputs": [
    {
     "name": "stderr",
     "output_type": "stream",
     "text": [
      "/home/maximos/anaconda3/envs/torch/lib/python3.11/site-packages/transformers/tokenization_utils_base.py:1617: FutureWarning: `clean_up_tokenization_spaces` was not set. It will be set to `True` by default. This behavior will be deprecated in transformers v4.45, and will be then set to `False` by default. For more details check this issue: https://github.com/huggingface/transformers/issues/31884\n",
      "  warnings.warn(\n"
     ]
    }
   ],
   "source": [
    "midifolder = '/media/datadisk/datasets/GiantMIDI-PIano/midis_v1.2/midis'\n",
    "# midifolder = '/media/datadisk/data/Giant_PIano/'\n",
    "dataset = LiveMelCATDataset(midifolder, segment_size=40, resolution=4, max_seq_len=1024, only_beginning=True)"
   ]
  },
  {
   "cell_type": "code",
   "execution_count": 3,
   "metadata": {},
   "outputs": [],
   "source": [
    "custom_collate_fn = MelCATCollator(max_seq_lens=dataset.max_seq_lengths, padding_values=dataset.padding_values)\n",
    "dataloader = DataLoader(dataset, batch_size=1, collate_fn=custom_collate_fn, drop_last=True)"
   ]
  },
  {
   "cell_type": "code",
   "execution_count": 4,
   "metadata": {},
   "outputs": [
    {
     "name": "stdout",
     "output_type": "stream",
     "text": [
      "{'melody': {'input_ids': tensor([[ 26,  70, 157,   5,  12,  26,  26,  26,  26,  26,  26,  26,  26,  92,\n",
      "          37,  13,  11,   5,  14,   5,   9,  66,  55,  16,  11,   5,  12,   5,\n",
      "           9,  94,  52,  16,   7,   5,  10,   5,   6,  62,  55,  16,   7,   5,\n",
      "          25,   5,   6,  93,  59,  13,  11,   5,  14,   5,   9,  26,  66,  96,\n",
      "          15,  11,   5,  10,   5,   9,  93,  44,  16,   7,   5,   9,   5,   6]]), 'attention_mask': tensor([[1, 1, 1, 1, 1, 1, 1, 1, 1, 1, 1, 1, 1, 1, 1, 1, 1, 1, 1, 1, 1, 1, 1, 1,\n",
      "         1, 1, 1, 1, 1, 1, 1, 1, 1, 1, 1, 1, 1, 1, 1, 1, 1, 1, 1, 1, 1, 1, 1, 1,\n",
      "         1, 1, 1, 1, 1, 1, 1, 1, 1, 1, 1, 1, 1, 1, 1, 1, 1, 1, 1, 1, 1, 1]])}, 'chroma': {'input_ids': tensor([[25, 17,  9, 16,  5, 13,  8, 10, 14,  6, 15,  7, 12, 11, 17,  9, 16,  5,\n",
      "         13,  8, 10, 14,  6, 15,  7, 12, 11, 17,  9, 16,  5, 13,  8, 10, 14,  6,\n",
      "         15,  7, 12, 11, 17,  9, 16,  5, 13,  8, 10, 14,  6, 15,  7, 12, 11, 17,\n",
      "          9, 16,  5, 13,  8, 10, 14,  6, 15,  7, 12, 11, 17,  9, 12, 17,  9, 10,\n",
      "         12, 17]]), 'attention_mask': tensor([[1, 1, 1, 1, 1, 1, 1, 1, 1, 1, 1, 1, 1, 1, 1, 1, 1, 1, 1, 1, 1, 1, 1, 1,\n",
      "         1, 1, 1, 1, 1, 1, 1, 1, 1, 1, 1, 1, 1, 1, 1, 1, 1, 1, 1, 1, 1, 1, 1, 1,\n",
      "         1, 1, 1, 1, 1, 1, 1, 1, 1, 1, 1, 1, 1, 1, 1, 1, 1, 1, 1, 1, 1, 1, 1, 1,\n",
      "         1, 1]])}, 'text': {'input_ids': tensor([[    0, 29656, 28898,     6,  3028,   226,  1140,   139,     6, 19361,\n",
      "           833,  7507, 37041,   620,  2768,   438,  1071,   440,     4,   466,\n",
      "            11,   274,   538,     6,   248,   306,   329,   398,   705, 16088,\n",
      "           134,   725,   560,     4, 16079,     2]]), 'attention_mask': tensor([[1, 1, 1, 1, 1, 1, 1, 1, 1, 1, 1, 1, 1, 1, 1, 1, 1, 1, 1, 1, 1, 1, 1, 1,\n",
      "         1, 1, 1, 1, 1, 1, 1, 1, 1, 1, 1, 1]])}, 'accomp': {'input_ids': tensor([[ 26,  70, 157,   5,  12,  26,  26,  26,  26,  26,  26,  26,  26,  92,\n",
      "          46,  16,   7,   5,  10,   5,   6,  61,  49,  16,   7,   5,   9,   5,\n",
      "           6,  66,  35,  16,  11,   5,  12,   5,   9,  38,  18,  11,   5,  12,\n",
      "           5,   9,  88,  98,  16,   7,   5,  25,   5,   6,  62,  49,  16,   7,\n",
      "           5,  25,   5,   6,  93,  35,  15,   7,   5,  25,   5,   6,  26,  92,\n",
      "          34,  15,   7,   5,   9,   5,   6,  66,  37,  13,  29,   5,  12,   5,\n",
      "          10,  88,  46,  13,   7,   5,  10,   5,   6,  94,  49,  13,   7,   5,\n",
      "          10,   5,   6,  62,  35,  13,   7,   5,  25,   5,   6,  93,  49,  13,\n",
      "           7,   5,   9,   5,   6]]), 'attention_mask': tensor([[1, 1, 1, 1, 1, 1, 1, 1, 1, 1, 1, 1, 1, 1, 1, 1, 1, 1, 1, 1, 1, 1, 1, 1,\n",
      "         1, 1, 1, 1, 1, 1, 1, 1, 1, 1, 1, 1, 1, 1, 1, 1, 1, 1, 1, 1, 1, 1, 1, 1,\n",
      "         1, 1, 1, 1, 1, 1, 1, 1, 1, 1, 1, 1, 1, 1, 1, 1, 1, 1, 1, 1, 1, 1, 1, 1,\n",
      "         1, 1, 1, 1, 1, 1, 1, 1, 1, 1, 1, 1, 1, 1, 1, 1, 1, 1, 1, 1, 1, 1, 1, 1,\n",
      "         1, 1, 1, 1, 1, 1, 1, 1, 1, 1, 1, 1, 1, 1, 1, 1, 1, 1, 1, 1, 1]])}}\n"
     ]
    }
   ],
   "source": [
    "# d = next(iter(dataloader))\n",
    "# print(d)\n",
    "i = 0\n",
    "for d in dataloader:\n",
    "    if i == 3:\n",
    "        break\n",
    "    i += 1\n",
    "print(d)"
   ]
  },
  {
   "cell_type": "code",
   "execution_count": 5,
   "metadata": {},
   "outputs": [
    {
     "name": "stdout",
     "output_type": "stream",
     "text": [
      "{'input_ids': tensor([[ 26,  70, 157,   5,  12,  26,  26,  26,  26,  26,  26,  26,  26,  92,\n",
      "          46,  16,   7,   5,  10,   5,   6,  61,  49,  16,   7,   5,   9,   5,\n",
      "           6,  66,  35,  16,  11,   5,  12,   5,   9,  38,  18,  11,   5,  12,\n",
      "           5,   9,  88,  98,  16,   7,   5,  25,   5,   6,  62,  49,  16,   7,\n",
      "           5,  25,   5,   6,  93,  35,  15,   7,   5,  25,   5,   6,  26,  92,\n",
      "          34,  15,   7,   5,   9,   5,   6,  66,  37,  13,  29,   5,  12,   5,\n",
      "          10,  88,  46,  13,   7,   5,  10,   5,   6,  94,  49,  13,   7,   5,\n",
      "          10,   5,   6,  62,  35,  13,   7,   5,  25,   5,   6,  93,  49,  13,\n",
      "           7,   5,   9,   5,   6]]), 'attention_mask': tensor([[1, 1, 1, 1, 1, 1, 1, 1, 1, 1, 1, 1, 1, 1, 1, 1, 1, 1, 1, 1, 1, 1, 1, 1,\n",
      "         1, 1, 1, 1, 1, 1, 1, 1, 1, 1, 1, 1, 1, 1, 1, 1, 1, 1, 1, 1, 1, 1, 1, 1,\n",
      "         1, 1, 1, 1, 1, 1, 1, 1, 1, 1, 1, 1, 1, 1, 1, 1, 1, 1, 1, 1, 1, 1, 1, 1,\n",
      "         1, 1, 1, 1, 1, 1, 1, 1, 1, 1, 1, 1, 1, 1, 1, 1, 1, 1, 1, 1, 1, 1, 1, 1,\n",
      "         1, 1, 1, 1, 1, 1, 1, 1, 1, 1, 1, 1, 1, 1, 1, 1, 1, 1, 1, 1, 1]])}\n"
     ]
    }
   ],
   "source": [
    "print(d['accomp'])"
   ]
  },
  {
   "cell_type": "code",
   "execution_count": 46,
   "metadata": {},
   "outputs": [
    {
     "name": "stdout",
     "output_type": "stream",
     "text": [
      "tensor([ 26,  70, 157,   5,  12,  26,  26,  26,  26,  26,  26,  26,  26,  92,\n",
      "         46,  16,   7,   5,  10,   5,   6,  61,  49,  16,   7,   5,   9,   5,\n",
      "          6,  66,  35,  16,  11,   5,  12,   5,   9,  38,  18,  11,   5,  12,\n",
      "          5,   9,  88,  98,  16,   7,   5,  25,   5,   6,  62,  49,  16,   7,\n",
      "          5,  25,   5,   6,  93,  35,  15,   7,   5,  25,   5,   6,  26,  92,\n",
      "         34,  15,   7,   5,   9,   5,   6,  66,  37,  13,  29,   5,  12,   5,\n",
      "         10,  88,  46,  13,   7,   5,  10,   5,   6,  94,  49,  13,   7,   5,\n",
      "         10,   5,   6,  62,  35,  13,   7,   5,  25,   5,   6,  93,  49,  13,\n",
      "          7,   5,   9,   5,   6])\n",
      "['bar_none', 'position_0', 'tempo_125', '.', '0', 'bar_none', 'bar_none', 'bar_none', 'bar_none', 'bar_none', 'bar_none', 'bar_none', 'bar_none', 'position_4', 'pitch_57', 'velocity_79', 'duration_0', '.', '2', '.', '8', 'position_6', 'pitch_58', 'velocity_79', 'duration_0', '.', '4', '.', '8', 'position_10', 'pitch_60', 'velocity_79', 'duration_1', '.', '0', '.', '4', 'pitch_72', 'velocity_58', 'duration_1', '.', '0', '.', '4', 'position_16', 'pitch_48', 'velocity_79', 'duration_0', '.', '6', '.', '8', 'position_22', 'pitch_58', 'velocity_79', 'duration_0', '.', '6', '.', '8', 'position_28', 'pitch_60', 'velocity_68', 'duration_0', '.', '6', '.', '8', 'bar_none', 'position_4', 'pitch_64', 'velocity_68', 'duration_0', '.', '4', '.', '8', 'position_10', 'pitch_65', 'velocity_74', 'duration_3', '.', '0', '.', '2', 'position_16', 'pitch_57', 'velocity_74', 'duration_0', '.', '2', '.', '8', 'position_20', 'pitch_58', 'velocity_74', 'duration_0', '.', '2', '.', '8', 'position_22', 'pitch_60', 'velocity_74', 'duration_0', '.', '6', '.', '8', 'position_28', 'pitch_58', 'velocity_74', 'duration_0', '.', '4', '.', '8']\n"
     ]
    }
   ],
   "source": [
    "print(d['accomp']['input_ids'][0])\n",
    "toks = roberta_tokenizer_midi.convert_ids_to_tokens(d['accomp']['input_ids'][0])\n",
    "print(toks)"
   ]
  },
  {
   "cell_type": "code",
   "execution_count": 6,
   "metadata": {},
   "outputs": [],
   "source": [
    "bos_input = {\n",
    "    'input_ids' : torch.LongTensor([[roberta_tokenizer_midi.bos_token_id]]),\n",
    "    'attention_mask' : torch.LongTensor([[1]])\n",
    "}\n",
    "logits = model(d['text'], d['melody'], d['chroma'], bos_input)\n",
    "logits_full = model(d['text'], d['melody'], d['chroma'], d['accomp'])"
   ]
  },
  {
   "cell_type": "code",
   "execution_count": 7,
   "metadata": {},
   "outputs": [],
   "source": [
    "import matplotlib.pyplot as plt"
   ]
  },
  {
   "cell_type": "code",
   "execution_count": 10,
   "metadata": {},
   "outputs": [
    {
     "name": "stdout",
     "output_type": "stream",
     "text": [
      "torch.Size([1, 1, 170])\n"
     ]
    },
    {
     "data": {
      "text/plain": [
       "[<matplotlib.lines.Line2D at 0x7fcd5c494e10>]"
      ]
     },
     "execution_count": 10,
     "metadata": {},
     "output_type": "execute_result"
    },
    {
     "data": {
      "image/png": "[encoded data removed]",
      "text/plain": [
       "<Figure size 640x480 with 1 Axes>"
      ]
     },
     "metadata": {},
     "output_type": "display_data"
    }
   ],
   "source": [
    "print(logits.shape)\n",
    "plt.plot(logits[0,-1,:].cpu().detach().numpy())"
   ]
  },
  {
   "cell_type": "code",
   "execution_count": 13,
   "metadata": {},
   "outputs": [
    {
     "name": "stdout",
     "output_type": "stream",
     "text": [
      "torch.Size([1, 1, 170])\n"
     ]
    },
    {
     "data": {
      "text/plain": [
       "[<matplotlib.lines.Line2D at 0x7fcd5c40f950>]"
      ]
     },
     "execution_count": 13,
     "metadata": {},
     "output_type": "execute_result"
    },
    {
     "data": {
      "image/png": "[encoded data removed]",
      "text/plain": [
       "<Figure size 640x480 with 1 Axes>"
      ]
     },
     "metadata": {},
     "output_type": "display_data"
    }
   ],
   "source": [
    "logits_softmax = F.softmax(logits, dim=-1)\n",
    "print(logits_softmax.shape)\n",
    "plt.plot(logits_softmax[0,-1,:].cpu().detach().numpy())"
   ]
  },
  {
   "cell_type": "code",
   "execution_count": 14,
   "metadata": {},
   "outputs": [],
   "source": [
    "def sample_with_temperature(logits, temperature=1.0):\n",
    "    # Scale logits by temperature\n",
    "    logits = logits / temperature\n",
    "    # Apply softmax to get probabilities\n",
    "    probs = F.softmax(logits, dim=-1)\n",
    "\n",
    "    # Flatten the logits if necessary\n",
    "    batch_size, seq_len, vocab_size = probs.shape\n",
    "    probs = probs.view(-1, vocab_size)  # Merge batch_size and seq_len dimensions\n",
    "    \n",
    "    # Sample from the probability distribution\n",
    "    sampled_tokens = torch.multinomial(probs, num_samples=1)\n",
    "    \n",
    "    # Reshape back to [batch_size, seq_len, 1]\n",
    "    sampled_tokens = sampled_tokens.view(batch_size, seq_len, 1)\n",
    "\n",
    "    # # Sample from the probability distribution\n",
    "    # sampled_token = torch.multinomial(probs, num_samples=1)\n",
    "    return sampled_tokens"
   ]
  },
  {
   "cell_type": "code",
   "execution_count": 15,
   "metadata": {},
   "outputs": [
    {
     "name": "stdout",
     "output_type": "stream",
     "text": [
      "torch.Size([1, 117, 170])\n",
      "torch.Size([1, 117, 1])\n",
      "torch.Size([1, 117])\n"
     ]
    }
   ],
   "source": [
    "sampled_full = sample_with_temperature(logits_full)\n",
    "print(logits_full.shape)\n",
    "print(sampled_full.shape)\n",
    "print(sampled_full[:][-1][:].reshape(1,-1).shape)"
   ]
  },
  {
   "cell_type": "code",
   "execution_count": 18,
   "metadata": {},
   "outputs": [
    {
     "name": "stdout",
     "output_type": "stream",
     "text": [
      "tensor([[26]], device='cuda:0')\n",
      "tensor([[1]])\n"
     ]
    }
   ],
   "source": [
    "temperature = 0.7  # Adjust temperature as needed\n",
    "sampled_tokens = sample_with_temperature(logits, temperature)\n",
    "print(sampled_tokens[0][-1:])\n",
    "print(bos_input['input_ids'])\n",
    "xx = torch.cat( (bos_input['input_ids'].to(dev), sampled_tokens[0][-1:].to(dev)), -1 )"
   ]
  },
  {
   "cell_type": "code",
   "execution_count": 19,
   "metadata": {},
   "outputs": [
    {
     "name": "stdout",
     "output_type": "stream",
     "text": [
      "tensor([[ 1, 26]], device='cuda:0')\n"
     ]
    }
   ],
   "source": [
    "print(xx)"
   ]
  },
  {
   "cell_type": "code",
   "execution_count": 20,
   "metadata": {},
   "outputs": [
    {
     "name": "stdout",
     "output_type": "stream",
     "text": [
      "tensor(26, device='cuda:0')\n",
      "2\n",
      "tensor(True, device='cuda:0')\n"
     ]
    }
   ],
   "source": [
    "print(sampled_tokens[0][0][-1])\n",
    "print(roberta_tokenizer_midi.eos_token_id)\n",
    "print(sampled_tokens[0][0][-1] != roberta_tokenizer_midi.eos_token_id)"
   ]
  },
  {
   "cell_type": "code",
   "execution_count": 23,
   "metadata": {},
   "outputs": [],
   "source": [
    "x = torch.cat( (bos_input['input_ids'].to(dev), sampled_tokens[:][:][-1].to(dev)), -1)"
   ]
  },
  {
   "cell_type": "code",
   "execution_count": 24,
   "metadata": {},
   "outputs": [
    {
     "name": "stdout",
     "output_type": "stream",
     "text": [
      "torch.Size([1, 2])\n",
      "torch.Size([1, 117])\n"
     ]
    }
   ],
   "source": [
    "print(x.shape)\n",
    "print(d['accomp']['input_ids'].shape)"
   ]
  },
  {
   "cell_type": "code",
   "execution_count": 25,
   "metadata": {},
   "outputs": [],
   "source": [
    "attx = torch.cat( (bos_input['attention_mask'], torch.full(sampled_tokens[0].shape,1)), -1)"
   ]
  },
  {
   "cell_type": "code",
   "execution_count": 26,
   "metadata": {},
   "outputs": [],
   "source": [
    "bos_input = {\n",
    "    'input_ids' : xx,\n",
    "    'attention_mask' : attx\n",
    "}\n",
    "logits = model(d['text'], d['melody'], d['chroma'], bos_input)\n",
    "logits_full = model(d['text'], d['melody'], d['chroma'], d['accomp'])"
   ]
  },
  {
   "cell_type": "code",
   "execution_count": 27,
   "metadata": {},
   "outputs": [
    {
     "name": "stdout",
     "output_type": "stream",
     "text": [
      "torch.Size([1, 2, 170])\n"
     ]
    }
   ],
   "source": [
    "print(logits.shape)"
   ]
  },
  {
   "cell_type": "code",
   "execution_count": 32,
   "metadata": {},
   "outputs": [],
   "source": [
    "def generate_bart_base(d, temperature=1.0, max_seq_len=4096):\n",
    "    accomp_input = {\n",
    "        'input_ids' : torch.LongTensor([[roberta_tokenizer_midi.bos_token_id]]),\n",
    "        'attention_mask' : torch.LongTensor([[1]])\n",
    "    }\n",
    "    logits = model(d['text'], d['melody'], d['chroma'], accomp_input)\n",
    "    sampled_tokens = sample_with_temperature(logits, temperature)\n",
    "    while sampled_tokens[0][0][-1] != roberta_tokenizer_midi.eos_token_id and accomp_input['input_ids'].shape[-1] < max_seq_len:\n",
    "        print(accomp_input['input_ids'].shape[-1], end='\\r')\n",
    "        accomp_input['input_ids'] = torch.cat( (accomp_input['input_ids'].to(dev), sampled_tokens[0][-1:].to(dev)), -1)\n",
    "        accomp_input['attention_mask'] = torch.cat( (accomp_input['attention_mask'].to(dev), torch.full(sampled_tokens[0][-1:].shape,1).to(dev)), -1)\n",
    "        logits = model(d['text'], d['melody'], d['chroma'], accomp_input)\n",
    "        sampled_tokens = sample_with_temperature(logits, temperature)\n",
    "    return accomp_input"
   ]
  },
  {
   "cell_type": "code",
   "execution_count": 33,
   "metadata": {},
   "outputs": [
    {
     "name": "stdout",
     "output_type": "stream",
     "text": [
      "4095\r"
     ]
    }
   ],
   "source": [
    "a = generate_bart_base(d)"
   ]
  },
  {
   "cell_type": "code",
   "execution_count": 34,
   "metadata": {},
   "outputs": [
    {
     "name": "stdout",
     "output_type": "stream",
     "text": [
      "torch.Size([1, 4096])\n"
     ]
    }
   ],
   "source": [
    "print(a['input_ids'].shape)"
   ]
  },
  {
   "cell_type": "code",
   "execution_count": 35,
   "metadata": {},
   "outputs": [
    {
     "name": "stdout",
     "output_type": "stream",
     "text": [
      "tensor([ 1, 26, 70,  ...,  8,  5, 92], device='cuda:0')\n",
      "['<s>', 'bar_none', 'position_0', 'tempo_125', '.', '0', 'bar_none', 'bar_none', 'bar_none', 'bar_none', 'bar_none', 'bar_none', 'bar_none', 'bar_none', 'bar_none', 'position_12', 'pitch_58', 'velocity_68', 'duration_1', '.', '2', '.', '4', 'position_16', 'pitch_46', 'velocity_52', 'duration_1', '.', '2', '.', '4', 'position_22', 'pitch_51', 'velocity_58', 'duration_2', '.', '1', '.', '2', 'position_24', 'pitch_53', 'velocity_63', 'duration_1', '.', '2', '.', '4', 'bar_none', 'position_6', 'pitch_53', 'velocity_63', 'duration_1', '.', '1', '.', '4', 'position_12', 'pitch_50', 'velocity_68', 'duration_0', '.', '2', '.', '8', 'position_14', 'pitch_53', 'velocity_74', 'duration_1', '.', '2', '.', '4', 'position_18', 'pitch_53', 'velocity_63', 'duration_0', '.', '2', '.', '8', 'position_20', 'pitch_58', 'velocity_74', 'duration_1', '.', '1', '.', '4', 'pitch_65', 'velocity_74', 'duration_1', '.', '2', '.', '4', 'pitch_70', 'velocity_74', 'duration_1', '.', '3', '.', '4', 'position_28', 'pitch_52', 'velocity_68', 'duration_1', '.', '0', '.', '4', 'position_30', 'pitch_55', 'velocity_58', 'duration_0', '.', '6', '.', '8', 'pitch_76', 'velocity_63', 'duration_0', '.', '2', '.', '8', 'bar_none', 'position_2', 'pitch_53', 'velocity_58', 'duration_1', '.', '0', '.', '4', 'pitch_58', 'velocity_68', 'duration_0', '.', '6', '.', '8', 'position_8', 'pitch_53', 'velocity_68', 'duration_1', '.', '0', '.', '4', 'position_18', 'pitch_50', 'velocity_63', 'duration_1', '.', '2', '.', '4', 'pitch_70', 'velocity_84', 'duration_1', '.', '3', '.', '4', 'pitch_76', 'velocity_74', 'duration_1', '.', '0', '.', '4', 'position_24', 'pitch_53', 'velocity_68', 'duration_0', '.', '2', '.', '8', 'position_24', 'pitch_58', 'velocity_74', 'duration_0', '.', '2', '.', '8', 'pitch_67', 'velocity_84', 'duration_1', '.', '1', '.', '4', 'position_30', 'pitch_46', 'velocity_68', 'duration_1', '.', '0', '.', '4', 'pitch_60', 'velocity_58', 'duration_1', '.', '2', '.', '4', 'bar_none', 'position_2', 'pitch_58', 'velocity_74', 'duration_0', '.', '4', '.', '8', 'pitch_72', 'velocity_79', 'duration_0', '.', '2', '.', '8', 'position_6', 'pitch_53', 'velocity_68', 'duration_0', '.', '2', '.', '8', 'pitch_53', 'velocity_68', 'duration_0', '.', '2', '.', '8', 'pitch_58', 'velocity_74', 'duration_0', '.', '6', '.', '8', 'pitch_65', 'velocity_74', 'duration_0', '.', '2', '.', '8', 'position_14', 'pitch_58', 'velocity_63', 'duration_0', '.', '4', '.', '8', 'pitch_72', 'velocity_74', 'duration_0', '.', '6', '.', '8', '2', 'pitch_72', 'velocity_74', 'duration_0', '.', '4', '.', '8', 'position_24', 'pitch_60', 'velocity_68', 'duration_0', '.', '4', '.', '8', 'pitch_65', 'velocity_58', 'duration_0', '.', '2', '.', '8', 'pitch_65', 'velocity_74', 'duration_0', '.', '4', '.', '8', 'position_28', 'pitch_60', 'velocity_74', 'duration_0', '.', '2', '.', '8', 'pitch_67', 'velocity_74', 'duration_0', '.', '4', '.', '8', 'bar_none', 'position_2', 'pitch_57', 'velocity_74', 'duration_0', '.', '2', '.', '8', 'pitch_67', 'velocity_84', 'duration_1', '.', '2', '.', '4', 'position_6', 'pitch_53', 'velocity_58', 'duration_1', '.', '1', '.', '4', 'pitch_58', 'velocity_68', 'duration_0', '.', '2', '.', '8', 'position_12', 'pitch_55', 'velocity_63', 'duration_0', '.', '2', '.', '8', 'position_14', 'pitch_53', 'velocity_58', 'duration_0', '.', '2', '.', '8', 'pitch_60', 'velocity_58', 'duration_0', '.', '2', '.', '8', 'pitch_69', 'velocity_68', 'duration_0', '.', '2', '.', '8', 'position_18', 'pitch_41', 'velocity_63', 'duration_0', '.', '2', '.', '8', 'position_24', 'pitch_60', 'velocity_63', 'duration_0', '.', '4', '.', '8', 'position_26', 'pitch_58', 'velocity_63', 'duration_0', '.', '2', '.', '8', 'pitch_65', 'velocity_63', 'duration_0', '.', '6', '.', '8', 'position_28', 'pitch_53', 'velocity_74', 'duration_0', '.', '4', '.', '8', 'pitch_57', 'velocity_74', 'duration_0', '.', '4', '.', '8', 'pitch_69', 'velocity_79', 'duration_0', '.', '2', '.', '8', 'pitch_64', 'velocity_74', 'duration_0', '.', '2', '.', '8', 'pitch_73', 'velocity_79', 'duration_1', '.', '1', '.', '4', 'pitch_67', 'velocity_74', 'duration_0', '.', '2', '.', '8', 'pitch_77', 'velocity_84', 'duration_1', '.', '3', '.', '4', 'bar_none', 'position_4', 'pitch_62', 'velocity_84', 'duration_1', '.', '1', '.', '4', 'pitch_72', 'velocity_74', 'duration_1', '.', '0', '.', '4', 'position_2', 'pitch_48', 'velocity_74', 'duration_0', '.', '2', '.', '8', 'pitch_70', 'velocity_79', 'duration_0', '.', '4', '.', '8', 'position_12', 'pitch_60', 'velocity_79', 'duration_0', '.', '6', '.', '8', 'pitch_70', 'velocity_84', 'duration_1', '.', '1', '.', '4', 'position_10', 'pitch_55', 'velocity_74', 'duration_0', '.', '2', '.', '8', 'pitch_70', 'velocity_79', 'duration_0', '.', '2', '.', '8', 'position_14', 'pitch_48', 'velocity_74', 'duration_0', '.', '2', '.', '8', 'pitch_65', 'velocity_68', 'duration_0', '.', '6', '.', '8', 'position_18', 'pitch_73', 'velocity_79', 'duration_1', '.', '1', '.', '4', 'pitch_76', 'velocity_74', 'duration_0', '.', '4', '.', '8', 'position_24', 'pitch_55', 'velocity_74', 'duration_0', '.', '6', '.', '8', 'position_26', 'pitch_58', 'velocity_58', 'duration_0', '.', '2', '.', '8', 'pitch_77', 'velocity_84', 'duration_0', '.', '2', '.', '8', 'position_28', 'pitch_55', 'velocity_74', 'duration_0', '.', '2', '.', '8', 'pitch_65', 'velocity_74', 'duration_0', '.', '4', '.', '8', 'pitch_67', 'velocity_84', 'duration_0', '.', '2', '.', '8', 'bar_none', 'position_6', 'pitch_50', 'velocity_74', 'duration_0', '.', '2', '.', '8', 'pitch_72', 'velocity_74', 'duration_0', '.', '2', '.', '8', 'pitch_70', 'velocity_79', 'duration_0', '.', '2', '.', '8', 'position_2', 'pitch_53', 'velocity_68', 'duration_0', '.', '2', '.', '8', 'pitch_48', 'velocity_68', 'duration_0', '.', '4', '.', '8', 'pitch_60', 'velocity_74', 'duration_0', '.', '2', '.', '8', 'pitch_72', 'velocity_74', 'duration_0', '.', '4', '.', '8', 'position_22', 'pitch_53', 'velocity_74', '.', '2', '.', '8', 'position_30', 'pitch_52', 'velocity_74', 'duration_0', '.', '2', '.', '8', 'pitch_65', 'velocity_58', '.', '8', 'pitch_60', 'velocity_58', 'duration_0', '.', '2', '.', '8', 'pitch_72', 'velocity_74', '.', '.', '0', '.', '8', 'pitch_48', 'velocity_63', '.', 'pitch_72', 'velocity_79', 'duration_0', '.', '2', '.', '8', 'position_28', 'pitch_48', 'velocity_68', 'duration_0', '.', '2', '.', '8', 'pitch_65', 'velocity_79', '2', '.', 'pitch_69', 'velocity_79', '.', '.', '2', '.', '8', 'position_30', 'pitch_53', 'velocity_79', 'duration_0', '.', '0', '.', 'pitch_72', 'velocity_74', 'duration_0', '.', '4', '.', 'pitch_53', 'velocity_58', '.', '2', '.', '8', 'pitch_52', 'velocity_63', '.', '2', '.', '8', 'pitch_55', 'velocity_58', '.', 'pitch_50', 'velocity_74', 'duration_0', '.', '.', 'pitch_71', 'velocity_58', '.', '.', '.', 'position_10', 'pitch_62', 'velocity_68', '.', '6', '.', 'pitch_72', 'velocity_58', '.', 'pitch_67', 'velocity_74', '.', '.', 'pitch_69', 'velocity_63', '.', '2', '.', '8', 'pitch_60', 'velocity_68', '.', '2', '.', '2', '.', 'pitch_70', 'velocity_74', 'duration_0', 'pitch_60', 'velocity_84', '.', '.', '0', '.', 'position_4', 'pitch_61', 'velocity_74', '.', 'pitch_77', 'velocity_68', '.', '.', 'position_6', 'pitch_53', 'pitch_54', 'velocity_95', '.', 'pitch_72', 'velocity_52', '.', 'position_10', 'pitch_45', '.', '.', '.', '4', '.', '.', '8', 'pitch_70', 'velocity_63', '.', '2', '.', 'pitch_46', 'velocity_74', '.', 'position_2', 'pitch_76', 'velocity_42', '.', '.', 'position_4', 'pitch_48', 'velocity_68', '.', 'position_12', 'pitch_79', 'velocity_89', '.', '.', '4', '.', 'position_28', 'pitch_48', 'velocity_74', '.', '.', '.', 'pitch_72', 'velocity_74', '.', '.', '.', 'pitch_75', 'velocity_95', '.', 'pitch_79', 'velocity_42', '.', 'position_4', 'pitch_53', 'velocity_68', '.', '.', '.', 'velocity_79', '.', '2', '.', 'pitch_69', 'velocity_74', '.', 'pitch_72', 'velocity_63', '.', '.', '0', '.', 'position_2', 'pitch_60', 'velocity_68', '.', 'pitch_70', 'pitch_67', 'velocity_63', '.', '8', '.', 'pitch_77', '.', 'pitch_72', 'velocity_79', '.', '.', 'pitch_81', 'velocity_89', '.', '.', 'position_2', 'pitch_57', '0', '.', 'position_2', 'pitch_86', 'velocity_74', '.', '.', 'position_6', 'pitch_60', 'pitch_64', 'pitch_65', 'velocity_68', '.', '.', '4', '.', '.', 'position_26', 'pitch_41', '0', '.', 'pitch_64', 'velocity_58', '.', '2', '.', '.', 'position_6', 'pitch_58', 'velocity_63', '.', '.', '.', 'position_12', 'pitch_77', '.', 'position_2', 'pitch_52', 'velocity_79', '.', '.', 'pitch_79', 'pitch_55', '.', '.', '.', 'position_20', 'pitch_70', 'pitch_60', 'pitch_69', '3', '.', '.', '1', 'position_30', 'pitch_53', '.', 'pitch_72', 'velocity_84', '.', 'position_6', 'pitch_58', '.', '.', 'position_8', 'pitch_84', 'velocity_74', '.', 'pitch_65', 'duration_1', '.', '.', '.', 'position_14', 'pitch_57', 'position_2', '0', '.', 'pitch_89', '1', '.', '8', 'position_30', 'pitch_77', '.', '8', 'pitch_74', 'pitch_64', 'duration_2', '.', '.', '.', 'pitch_58', 'position_6', 'pitch_72', 'velocity_84', '.', '.', 'pitch_62', '.', '.', '.', 'pitch_77', '0', '.', 'pitch_64', 'pitch_53', '.', '.', '.', '0', '.', 'position_2', 'pitch_60', '.', '8', '8', '.', 'position_2', 'pitch_74', 'pitch_70', '.', 'position_6', 'pitch_55', '.', 'pitch_64', '.', 'pitch_67', 'pitch_53', '1', '.', 'pitch_58', 'pitch_57', 'pitch_48', '.', '.', '.', '.', '0', 'pitch_75', 'position_4', 'position_4', 'pitch_48', '2', 'pitch_70', 'duration_1', '.', '8', 'pitch_46', 'position_4', '1', '1', '8', '8', '.', 'position_16', 'pitch_77', 'pitch_69', 'pitch_77', '1', 'pitch_60', '.', 'position_2', '.', '.', '.', 'pitch_58', '.', '.', 'pitch_77', 'velocity_26', 'pitch_77', '.', 'pitch_50', '.', '.', 'pitch_62', 'pitch_67', '.', 'position_8', '.', '.', 'pitch_66', '.', 'pitch_72', 'duration_3', '.', '.', '.', '.', '.', 'pitch_58', 'pitch_76', 'position_12', 'pitch_77', '.', 'position_4', '4', '.', '.', '.', 'pitch_69', '1', 'position_14', '.', '.', 'position_6', 'pitch_70', 'pitch_79', '.', 'position_4', '.', '1', '6', 'pitch_41', '.', 'pitch_53', 'pitch_72', 'pitch_70', 'position_24', 'pitch_72', '.', 'pitch_66', 'pitch_65', 'pitch_70', 'pitch_53', '.', 'pitch_58', '.', 'pitch_55', '.', 'pitch_72', '.', '.', 'pitch_79', '.', 'pitch_70', 'pitch_60', 'position_6', 'position_12', '.', 'position_6', 'pitch_79', 'pitch_63', '.', 'pitch_77', '.', '.', 'pitch_65', '.', '1', 'position_4', '.', 'pitch_53', '.', 'position_30', 'pitch_62', '.', '0', '.', '.', '.', 'pitch_77', 'pitch_82', 'pitch_70', 'pitch_57', '.', 'pitch_70', 'pitch_70', 'pitch_79', 'pitch_69', '.', '.', 'pitch_53', '.', 'pitch_53', 'pitch_82', '.', '0', 'position_4', '.', '8', 'pitch_60', 'pitch_63', '.', '.', '8', '.', '4', 'pitch_53', '8', '.', 'position_6', 'pitch_74', '.', '1', '.', '.', 'pitch_58', '2', 'pitch_74', 'pitch_65', 'pitch_72', 'pitch_67', 'bar_none', '.', 'pitch_70', 'position_14', '.', '.', 'position_2', '.', 'pitch_73', '0', 'pitch_70', '0', '.', 'pitch_77', 'duration_1', '.', 'pitch_79', '.', '1', '.', '.', '.', '.', 'pitch_77', 'pitch_67', 'duration_0', '.', '.', '.', 'pitch_53', 'pitch_67', 'pitch_70', 'pitch_72', '.', '.', 'pitch_69', '.', 'pitch_62', '.', 'pitch_72', 'position_2', '.', '8', 'pitch_69', 'pitch_78', '.', 'pitch_70', '.', 'position_6', 'pitch_58', 'pitch_48', 'pitch_65', '.', '.', '.', '.', 'pitch_53', '.', '4', '.', '.', 'pitch_72', '.', 'pitch_72', 'pitch_77', '.', 'position_6', '.', 'pitch_58', 'pitch_76', 'position_4', '.', 'pitch_55', '.', 'pitch_72', 'position_4', '.', '.', 'position_28', '.', '.', '.', 'pitch_65', '1', 'position_12', '.', '4', 'pitch_72', 'pitch_69', 'pitch_55', 'pitch_79', 'pitch_71', '.', '.', '1', '.', 'position_6', '0', '1', '4', 'pitch_70', '8', '.', 'pitch_75', 'position_4', '.', '.', 'position_30', '2', '0', 'position_10', '.', '.', '.', '.', 'position_8', '8', '.', 'pitch_58', '8', 'position_4', 'pitch_72', 'pitch_74', '0', '.', 'position_26', '.', '.', 'position_30', 'position_6', '.', '.', 'pitch_66', '.', '.', '8', '.', 'duration_1', '.', 'pitch_64', 'position_14', '.', 'pitch_54', 'position_2', 'position_6', 'pitch_74', 'pitch_72', '.', 'position_2', '.', '.', 'position_2', 'pitch_70', '.', 'pitch_70', '.', '.', 'pitch_58', 'position_4', 'pitch_53', 'pitch_70', 'pitch_65', '8', 'pitch_58', '.', '.', '.', '.', '8', '2', '.', '.', '.', '.', '.', '4', 'pitch_77', '.', '0', 'pitch_69', 'pitch_73', '.', '.', 'pitch_60', '.', 'position_28', 'position_8', '.', 'pitch_77', 'position_30', '0', 'pitch_70', '.', 'pitch_77', 'pitch_70', '.', '.', 'position_6', '.', 'pitch_53', 'position_6', '.', '.', '2', '.', 'position_2', 'pitch_48', 'pitch_65', 'position_30', '.', 'pitch_43', 'pitch_48', '.', '.', '.', '.', 'pitch_74', 'pitch_58', '8', '.', 'pitch_58', '8', 'pitch_79', '1', '.', '.', '.', 'pitch_72', 'pitch_58', '.', '.', '.', '.', '.', 'pitch_77', '.', '.', 'pitch_77', 'pitch_72', 'pitch_70', 'pitch_65', 'pitch_80', 'pitch_65', 'pitch_73', '.', '.', 'pitch_69', '.', 'pitch_70', 'pitch_67', '.', '8', 'bar_none', 'pitch_64', '.', 'pitch_72', '1', '.', 'pitch_64', 'pitch_60', 'pitch_60', '.', '.', '.', 'pitch_74', '.', 'duration_0', '.', 'pitch_76', '.', '.', '.', '1', 'pitch_61', '8', 'pitch_73', '.', '.', '.', '.', '.', 'pitch_72', 'position_4', 'pitch_67', 'pitch_77', '.', 'pitch_72', '1', 'pitch_58', '.', '.', '3', '.', '.', '.', '.', '.', '.', '.', '0', 'pitch_72', 'pitch_72', '.', '.', '.', '8', '.', '.', 'pitch_55', 'pitch_73', '.', 'pitch_69', '.', 'pitch_69', 'pitch_48', '.', '.', '.', 'position_6', 'pitch_67', 'position_10', 'pitch_54', '.', '.', 'pitch_77', '.', 'pitch_82', '.', 'pitch_60', 'pitch_77', 'pitch_48', 'pitch_70', '.', 'pitch_58', '0', '1', 'pitch_77', 'pitch_58', '0', 'pitch_60', '.', 'pitch_41', '8', '.', 'position_6', 'pitch_69', '0', 'pitch_70', '.', '4', '.', 'pitch_70', 'position_2', 'position_10', '2', 'pitch_79', 'pitch_62', '.', '.', 'pitch_65', 'position_6', 'pitch_88', '.', '.', 'pitch_65', 'position_8', '.', 'pitch_60', 'pitch_79', 'pitch_65', '.', 'pitch_65', '.', 'pitch_58', 'position_2', 'position_30', 'position_30', '.', 'pitch_65', 'duration_1', '8', 'position_6', '.', 'pitch_72', 'pitch_60', 'pitch_57', '.', '.', 'pitch_64', '.', 'pitch_58', '.', '1', 'position_0', '1', '.', '.', '.', 'pitch_62', '.', 'pitch_66', 'pitch_73', 'pitch_72', 'pitch_81', 'pitch_70', 'bar_none', 'position_10', 'duration_1', '.', 'position_2', 'pitch_57', '2', '.', 'pitch_72', 'duration_1', 'position_4', 'pitch_52', '.', '.', 'pitch_72', '1', 'pitch_77', 'pitch_65', '.', '.', 'pitch_72', '.', '.', 'pitch_72', 'pitch_81', '.', '.', 'pitch_79', 'pitch_77', 'pitch_77', 'pitch_57', '.', '2', 'position_8', '.', 'pitch_60', 'pitch_70', '.', 'pitch_76', '0', 'pitch_72', 'position_10', 'position_14', 'pitch_82', '.', '.', '.', '2', '1', 'position_4', 'position_28', '.', '.', 'position_4', 'pitch_70', '.', '8', '.', '.', '.', 'position_8', 'duration_0', '.', 'position_10', 'pitch_62', '4', '.', '.', '.', 'pitch_72', '0', 'pitch_58', 'position_8', 'pitch_69', '.', 'pitch_55', 'pitch_53', '.', '.', '.', '.', 'pitch_63', 'pitch_65', '.', '.', '.', 'position_12', 'position_8', '.', 'pitch_64', 'pitch_65', 'pitch_70', 'pitch_74', '8', '.', '.', '1', 'pitch_53', '2', '.', '.', 'position_6', 'position_12', 'pitch_72', 'pitch_57', '0', '.', '.', '1', '.', '.', '.', 'position_6', '0', 'duration_1', 'pitch_76', '.', 'position_12', 'pitch_61', '.', 'position_30', 'pitch_77', 'duration_0', '.', '.', '.', 'pitch_48', 'pitch_81', '0', 'position_2', 'position_30', 'pitch_72', 'pitch_74', 'pitch_65', 'pitch_70', 'pitch_74', 'position_30', '.', '.', '2', '.', 'pitch_58', 'position_2', 'pitch_79', 'pitch_70', 'pitch_74', 'pitch_72', 'pitch_43', 'pitch_60', 'position_30', '.', '4', '0', 'position_8', 'position_8', 'pitch_70', '.', '1', 'pitch_76', 'pitch_67', 'position_4', '.', 'position_2', 'pitch_67', 'position_4', 'position_4', '.', 'pitch_70', '0', '.', '2', 'pitch_77', 'bar_none', '.', '8', '.', '.', 'position_6', 'pitch_72', '.', '.', '.', '.', '.', '.', 'pitch_82', 'pitch_68', '.', '.', '.', 'pitch_69', 'pitch_89', '8', '.', '8', 'position_30', '8', '.', '1', 'pitch_58', '.', 'pitch_101', 'pitch_72', '.', '.', 'position_2', '.', '.', '4', 'position_8', 'pitch_54', 'position_2', '.', 'pitch_79', '.', 'pitch_57', 'position_4', 'position_4', 'pitch_69', '.', '4', 'pitch_69', '.', '8', 'position_8', '.', '.', 'duration_0', 'pitch_63', '.', '.', 'pitch_76', '.', 'pitch_53', '.', '.', '.', 'pitch_58', '8', '.', '8', 'pitch_48', '.', '.', 'pitch_70', 'position_4', 'pitch_53', '.', '.', '.', 'position_22', 'pitch_54', '0', '1', '.', '.', 'pitch_72', '1', '.', '2', 'pitch_74', '.', 'pitch_67', '.', '.', 'pitch_70', '.', '.', 'pitch_67', 'pitch_53', '.', 'pitch_60', 'position_4', 'pitch_48', 'position_6', 'pitch_48', 'pitch_78', 'position_14', 'position_18', 'pitch_65', 'position_16', 'pitch_58', 'position_14', '.', 'pitch_65', 'pitch_73', '.', '.', 'pitch_75', '.', 'duration_0', '.', 'pitch_50', '.', 'position_2', '.', '.', '.', 'pitch_71', 'bar_none', '0', 'pitch_72', '6', '.', '1', 'pitch_72', '.', '1', 'pitch_76', '.', 'position_4', '2', '1', '.', '.', 'pitch_70', '.', '.', '0', 'position_30', '.', '.', 'position_4', 'pitch_67', '.', '.', '.', '.', '.', 'position_6', '8', '.', '.', 'pitch_72', 'position_14', 'pitch_81', 'position_12', 'pitch_76', '.', '.', 'pitch_77', 'position_4', 'pitch_70', 'position_30', '.', 'pitch_69', '.', '.', '.', '.', 'pitch_70', 'position_14', '.', 'position_22', 'position_8', 'position_4', '6', 'pitch_72', 'pitch_41', '.', '.', '0', '.', 'velocity_84', 'position_2', 'pitch_66', '.', 'position_10', 'position_2', '.', '.', 'pitch_54', '0', 'pitch_76', '.', 'position_6', 'pitch_67', 'position_26', '.', '8', '.', 'pitch_60', '.', 'position_30', '.', 'pitch_64', '.', 'pitch_69', 'position_2', 'pitch_65', 'position_12', 'position_2', 'pitch_65', '.', '.', '.', 'position_2', '.', '.', 'position_4', 'pitch_64', '.', '.', 'position_8', '0', '1', '.', 'pitch_60', '.', 'position_20', '0', '.', 'pitch_60', 'pitch_74', '1', 'pitch_70', 'pitch_79', 'position_8', 'position_22', 'pitch_58', '.', '.', 'duration_3', '.', 'pitch_76', '.', '.', '.', '.', '.', 'position_4', 'position_4', '.', 'pitch_65', '1', '.', '.', 'position_2', 'position_28', '.', '.', '.', '.', '.', '.', 'position_12', '.', 'pitch_70', '8', 'pitch_62', 'pitch_77', 'position_4', 'pitch_53', '.', 'pitch_58', '.', 'position_2', 'pitch_53', '.', '.', '.', 'pitch_70', 'pitch_79', '1', 'pitch_70', 'pitch_72', '.', 'pitch_65', '.', '.', '.', 'pitch_77', '.', '4', 'pitch_81', '.', 'pitch_81', '.', 'position_12', '.', 'position_6', '1', 'position_6', 'pitch_79', 'pitch_76', 'pitch_79', '.', '1', '1', 'pitch_77', '.', 'duration_1', 'pitch_69', '.', '.', 'pitch_65', 'pitch_72', 'duration_0', 'pitch_60', 'position_26', '.', '1', '.', 'pitch_69', '.', '.', '.', '.', 'position_2', 'pitch_72', 'pitch_58', 'pitch_98', 'position_6', 'pitch_55', 'pitch_39', '.', '.', '.', '.', 'pitch_77', 'position_18', '.', 'pitch_82', '.', '.', 'position_4', 'pitch_67', '.', '.', 'pitch_48', 'pitch_77', '.', 'position_4', 'position_2', 'position_30', 'position_4', '.', '.', 'pitch_69', 'pitch_72', '0', 'pitch_53', '.', 'position_6', 'pitch_53', '8', '.', '0', '.', 'pitch_69', '.', '.', '0', 'position_22', '.', '.', 'pitch_60', 'pitch_89', 'pitch_77', 'position_2', 'position_8', 'pitch_48', '.', 'pitch_77', 'pitch_72', '.', '.', '.', '.', '8', 'pitch_60', 'pitch_70', '0', '.', '.', 'pitch_79', 'pitch_77', '6', 'pitch_73', 'pitch_72', '.', '.', 'pitch_53', '.', 'pitch_76', '.', 'pitch_72', '.', '.', '1', '.', 'pitch_75', 'pitch_90', 'pitch_79', '.', '.', 'position_20', '.', '2', 'pitch_65', 'pitch_78', '.', 'position_8', 'pitch_76', 'position_8', '.', '0', '.', '2', 'position_4', 'pitch_82', '8', '.', '.', 'pitch_60', '2', 'bar_none', 'pitch_77', '.', '.', '.', 'position_2', '.', '.', '.', '1', 'pitch_85', '.', 'position_2', '.', '.', '.', '.', '.', '.', 'pitch_91', 'pitch_53', 'pitch_63', '2', 'position_2', 'position_4', '.', '1', 'position_10', 'position_8', '.', '.', 'position_26', '.', 'pitch_53', '.', 'pitch_67', 'pitch_60', 'position_8', 'pitch_50', 'position_2', 'pitch_70', '.', '.', '.', 'pitch_53', '.', '.', 'pitch_65', '.', '.', '2', 'position_2', '2', '.', '.', 'pitch_63', 'pitch_82', '.', '.', '1', '.', '.', '8', '.', '1', 'pitch_84', '.', '.', '8', 'pitch_65', 'pitch_65', '.', 'position_28', 'position_6', 'pitch_65', 'pitch_45', '.', 'pitch_58', 'position_26', '.', 'pitch_65', '.', 'position_8', '.', 'pitch_84', '.', '.', 'position_2', '.', 'pitch_65', 'pitch_70', '.', 'pitch_75', 'pitch_72', 'position_24', '.', 'pitch_65', 'position_28', 'pitch_77', '0', 'pitch_70', '.', '.', '.', 'position_2', '.', 'duration_4', 'position_4', '1', '.', 'velocity_79', 'position_10', '.', 'pitch_60', '.', 'pitch_78', '6', 'pitch_70', '.', '.', 'pitch_77', '4', 'pitch_57', '0', 'pitch_70', 'position_16', '.', '.', '1', 'pitch_72', 'pitch_65', 'pitch_66', 'position_6', 'position_2', '.', 'pitch_76', '.', '.', '.', 'position_8', 'pitch_72', '.', 'position_6', '.', '.', '.', 'pitch_69', '1', '.', '4', '6', 'pitch_36', 'pitch_69', '.', '.', 'position_6', '.', 'pitch_62', '1', 'pitch_72', '4', 'position_8', '.', 'pitch_82', 'pitch_79', '.', '.', 'bar_none', '.', 'position_22', 'pitch_70', 'pitch_48', '.', '.', 'pitch_61', '.', 'pitch_70', '.', 'pitch_53', 'duration_1', '.', '.', 'pitch_65', '.', 'pitch_70', 'pitch_70', 'position_4', 'duration_1', '.', 'pitch_46', 'pitch_60', '2', 'pitch_70', 'pitch_60', '.', 'duration_1', 'pitch_67', '.', '.', 'pitch_58', 'velocity_89', 'pitch_62', 'position_10', '.', '.', '.', 'position_30', 'pitch_74', '.', 'pitch_70', '.', '.', '.', 'pitch_48', 'pitch_53', '0', '.', 'pitch_61', '.', 'position_8', '.', '.', 'pitch_72', 'pitch_75', 'pitch_73', '1', 'pitch_67', '.', '.', '.', '.', '.', '.', '.', '.', 'pitch_72', '.', '.', '8', '.', 'position_6', '.', 'pitch_70', 'position_28', '.', 'pitch_70', '8', '1', '4', '.', 'position_4', 'pitch_72', 'pitch_65', 'position_16', 'pitch_70', '.', '.', 'pitch_79', '2', 'position_2', 'pitch_76', '.', '.', '.', 'position_8', 'pitch_53', '.', '.', '.', '.', '.', '.', '.', 'pitch_69', '.', 'position_8', 'pitch_79', '.', 'pitch_77', 'pitch_70', 'position_24', 'pitch_62', 'pitch_74', '.', '.', '4', 'position_4', 'pitch_58', '.', 'position_6', 'position_6', 'position_6', '.', 'pitch_73', 'pitch_64', 'position_4', '0', '.', 'pitch_72', '.', '2', '.', '.', '.', '1', 'pitch_69', '.', '.', 'position_4', 'pitch_60', 'pitch_72', 'pitch_67', 'pitch_60', 'position_4', '1', '1', '2', '.', '.', '.', 'pitch_65', '.', 'pitch_81', '4', 'pitch_57', 'pitch_63', '8', '.', 'pitch_72', '.', 'pitch_77', '.', 'pitch_64', '.', 'pitch_77', '.', '1', 'pitch_72', '.', 'pitch_67', 'pitch_69', '.', '.', '.', 'pitch_46', '.', 'pitch_72', 'pitch_69', '.', 'pitch_69', '2', 'position_24', 'pitch_70', '.', '.', 'pitch_67', 'pitch_60', '.', 'pitch_71', '8', 'pitch_72', '8', '.', 'pitch_67', '0', '.', '.', '.', 'pitch_84', 'pitch_62', 'pitch_69', 'pitch_60', '.', 'pitch_60', 'pitch_57', 'pitch_79', '.', 'pitch_55', '.', '.', '.', '.', 'pitch_61', 'position_4', 'pitch_60', 'pitch_67', 'position_8', '8', 'pitch_70', 'pitch_79', '.', 'position_2', 'position_30', '.', 'pitch_70', 'pitch_65', 'pitch_64', 'pitch_62', 'pitch_31', '.', 'position_2', 'position_28', '.', '0', 'pitch_68', 'pitch_83', 'pitch_64', '.', 'pitch_72', '.', '.', '.', '.', '.', '.', 'pitch_58', '.', 'position_30', '.', '.', '.', '.', '.', 'pitch_62', 'position_2', '8', '3', '.', 'pitch_65', 'pitch_70', 'pitch_70', 'position_6', '8', '.', '.', '.', '.', '.', '.', 'duration_0', 'pitch_77', '.', '.', '.', 'pitch_43', '.', '.', '.', 'pitch_60', '.', '.', 'pitch_60', 'pitch_60', 'position_2', 'pitch_81', 'pitch_70', 'pitch_58', '.', 'pitch_67', 'position_4', '6', '.', 'pitch_79', '.', 'pitch_57', 'pitch_64', 'pitch_72', '.', '8', '1', '.', '8', '.', '.', '.', '.', 'position_2', '8', '2', 'pitch_79', 'pitch_70', 'pitch_74', '.', 'pitch_81', 'pitch_77', '.', 'velocity_74', '.', 'pitch_82', 'pitch_62', 'position_4', '.', 'pitch_72', 'pitch_48', '.', 'velocity_37', 'position_6', '.', 'pitch_81', 'pitch_70', '.', 'position_30', '.', '.', 'pitch_46', 'position_16', '.', '2', 'pitch_77', '.', '.', 'pitch_77', '.', 'pitch_65', '.', 'pitch_64', '.', '3', '2', '.', 'pitch_53', '.', '.', '0', 'pitch_58', 'position_2', 'position_6', '8', '.', 'position_8', 'pitch_74', '.', 'position_4', '.', 'pitch_58', 'pitch_76', 'pitch_70', '.', 'position_4', '.', '2', 'pitch_77', '.', '.', '1', '.', 'pitch_70', '4', '.', '.', 'position_4', '2', '.', '.', 'pitch_70', 'pitch_70', 'pitch_74', 'pitch_78', 'pitch_58', '.', '1', 'position_6', 'pitch_72', 'pitch_70', 'pitch_69', 'duration_2', 'position_6', '.', 'duration_1', 'position_4', 'position_4', '.', 'position_4', '1', 'position_6', '.', 'pitch_69', 'pitch_47', 'pitch_76', 'pitch_70', '.', '0', 'pitch_72', 'pitch_70', 'pitch_53', 'pitch_79', '.', 'pitch_70', 'pitch_69', 'position_20', 'pitch_70', 'pitch_74', '.', 'pitch_64', 'pitch_65', 'pitch_67', 'pitch_73', 'position_12', 'pitch_62', 'pitch_77', '.', '8', 'pitch_77', 'pitch_77', 'pitch_74', 'position_2', '.', 'pitch_60', '.', 'pitch_70', 'pitch_70', 'pitch_67', '.', '.', 'position_2', '.', 'pitch_72', '.', 'position_10', 'pitch_65', 'pitch_88', '.', '.', 'pitch_76', 'pitch_58', '1', '.', 'pitch_62', '.', 'duration_2', '.', 'position_10', '0', 'pitch_65', 'bar_none', '.', 'pitch_60', '.', '.', '.', '2', 'position_2', 'pitch_82', 'pitch_53', 'pitch_70', 'position_4', '.', '.', '.', 'pitch_82', 'pitch_58', 'pitch_72', '1', 'pitch_74', '8', '8', '.', '.', '4', 'pitch_77', '.', '.', 'pitch_69', '.', 'pitch_69', '.', '.', 'pitch_68', 'pitch_65', 'position_6', 'pitch_81', 'pitch_70', '.', 'pitch_77', '1', '.', '.', 'pitch_67', 'velocity_89', '.', 'pitch_79', 'pitch_79', 'pitch_87', 'pitch_77', '4', 'position_16', 'pitch_79', '8', 'pitch_72', 'pitch_72', '.', '8', 'pitch_65', '.', '.', '.', '.', '4', '.', 'pitch_70', '2', 'pitch_75', '.', '4', 'position_28', 'position_8', '8', '1', 'position_20', 'pitch_84', '2', 'pitch_79', 'position_2', '.', 'velocity_89', 'pitch_74', 'pitch_74', 'pitch_84', '8', 'position_4', 'position_8', '.', 'position_8', '2', '.', '.', 'pitch_77', '1', '.', '.', 'position_8', '.', '.', '.', 'position_4', '0', '0', '.', 'pitch_79', '.', '.', '.', 'duration_1', 'pitch_72', 'pitch_53', 'pitch_58', 'position_4', '.', 'position_4', 'pitch_81', '.', '.', '.', '2', '.', 'pitch_70', '.', '0', 'pitch_61', '1', '.', 'position_24', 'pitch_54', '.', 'pitch_77', '4', '.', 'pitch_77', '.', '.', '.', '.', '.', 'pitch_67', '.', '.', 'pitch_69', 'pitch_62', 'position_4', 'duration_1', 'position_2', 'pitch_70', 'position_30', '.', '.', 'pitch_74', '3', '.', '.', '.', '.', '1', '.', '0', '.', 'pitch_84', 'pitch_76', 'pitch_81', 'pitch_69', '.', 'position_2', 'bar_none', '3', '.', '3', '.', '.', 'duration_1', '.', '.', 'position_12', 'pitch_60', '.', '.', 'pitch_74', 'pitch_55', '.', 'pitch_69', '.', 'pitch_70', 'pitch_67', '.', '.', '.', 'pitch_70', 'pitch_76', '.', 'pitch_53', '2', 'pitch_48', 'position_10', '.', 'pitch_74', '8', 'pitch_36', '1', '.', 'pitch_69', '.', '6', 'pitch_69', 'pitch_70', '.', 'pitch_65', '0', 'pitch_58', 'position_2', '.', '.', '.', '.', '.', '.', 'pitch_77', '.', '1', 'position_10', '.', '.', '.', '.', '.', '.', '.', 'position_10', '.', '.', '.', 'pitch_62', 'pitch_83', 'bar_none', '.', '.', 'pitch_67', '1', '.', '8', '.', 'pitch_74', 'pitch_65', '.', 'bar_none', 'position_28', 'position_8', '.', 'pitch_70', '.', 'duration_1', '0', '.', 'pitch_65', '.', 'pitch_65', 'pitch_58', '0', 'position_6', '.', 'pitch_61', '.', 'pitch_64', '.', 'pitch_77', '.', 'pitch_46', '0', '1', 'position_4', '1', '3', 'pitch_60', '.', 'pitch_78', '2', 'position_10', '.', '0', '8', 'position_6', '.', '.', '.', '.', '.', 'pitch_70', '.', '.', 'position_28', 'pitch_58', '.', 'position_4', '.', '.', 'pitch_66', 'position_8', 'pitch_70', 'pitch_55', 'position_2', 'velocity_95', '.', 'duration_1', 'position_4', 'pitch_77', '.', 'pitch_62', 'pitch_65', 'pitch_82', 'pitch_48', 'position_6', 'position_2', '.', '.', 'pitch_82', '.', 'pitch_58', '.', '.', '.', '.', 'pitch_46', '.', '.', 'pitch_84', '8', 'pitch_72', 'position_8', 'pitch_53', 'pitch_72', '.', '.', '.', '.', 'position_10', 'pitch_74', 'pitch_61', 'pitch_48', '.', 'pitch_76', 'pitch_77', 'pitch_72', 'position_4', '.', '.', 'pitch_72', 'velocity_100', '.', '4', 'pitch_73', 'pitch_77', '.', '.', 'pitch_53', '.', '0', 'pitch_77', '2', 'pitch_55', '8', 'position_2', '.', '8', '.', 'pitch_58', 'position_2', 'pitch_67', '.', 'position_2', 'pitch_67', '.', 'pitch_57', 'pitch_65', 'position_2', 'pitch_72', 'pitch_72', 'position_28', 'pitch_48', 'pitch_45', 'pitch_58', 'position_4', '.', '.', 'bar_none', '.', 'pitch_54', '.', 'pitch_81', 'pitch_60', 'pitch_76', '.', '.', '.', '.', 'bar_none', '4', '1', '.', '0', 'pitch_69', '.', 'position_6', '.', '.', '.', 'pitch_72', '8', '.', 'pitch_84', '0', 'position_6', '1', 'pitch_72', 'position_4', '.', '.', 'pitch_79', '.', '.', '.', '.', 'position_12', '8', '8', 'pitch_52', 'pitch_53', '.', '.', '1', 'position_8', 'position_4', 'position_12', 'pitch_64', 'pitch_75', '.', '.', '.', '.', '.', 'position_24', 'pitch_74', '.', 'pitch_70', 'pitch_62', 'pitch_72', '.', 'pitch_46', 'pitch_70', 'pitch_70', 'pitch_70', '1', '.', '6', 'position_12', 'position_4', 'pitch_48', '1', 'pitch_77', '.', '.', '.', '.', '.', '.', 'pitch_53', '8', 'position_4', '2', 'position_2', '1', 'pitch_41', '.', '.', '.', 'pitch_55', '.', '0', 'position_2', '.', 'pitch_77', 'pitch_72', '.', '.', '.', '.', 'pitch_69', '.', 'position_4', 'pitch_41', '.', '.', '.', 'position_4', '.', '.', '.', 'position_12', '.', 'pitch_70', 'pitch_57', 'pitch_72', '.', '2', '.', '.', 'pitch_74', '.', '.', '.', '.', '8', 'pitch_48', '.', '.', '.', 'pitch_67', 'position_2', 'pitch_65', 'position_2', '.', '.', '.', '.', 'pitch_72', '8', '.', '.', 'pitch_60', '.', 'position_14', '.', 'pitch_82', '0', '1', 'pitch_64', 'pitch_60', '.', 'pitch_65', 'pitch_60', '8', '.', 'pitch_76', '.', 'pitch_70', '.', '.', '.', '.', '.', 'position_2', '.', 'pitch_41', '.', 'pitch_86', 'pitch_55', '.', 'pitch_77', '.', '.', '.', 'pitch_65', 'pitch_65', '.', 'pitch_60', 'position_2', 'pitch_79', '0', '8', '.', '.', '4', '.', 'pitch_46', '.', '.', '.', '.', '.', 'pitch_62', '.', 'position_8', '.', '4', '.', 'pitch_72', '0', '.', '.', '.', '8', '.', '.', 'pitch_60', 'pitch_65', 'position_4', 'pitch_65', 'pitch_58', '.', '.', 'pitch_60', 'pitch_54', '.', 'pitch_77', 'pitch_54', '.', '.', '.', '.', 'pitch_81', 'bar_none', 'position_30', '.', '.', 'pitch_60', '.', '.', '8', '.', '8', '.', '.', '0', '4', 'pitch_72', 'pitch_62', 'position_26', '.', 'pitch_70', '.', 'position_12', '.', '.', 'pitch_70', 'pitch_65', '.', 'pitch_55', '.', 'pitch_58', '.', 'position_16', '.', '.', '1', '.', 'pitch_60', 'pitch_72', '.', '.', 'pitch_65', '8', 'pitch_86', '.', 'pitch_64', '.', '.', '4', '2', '.', '.', 'pitch_70', 'pitch_72', 'pitch_65', '.', '.', '2', 'position_28', '1', '.', '.', 'bar_none', '1', '.', '2', 'pitch_58', '.', 'pitch_58', '6', 'pitch_43', 'pitch_70', '.', 'pitch_70', '.', 'pitch_60', '.', 'pitch_78', '.', '.', '.', '0', '.', 'pitch_72', 'pitch_74', 'pitch_48', 'pitch_77', '.', 'position_8', 'position_10', '.', '1', 'pitch_73', '.', '.', 'pitch_66', 'pitch_70', '.', '2', 'position_4', 'pitch_53', '.', '8', 'position_2', 'position_0', '.', '.', 'pitch_76', '2', 'bar_none', '4', 'pitch_77', '.', 'bar_none', 'pitch_72', '.', 'pitch_76', '.', '.', 'pitch_73', 'pitch_65', 'pitch_72', 'position_8', 'pitch_58', '1', 'position_4', '1', '1', 'duration_1', 'pitch_46', 'pitch_53', 'pitch_65', 'pitch_65', '.', '.', 'position_4', '.', '.', '8', '.', 'pitch_48', '1', 'position_12', '8', 'pitch_79', 'position_24', '.', '8', 'position_8', '.', '.', '.', '.', 'pitch_82', 'position_4', 'pitch_65', '.', 'pitch_65', '.', '.', '2', 'pitch_72', '.', 'pitch_48', '.', 'pitch_58', '.', 'pitch_72', 'pitch_77', '.', '.', '.', 'position_2', '.', '.', '.', '.', '.', '2', '2', '.', 'bar_none', 'pitch_53', '.', '.', '8', '.', '.', 'bar_none', '.', '.', '.', 'pitch_70', 'position_16', '.', 'pitch_72', '.', '.', '1', '.', '.', '1', 'position_14', 'position_2', '.', 'position_8', 'pitch_72', 'pitch_69', '.', 'position_6', '.', '.', 'position_6', 'position_20', '0', '4', '.', 'pitch_70', 'position_26', '.', '.', '.', '.', 'pitch_69', '0', '.', 'position_24', 'pitch_70', '.', 'position_4', '0', 'position_2', '.', '.', 'pitch_79', 'pitch_70', 'pitch_72', '.', '.', 'pitch_65', '.', '.', 'pitch_70', 'pitch_65', 'pitch_70', 'pitch_70', 'pitch_57', '2', 'pitch_70', '.', '.', 'pitch_53', 'position_4', '.', '8', 'pitch_67', 'pitch_57', '.', '8', '8', 'position_8', '8', 'pitch_64', '.', 'pitch_70', '.', '.', 'position_18', '.', '.', 'position_2', '.', '.', 'pitch_76', 'pitch_89', 'pitch_60', 'pitch_81', 'pitch_82', 'duration_1', 'position_2', 'pitch_58', 'pitch_53', 'pitch_72', 'position_4', '.', 'pitch_70', '8', 'pitch_60', '.', '.', '.', '.', '1', 'pitch_53', 'pitch_77', '.', 'pitch_70', 'pitch_77', '.', '.', '4', 'pitch_76', '8', 'pitch_77', '.', '.', '3', 'position_2', 'pitch_72', '.', '.', '1', 'pitch_69', 'position_30', '4', 'pitch_67', '.', '.', '.', 'pitch_59', '2', 'position_2', '.', 'position_6', 'pitch_69', '.', 'pitch_67', 'position_2', 'position_2', 'pitch_76', '.', '.', 'position_2', 'pitch_57', '.', '.', '.', '.', 'pitch_50', 'pitch_60', 'pitch_41', 'position_30', 'pitch_77', 'pitch_73', '1', 'duration_1', 'pitch_84', '2', '.', 'position_4', 'pitch_82', '.', '.', 'pitch_43', 'pitch_61', 'pitch_41', 'pitch_70', 'pitch_70', 'position_2', '.', 'position_4', '1', 'pitch_67', '.', 'position_22', '.', 'position_2', '.', '.', 'pitch_65', 'position_4', '.', 'pitch_67', '.', '.', '.', '.', 'position_8', 'pitch_84', 'pitch_58', 'pitch_77', '1', 'pitch_62', 'pitch_74', 'pitch_76', 'position_6', 'pitch_70', 'pitch_77', 'velocity_68', '0', '.', '.', 'pitch_70', 'pitch_58', '.', 'position_4', 'pitch_88', '4', '1', '.', '8', 'pitch_53', '4', '.', 'pitch_78', 'pitch_69', '0', 'pitch_41', '.', '.', '1', '1', 'pitch_76', '.', 'pitch_73', 'pitch_72', '.', '.', '.', '.', 'position_4', '.', 'position_6', 'pitch_70', '4', '.', '.', 'pitch_72', 'position_2', 'pitch_77', '.', 'pitch_50', 'pitch_60', '.', '1', 'pitch_58', '0', '.', '.', 'pitch_60', 'pitch_75', '.', '.', '.', '8', '.', 'pitch_60', 'pitch_55', '.', '.', '.', '.', '4', 'position_6', 'position_4', '.', 'pitch_85', '.', 'pitch_69', 'pitch_65', 'position_2', '.', '.', '.', '.', 'pitch_60', 'pitch_65', 'pitch_67', 'pitch_74', 'position_6', '.', '.', '.', 'pitch_69', 'pitch_48', '.', 'pitch_70', 'pitch_65', 'pitch_69', 'pitch_76', '.', 'pitch_73', 'pitch_70', '.', '.', 'position_4', 'pitch_63', '.', 'pitch_53', '.', 'pitch_71', '4', '.', '2', '.', '8', 'pitch_78', 'velocity_95', '8', '.', 'pitch_88', 'position_8', 'position_20', '8', 'position_6', '0', '0', 'pitch_74', '.', 'position_16', '.', 'pitch_53', 'pitch_77', '.', '3', 'pitch_67', '.', 'pitch_70', 'pitch_81', '1', '.', '0', 'pitch_72', 'pitch_75', '.', '.', 'position_4', '.', 'pitch_76', 'pitch_76', 'position_8', 'pitch_48', 'position_2', 'position_6', 'position_14', '.', '.', 'pitch_70', 'position_28', 'pitch_62', 'pitch_73', '4', '.', 'position_4', 'pitch_70', 'pitch_58', 'position_2', 'position_10', '.', 'pitch_65', 'pitch_72', 'position_0', '.', 'position_10', 'position_4', 'pitch_60', '.', '1', 'pitch_79', '.', '.', '.', 'pitch_55', 'velocity_74', '1', '.', 'pitch_41', 'pitch_48', '.', '0', 'pitch_65', 'position_8', '.', '.', 'pitch_53', 'pitch_74', '.', 'pitch_75', 'pitch_91', 'pitch_65', 'pitch_76', 'pitch_77', 'pitch_76', '1', 'pitch_63', 'pitch_70', '.', '.', '.', 'position_2', 'pitch_74', '.', 'pitch_79', '.', 'position_10', 'pitch_70', '8', '0', 'position_8', '.', 'pitch_76', 'position_30', '.', '.', 'pitch_72', 'pitch_64', 'pitch_74', '1', 'pitch_70', '.', '.', 'pitch_60', '.', 'position_14', 'position_18', 'position_28', '.', '8', '.', 'position_8', '.', '.', 'pitch_77', 'pitch_58', 'bar_none', 'pitch_77', '8', 'pitch_77', 'position_2', 'position_28', '.', 'position_4', '.', 'position_4', 'position_14', '.', 'pitch_69', '.', '1', '.', 'position_4']\n"
     ]
    }
   ],
   "source": [
    "print(a['input_ids'][0])\n",
    "toks = roberta_tokenizer_midi.convert_ids_to_tokens(a['input_ids'][0])\n",
    "print(toks)"
   ]
  },
  {
   "cell_type": "code",
   "execution_count": 36,
   "metadata": {},
   "outputs": [],
   "source": [
    "remi_tokenizer = REMI(params=Path('/media/datadisk/data/pretrained_models/midis_REMI_BPE_tokenizer.json'))"
   ]
  },
  {
   "cell_type": "code",
   "execution_count": 37,
   "metadata": {},
   "outputs": [],
   "source": [
    "toks_miditok = []\n",
    "for tok in toks:\n",
    "    if '_' in tok:\n",
    "        toks_miditok.append(tok)\n",
    "tok_seq = TokSequence(toks_miditok)"
   ]
  },
  {
   "cell_type": "code",
   "execution_count": 38,
   "metadata": {},
   "outputs": [
    {
     "name": "stdout",
     "output_type": "stream",
     "text": [
      "TokSequence(tokens=['bar_none', 'position_0', 'tempo_125', 'bar_none', 'bar_none', 'bar_none', 'bar_none', 'bar_none', 'bar_none', 'bar_none', 'bar_none', 'bar_none', 'position_12', 'pitch_58', 'velocity_68', 'duration_1', 'position_16', 'pitch_46', 'velocity_52', 'duration_1', 'position_22', 'pitch_51', 'velocity_58', 'duration_2', 'position_24', 'pitch_53', 'velocity_63', 'duration_1', 'bar_none', 'position_6', 'pitch_53', 'velocity_63', 'duration_1', 'position_12', 'pitch_50', 'velocity_68', 'duration_0', 'position_14', 'pitch_53', 'velocity_74', 'duration_1', 'position_18', 'pitch_53', 'velocity_63', 'duration_0', 'position_20', 'pitch_58', 'velocity_74', 'duration_1', 'pitch_65', 'velocity_74', 'duration_1', 'pitch_70', 'velocity_74', 'duration_1', 'position_28', 'pitch_52', 'velocity_68', 'duration_1', 'position_30', 'pitch_55', 'velocity_58', 'duration_0', 'pitch_76', 'velocity_63', 'duration_0', 'bar_none', 'position_2', 'pitch_53', 'velocity_58', 'duration_1', 'pitch_58', 'velocity_68', 'duration_0', 'position_8', 'pitch_53', 'velocity_68', 'duration_1', 'position_18', 'pitch_50', 'velocity_63', 'duration_1', 'pitch_70', 'velocity_84', 'duration_1', 'pitch_76', 'velocity_74', 'duration_1', 'position_24', 'pitch_53', 'velocity_68', 'duration_0', 'position_24', 'pitch_58', 'velocity_74', 'duration_0', 'pitch_67', 'velocity_84', 'duration_1', 'position_30', 'pitch_46', 'velocity_68', 'duration_1', 'pitch_60', 'velocity_58', 'duration_1', 'bar_none', 'position_2', 'pitch_58', 'velocity_74', 'duration_0', 'pitch_72', 'velocity_79', 'duration_0', 'position_6', 'pitch_53', 'velocity_68', 'duration_0', 'pitch_53', 'velocity_68', 'duration_0', 'pitch_58', 'velocity_74', 'duration_0', 'pitch_65', 'velocity_74', 'duration_0', 'position_14', 'pitch_58', 'velocity_63', 'duration_0', 'pitch_72', 'velocity_74', 'duration_0', 'pitch_72', 'velocity_74', 'duration_0', 'position_24', 'pitch_60', 'velocity_68', 'duration_0', 'pitch_65', 'velocity_58', 'duration_0', 'pitch_65', 'velocity_74', 'duration_0', 'position_28', 'pitch_60', 'velocity_74', 'duration_0', 'pitch_67', 'velocity_74', 'duration_0', 'bar_none', 'position_2', 'pitch_57', 'velocity_74', 'duration_0', 'pitch_67', 'velocity_84', 'duration_1', 'position_6', 'pitch_53', 'velocity_58', 'duration_1', 'pitch_58', 'velocity_68', 'duration_0', 'position_12', 'pitch_55', 'velocity_63', 'duration_0', 'position_14', 'pitch_53', 'velocity_58', 'duration_0', 'pitch_60', 'velocity_58', 'duration_0', 'pitch_69', 'velocity_68', 'duration_0', 'position_18', 'pitch_41', 'velocity_63', 'duration_0', 'position_24', 'pitch_60', 'velocity_63', 'duration_0', 'position_26', 'pitch_58', 'velocity_63', 'duration_0', 'pitch_65', 'velocity_63', 'duration_0', 'position_28', 'pitch_53', 'velocity_74', 'duration_0', 'pitch_57', 'velocity_74', 'duration_0', 'pitch_69', 'velocity_79', 'duration_0', 'pitch_64', 'velocity_74', 'duration_0', 'pitch_73', 'velocity_79', 'duration_1', 'pitch_67', 'velocity_74', 'duration_0', 'pitch_77', 'velocity_84', 'duration_1', 'bar_none', 'position_4', 'pitch_62', 'velocity_84', 'duration_1', 'pitch_72', 'velocity_74', 'duration_1', 'position_2', 'pitch_48', 'velocity_74', 'duration_0', 'pitch_70', 'velocity_79', 'duration_0', 'position_12', 'pitch_60', 'velocity_79', 'duration_0', 'pitch_70', 'velocity_84', 'duration_1', 'position_10', 'pitch_55', 'velocity_74', 'duration_0', 'pitch_70', 'velocity_79', 'duration_0', 'position_14', 'pitch_48', 'velocity_74', 'duration_0', 'pitch_65', 'velocity_68', 'duration_0', 'position_18', 'pitch_73', 'velocity_79', 'duration_1', 'pitch_76', 'velocity_74', 'duration_0', 'position_24', 'pitch_55', 'velocity_74', 'duration_0', 'position_26', 'pitch_58', 'velocity_58', 'duration_0', 'pitch_77', 'velocity_84', 'duration_0', 'position_28', 'pitch_55', 'velocity_74', 'duration_0', 'pitch_65', 'velocity_74', 'duration_0', 'pitch_67', 'velocity_84', 'duration_0', 'bar_none', 'position_6', 'pitch_50', 'velocity_74', 'duration_0', 'pitch_72', 'velocity_74', 'duration_0', 'pitch_70', 'velocity_79', 'duration_0', 'position_2', 'pitch_53', 'velocity_68', 'duration_0', 'pitch_48', 'velocity_68', 'duration_0', 'pitch_60', 'velocity_74', 'duration_0', 'pitch_72', 'velocity_74', 'duration_0', 'position_22', 'pitch_53', 'velocity_74', 'position_30', 'pitch_52', 'velocity_74', 'duration_0', 'pitch_65', 'velocity_58', 'pitch_60', 'velocity_58', 'duration_0', 'pitch_72', 'velocity_74', 'pitch_48', 'velocity_63', 'pitch_72', 'velocity_79', 'duration_0', 'position_28', 'pitch_48', 'velocity_68', 'duration_0', 'pitch_65', 'velocity_79', 'pitch_69', 'velocity_79', 'position_30', 'pitch_53', 'velocity_79', 'duration_0', 'pitch_72', 'velocity_74', 'duration_0', 'pitch_53', 'velocity_58', 'pitch_52', 'velocity_63', 'pitch_55', 'velocity_58', 'pitch_50', 'velocity_74', 'duration_0', 'pitch_71', 'velocity_58', 'position_10', 'pitch_62', 'velocity_68', 'pitch_72', 'velocity_58', 'pitch_67', 'velocity_74', 'pitch_69', 'velocity_63', 'pitch_60', 'velocity_68', 'pitch_70', 'velocity_74', 'duration_0', 'pitch_60', 'velocity_84', 'position_4', 'pitch_61', 'velocity_74', 'pitch_77', 'velocity_68', 'position_6', 'pitch_53', 'pitch_54', 'velocity_95', 'pitch_72', 'velocity_52', 'position_10', 'pitch_45', 'pitch_70', 'velocity_63', 'pitch_46', 'velocity_74', 'position_2', 'pitch_76', 'velocity_42', 'position_4', 'pitch_48', 'velocity_68', 'position_12', 'pitch_79', 'velocity_89', 'position_28', 'pitch_48', 'velocity_74', 'pitch_72', 'velocity_74', 'pitch_75', 'velocity_95', 'pitch_79', 'velocity_42', 'position_4', 'pitch_53', 'velocity_68', 'velocity_79', 'pitch_69', 'velocity_74', 'pitch_72', 'velocity_63', 'position_2', 'pitch_60', 'velocity_68', 'pitch_70', 'pitch_67', 'velocity_63', 'pitch_77', 'pitch_72', 'velocity_79', 'pitch_81', 'velocity_89', 'position_2', 'pitch_57', 'position_2', 'pitch_86', 'velocity_74', 'position_6', 'pitch_60', 'pitch_64', 'pitch_65', 'velocity_68', 'position_26', 'pitch_41', 'pitch_64', 'velocity_58', 'position_6', 'pitch_58', 'velocity_63', 'position_12', 'pitch_77', 'position_2', 'pitch_52', 'velocity_79', 'pitch_79', 'pitch_55', 'position_20', 'pitch_70', 'pitch_60', 'pitch_69', 'position_30', 'pitch_53', 'pitch_72', 'velocity_84', 'position_6', 'pitch_58', 'position_8', 'pitch_84', 'velocity_74', 'pitch_65', 'duration_1', 'position_14', 'pitch_57', 'position_2', 'pitch_89', 'position_30', 'pitch_77', 'pitch_74', 'pitch_64', 'duration_2', 'pitch_58', 'position_6', 'pitch_72', 'velocity_84', 'pitch_62', 'pitch_77', 'pitch_64', 'pitch_53', 'position_2', 'pitch_60', 'position_2', 'pitch_74', 'pitch_70', 'position_6', 'pitch_55', 'pitch_64', 'pitch_67', 'pitch_53', 'pitch_58', 'pitch_57', 'pitch_48', 'pitch_75', 'position_4', 'position_4', 'pitch_48', 'pitch_70', 'duration_1', 'pitch_46', 'position_4', 'position_16', 'pitch_77', 'pitch_69', 'pitch_77', 'pitch_60', 'position_2', 'pitch_58', 'pitch_77', 'velocity_26', 'pitch_77', 'pitch_50', 'pitch_62', 'pitch_67', 'position_8', 'pitch_66', 'pitch_72', 'duration_3', 'pitch_58', 'pitch_76', 'position_12', 'pitch_77', 'position_4', 'pitch_69', 'position_14', 'position_6', 'pitch_70', 'pitch_79', 'position_4', 'pitch_41', 'pitch_53', 'pitch_72', 'pitch_70', 'position_24', 'pitch_72', 'pitch_66', 'pitch_65', 'pitch_70', 'pitch_53', 'pitch_58', 'pitch_55', 'pitch_72', 'pitch_79', 'pitch_70', 'pitch_60', 'position_6', 'position_12', 'position_6', 'pitch_79', 'pitch_63', 'pitch_77', 'pitch_65', 'position_4', 'pitch_53', 'position_30', 'pitch_62', 'pitch_77', 'pitch_82', 'pitch_70', 'pitch_57', 'pitch_70', 'pitch_70', 'pitch_79', 'pitch_69', 'pitch_53', 'pitch_53', 'pitch_82', 'position_4', 'pitch_60', 'pitch_63', 'pitch_53', 'position_6', 'pitch_74', 'pitch_58', 'pitch_74', 'pitch_65', 'pitch_72', 'pitch_67', 'bar_none', 'pitch_70', 'position_14', 'position_2', 'pitch_73', 'pitch_70', 'pitch_77', 'duration_1', 'pitch_79', 'pitch_77', 'pitch_67', 'duration_0', 'pitch_53', 'pitch_67', 'pitch_70', 'pitch_72', 'pitch_69', 'pitch_62', 'pitch_72', 'position_2', 'pitch_69', 'pitch_78', 'pitch_70', 'position_6', 'pitch_58', 'pitch_48', 'pitch_65', 'pitch_53', 'pitch_72', 'pitch_72', 'pitch_77', 'position_6', 'pitch_58', 'pitch_76', 'position_4', 'pitch_55', 'pitch_72', 'position_4', 'position_28', 'pitch_65', 'position_12', 'pitch_72', 'pitch_69', 'pitch_55', 'pitch_79', 'pitch_71', 'position_6', 'pitch_70', 'pitch_75', 'position_4', 'position_30', 'position_10', 'position_8', 'pitch_58', 'position_4', 'pitch_72', 'pitch_74', 'position_26', 'position_30', 'position_6', 'pitch_66', 'duration_1', 'pitch_64', 'position_14', 'pitch_54', 'position_2', 'position_6', 'pitch_74', 'pitch_72', 'position_2', 'position_2', 'pitch_70', 'pitch_70', 'pitch_58', 'position_4', 'pitch_53', 'pitch_70', 'pitch_65', 'pitch_58', 'pitch_77', 'pitch_69', 'pitch_73', 'pitch_60', 'position_28', 'position_8', 'pitch_77', 'position_30', 'pitch_70', 'pitch_77', 'pitch_70', 'position_6', 'pitch_53', 'position_6', 'position_2', 'pitch_48', 'pitch_65', 'position_30', 'pitch_43', 'pitch_48', 'pitch_74', 'pitch_58', 'pitch_58', 'pitch_79', 'pitch_72', 'pitch_58', 'pitch_77', 'pitch_77', 'pitch_72', 'pitch_70', 'pitch_65', 'pitch_80', 'pitch_65', 'pitch_73', 'pitch_69', 'pitch_70', 'pitch_67', 'bar_none', 'pitch_64', 'pitch_72', 'pitch_64', 'pitch_60', 'pitch_60', 'pitch_74', 'duration_0', 'pitch_76', 'pitch_61', 'pitch_73', 'pitch_72', 'position_4', 'pitch_67', 'pitch_77', 'pitch_72', 'pitch_58', 'pitch_72', 'pitch_72', 'pitch_55', 'pitch_73', 'pitch_69', 'pitch_69', 'pitch_48', 'position_6', 'pitch_67', 'position_10', 'pitch_54', 'pitch_77', 'pitch_82', 'pitch_60', 'pitch_77', 'pitch_48', 'pitch_70', 'pitch_58', 'pitch_77', 'pitch_58', 'pitch_60', 'pitch_41', 'position_6', 'pitch_69', 'pitch_70', 'pitch_70', 'position_2', 'position_10', 'pitch_79', 'pitch_62', 'pitch_65', 'position_6', 'pitch_88', 'pitch_65', 'position_8', 'pitch_60', 'pitch_79', 'pitch_65', 'pitch_65', 'pitch_58', 'position_2', 'position_30', 'position_30', 'pitch_65', 'duration_1', 'position_6', 'pitch_72', 'pitch_60', 'pitch_57', 'pitch_64', 'pitch_58', 'position_0', 'pitch_62', 'pitch_66', 'pitch_73', 'pitch_72', 'pitch_81', 'pitch_70', 'bar_none', 'position_10', 'duration_1', 'position_2', 'pitch_57', 'pitch_72', 'duration_1', 'position_4', 'pitch_52', 'pitch_72', 'pitch_77', 'pitch_65', 'pitch_72', 'pitch_72', 'pitch_81', 'pitch_79', 'pitch_77', 'pitch_77', 'pitch_57', 'position_8', 'pitch_60', 'pitch_70', 'pitch_76', 'pitch_72', 'position_10', 'position_14', 'pitch_82', 'position_4', 'position_28', 'position_4', 'pitch_70', 'position_8', 'duration_0', 'position_10', 'pitch_62', 'pitch_72', 'pitch_58', 'position_8', 'pitch_69', 'pitch_55', 'pitch_53', 'pitch_63', 'pitch_65', 'position_12', 'position_8', 'pitch_64', 'pitch_65', 'pitch_70', 'pitch_74', 'pitch_53', 'position_6', 'position_12', 'pitch_72', 'pitch_57', 'position_6', 'duration_1', 'pitch_76', 'position_12', 'pitch_61', 'position_30', 'pitch_77', 'duration_0', 'pitch_48', 'pitch_81', 'position_2', 'position_30', 'pitch_72', 'pitch_74', 'pitch_65', 'pitch_70', 'pitch_74', 'position_30', 'pitch_58', 'position_2', 'pitch_79', 'pitch_70', 'pitch_74', 'pitch_72', 'pitch_43', 'pitch_60', 'position_30', 'position_8', 'position_8', 'pitch_70', 'pitch_76', 'pitch_67', 'position_4', 'position_2', 'pitch_67', 'position_4', 'position_4', 'pitch_70', 'pitch_77', 'bar_none', 'position_6', 'pitch_72', 'pitch_82', 'pitch_68', 'pitch_69', 'pitch_89', 'position_30', 'pitch_58', 'pitch_101', 'pitch_72', 'position_2', 'position_8', 'pitch_54', 'position_2', 'pitch_79', 'pitch_57', 'position_4', 'position_4', 'pitch_69', 'pitch_69', 'position_8', 'duration_0', 'pitch_63', 'pitch_76', 'pitch_53', 'pitch_58', 'pitch_48', 'pitch_70', 'position_4', 'pitch_53', 'position_22', 'pitch_54', 'pitch_72', 'pitch_74', 'pitch_67', 'pitch_70', 'pitch_67', 'pitch_53', 'pitch_60', 'position_4', 'pitch_48', 'position_6', 'pitch_48', 'pitch_78', 'position_14', 'position_18', 'pitch_65', 'position_16', 'pitch_58', 'position_14', 'pitch_65', 'pitch_73', 'pitch_75', 'duration_0', 'pitch_50', 'position_2', 'pitch_71', 'bar_none', 'pitch_72', 'pitch_72', 'pitch_76', 'position_4', 'pitch_70', 'position_30', 'position_4', 'pitch_67', 'position_6', 'pitch_72', 'position_14', 'pitch_81', 'position_12', 'pitch_76', 'pitch_77', 'position_4', 'pitch_70', 'position_30', 'pitch_69', 'pitch_70', 'position_14', 'position_22', 'position_8', 'position_4', 'pitch_72', 'pitch_41', 'velocity_84', 'position_2', 'pitch_66', 'position_10', 'position_2', 'pitch_54', 'pitch_76', 'position_6', 'pitch_67', 'position_26', 'pitch_60', 'position_30', 'pitch_64', 'pitch_69', 'position_2', 'pitch_65', 'position_12', 'position_2', 'pitch_65', 'position_2', 'position_4', 'pitch_64', 'position_8', 'pitch_60', 'position_20', 'pitch_60', 'pitch_74', 'pitch_70', 'pitch_79', 'position_8', 'position_22', 'pitch_58', 'duration_3', 'pitch_76', 'position_4', 'position_4', 'pitch_65', 'position_2', 'position_28', 'position_12', 'pitch_70', 'pitch_62', 'pitch_77', 'position_4', 'pitch_53', 'pitch_58', 'position_2', 'pitch_53', 'pitch_70', 'pitch_79', 'pitch_70', 'pitch_72', 'pitch_65', 'pitch_77', 'pitch_81', 'pitch_81', 'position_12', 'position_6', 'position_6', 'pitch_79', 'pitch_76', 'pitch_79', 'pitch_77', 'duration_1', 'pitch_69', 'pitch_65', 'pitch_72', 'duration_0', 'pitch_60', 'position_26', 'pitch_69', 'position_2', 'pitch_72', 'pitch_58', 'pitch_98', 'position_6', 'pitch_55', 'pitch_39', 'pitch_77', 'position_18', 'pitch_82', 'position_4', 'pitch_67', 'pitch_48', 'pitch_77', 'position_4', 'position_2', 'position_30', 'position_4', 'pitch_69', 'pitch_72', 'pitch_53', 'position_6', 'pitch_53', 'pitch_69', 'position_22', 'pitch_60', 'pitch_89', 'pitch_77', 'position_2', 'position_8', 'pitch_48', 'pitch_77', 'pitch_72', 'pitch_60', 'pitch_70', 'pitch_79', 'pitch_77', 'pitch_73', 'pitch_72', 'pitch_53', 'pitch_76', 'pitch_72', 'pitch_75', 'pitch_90', 'pitch_79', 'position_20', 'pitch_65', 'pitch_78', 'position_8', 'pitch_76', 'position_8', 'position_4', 'pitch_82', 'pitch_60', 'bar_none', 'pitch_77', 'position_2', 'pitch_85', 'position_2', 'pitch_91', 'pitch_53', 'pitch_63', 'position_2', 'position_4', 'position_10', 'position_8', 'position_26', 'pitch_53', 'pitch_67', 'pitch_60', 'position_8', 'pitch_50', 'position_2', 'pitch_70', 'pitch_53', 'pitch_65', 'position_2', 'pitch_63', 'pitch_82', 'pitch_84', 'pitch_65', 'pitch_65', 'position_28', 'position_6', 'pitch_65', 'pitch_45', 'pitch_58', 'position_26', 'pitch_65', 'position_8', 'pitch_84', 'position_2', 'pitch_65', 'pitch_70', 'pitch_75', 'pitch_72', 'position_24', 'pitch_65', 'position_28', 'pitch_77', 'pitch_70', 'position_2', 'duration_4', 'position_4', 'velocity_79', 'position_10', 'pitch_60', 'pitch_78', 'pitch_70', 'pitch_77', 'pitch_57', 'pitch_70', 'position_16', 'pitch_72', 'pitch_65', 'pitch_66', 'position_6', 'position_2', 'pitch_76', 'position_8', 'pitch_72', 'position_6', 'pitch_69', 'pitch_36', 'pitch_69', 'position_6', 'pitch_62', 'pitch_72', 'position_8', 'pitch_82', 'pitch_79', 'bar_none', 'position_22', 'pitch_70', 'pitch_48', 'pitch_61', 'pitch_70', 'pitch_53', 'duration_1', 'pitch_65', 'pitch_70', 'pitch_70', 'position_4', 'duration_1', 'pitch_46', 'pitch_60', 'pitch_70', 'pitch_60', 'duration_1', 'pitch_67', 'pitch_58', 'velocity_89', 'pitch_62', 'position_10', 'position_30', 'pitch_74', 'pitch_70', 'pitch_48', 'pitch_53', 'pitch_61', 'position_8', 'pitch_72', 'pitch_75', 'pitch_73', 'pitch_67', 'pitch_72', 'position_6', 'pitch_70', 'position_28', 'pitch_70', 'position_4', 'pitch_72', 'pitch_65', 'position_16', 'pitch_70', 'pitch_79', 'position_2', 'pitch_76', 'position_8', 'pitch_53', 'pitch_69', 'position_8', 'pitch_79', 'pitch_77', 'pitch_70', 'position_24', 'pitch_62', 'pitch_74', 'position_4', 'pitch_58', 'position_6', 'position_6', 'position_6', 'pitch_73', 'pitch_64', 'position_4', 'pitch_72', 'pitch_69', 'position_4', 'pitch_60', 'pitch_72', 'pitch_67', 'pitch_60', 'position_4', 'pitch_65', 'pitch_81', 'pitch_57', 'pitch_63', 'pitch_72', 'pitch_77', 'pitch_64', 'pitch_77', 'pitch_72', 'pitch_67', 'pitch_69', 'pitch_46', 'pitch_72', 'pitch_69', 'pitch_69', 'position_24', 'pitch_70', 'pitch_67', 'pitch_60', 'pitch_71', 'pitch_72', 'pitch_67', 'pitch_84', 'pitch_62', 'pitch_69', 'pitch_60', 'pitch_60', 'pitch_57', 'pitch_79', 'pitch_55', 'pitch_61', 'position_4', 'pitch_60', 'pitch_67', 'position_8', 'pitch_70', 'pitch_79', 'position_2', 'position_30', 'pitch_70', 'pitch_65', 'pitch_64', 'pitch_62', 'pitch_31', 'position_2', 'position_28', 'pitch_68', 'pitch_83', 'pitch_64', 'pitch_72', 'pitch_58', 'position_30', 'pitch_62', 'position_2', 'pitch_65', 'pitch_70', 'pitch_70', 'position_6', 'duration_0', 'pitch_77', 'pitch_43', 'pitch_60', 'pitch_60', 'pitch_60', 'position_2', 'pitch_81', 'pitch_70', 'pitch_58', 'pitch_67', 'position_4', 'pitch_79', 'pitch_57', 'pitch_64', 'pitch_72', 'position_2', 'pitch_79', 'pitch_70', 'pitch_74', 'pitch_81', 'pitch_77', 'velocity_74', 'pitch_82', 'pitch_62', 'position_4', 'pitch_72', 'pitch_48', 'velocity_37', 'position_6', 'pitch_81', 'pitch_70', 'position_30', 'pitch_46', 'position_16', 'pitch_77', 'pitch_77', 'pitch_65', 'pitch_64', 'pitch_53', 'pitch_58', 'position_2', 'position_6', 'position_8', 'pitch_74', 'position_4', 'pitch_58', 'pitch_76', 'pitch_70', 'position_4', 'pitch_77', 'pitch_70', 'position_4', 'pitch_70', 'pitch_70', 'pitch_74', 'pitch_78', 'pitch_58', 'position_6', 'pitch_72', 'pitch_70', 'pitch_69', 'duration_2', 'position_6', 'duration_1', 'position_4', 'position_4', 'position_4', 'position_6', 'pitch_69', 'pitch_47', 'pitch_76', 'pitch_70', 'pitch_72', 'pitch_70', 'pitch_53', 'pitch_79', 'pitch_70', 'pitch_69', 'position_20', 'pitch_70', 'pitch_74', 'pitch_64', 'pitch_65', 'pitch_67', 'pitch_73', 'position_12', 'pitch_62', 'pitch_77', 'pitch_77', 'pitch_77', 'pitch_74', 'position_2', 'pitch_60', 'pitch_70', 'pitch_70', 'pitch_67', 'position_2', 'pitch_72', 'position_10', 'pitch_65', 'pitch_88', 'pitch_76', 'pitch_58', 'pitch_62', 'duration_2', 'position_10', 'pitch_65', 'bar_none', 'pitch_60', 'position_2', 'pitch_82', 'pitch_53', 'pitch_70', 'position_4', 'pitch_82', 'pitch_58', 'pitch_72', 'pitch_74', 'pitch_77', 'pitch_69', 'pitch_69', 'pitch_68', 'pitch_65', 'position_6', 'pitch_81', 'pitch_70', 'pitch_77', 'pitch_67', 'velocity_89', 'pitch_79', 'pitch_79', 'pitch_87', 'pitch_77', 'position_16', 'pitch_79', 'pitch_72', 'pitch_72', 'pitch_65', 'pitch_70', 'pitch_75', 'position_28', 'position_8', 'position_20', 'pitch_84', 'pitch_79', 'position_2', 'velocity_89', 'pitch_74', 'pitch_74', 'pitch_84', 'position_4', 'position_8', 'position_8', 'pitch_77', 'position_8', 'position_4', 'pitch_79', 'duration_1', 'pitch_72', 'pitch_53', 'pitch_58', 'position_4', 'position_4', 'pitch_81', 'pitch_70', 'pitch_61', 'position_24', 'pitch_54', 'pitch_77', 'pitch_77', 'pitch_67', 'pitch_69', 'pitch_62', 'position_4', 'duration_1', 'position_2', 'pitch_70', 'position_30', 'pitch_74', 'pitch_84', 'pitch_76', 'pitch_81', 'pitch_69', 'position_2', 'bar_none', 'duration_1', 'position_12', 'pitch_60', 'pitch_74', 'pitch_55', 'pitch_69', 'pitch_70', 'pitch_67', 'pitch_70', 'pitch_76', 'pitch_53', 'pitch_48', 'position_10', 'pitch_74', 'pitch_36', 'pitch_69', 'pitch_69', 'pitch_70', 'pitch_65', 'pitch_58', 'position_2', 'pitch_77', 'position_10', 'position_10', 'pitch_62', 'pitch_83', 'bar_none', 'pitch_67', 'pitch_74', 'pitch_65', 'bar_none', 'position_28', 'position_8', 'pitch_70', 'duration_1', 'pitch_65', 'pitch_65', 'pitch_58', 'position_6', 'pitch_61', 'pitch_64', 'pitch_77', 'pitch_46', 'position_4', 'pitch_60', 'pitch_78', 'position_10', 'position_6', 'pitch_70', 'position_28', 'pitch_58', 'position_4', 'pitch_66', 'position_8', 'pitch_70', 'pitch_55', 'position_2', 'velocity_95', 'duration_1', 'position_4', 'pitch_77', 'pitch_62', 'pitch_65', 'pitch_82', 'pitch_48', 'position_6', 'position_2', 'pitch_82', 'pitch_58', 'pitch_46', 'pitch_84', 'pitch_72', 'position_8', 'pitch_53', 'pitch_72', 'position_10', 'pitch_74', 'pitch_61', 'pitch_48', 'pitch_76', 'pitch_77', 'pitch_72', 'position_4', 'pitch_72', 'velocity_100', 'pitch_73', 'pitch_77', 'pitch_53', 'pitch_77', 'pitch_55', 'position_2', 'pitch_58', 'position_2', 'pitch_67', 'position_2', 'pitch_67', 'pitch_57', 'pitch_65', 'position_2', 'pitch_72', 'pitch_72', 'position_28', 'pitch_48', 'pitch_45', 'pitch_58', 'position_4', 'bar_none', 'pitch_54', 'pitch_81', 'pitch_60', 'pitch_76', 'bar_none', 'pitch_69', 'position_6', 'pitch_72', 'pitch_84', 'position_6', 'pitch_72', 'position_4', 'pitch_79', 'position_12', 'pitch_52', 'pitch_53', 'position_8', 'position_4', 'position_12', 'pitch_64', 'pitch_75', 'position_24', 'pitch_74', 'pitch_70', 'pitch_62', 'pitch_72', 'pitch_46', 'pitch_70', 'pitch_70', 'pitch_70', 'position_12', 'position_4', 'pitch_48', 'pitch_77', 'pitch_53', 'position_4', 'position_2', 'pitch_41', 'pitch_55', 'position_2', 'pitch_77', 'pitch_72', 'pitch_69', 'position_4', 'pitch_41', 'position_4', 'position_12', 'pitch_70', 'pitch_57', 'pitch_72', 'pitch_74', 'pitch_48', 'pitch_67', 'position_2', 'pitch_65', 'position_2', 'pitch_72', 'pitch_60', 'position_14', 'pitch_82', 'pitch_64', 'pitch_60', 'pitch_65', 'pitch_60', 'pitch_76', 'pitch_70', 'position_2', 'pitch_41', 'pitch_86', 'pitch_55', 'pitch_77', 'pitch_65', 'pitch_65', 'pitch_60', 'position_2', 'pitch_79', 'pitch_46', 'pitch_62', 'position_8', 'pitch_72', 'pitch_60', 'pitch_65', 'position_4', 'pitch_65', 'pitch_58', 'pitch_60', 'pitch_54', 'pitch_77', 'pitch_54', 'pitch_81', 'bar_none', 'position_30', 'pitch_60', 'pitch_72', 'pitch_62', 'position_26', 'pitch_70', 'position_12', 'pitch_70', 'pitch_65', 'pitch_55', 'pitch_58', 'position_16', 'pitch_60', 'pitch_72', 'pitch_65', 'pitch_86', 'pitch_64', 'pitch_70', 'pitch_72', 'pitch_65', 'position_28', 'bar_none', 'pitch_58', 'pitch_58', 'pitch_43', 'pitch_70', 'pitch_70', 'pitch_60', 'pitch_78', 'pitch_72', 'pitch_74', 'pitch_48', 'pitch_77', 'position_8', 'position_10', 'pitch_73', 'pitch_66', 'pitch_70', 'position_4', 'pitch_53', 'position_2', 'position_0', 'pitch_76', 'bar_none', 'pitch_77', 'bar_none', 'pitch_72', 'pitch_76', 'pitch_73', 'pitch_65', 'pitch_72', 'position_8', 'pitch_58', 'position_4', 'duration_1', 'pitch_46', 'pitch_53', 'pitch_65', 'pitch_65', 'position_4', 'pitch_48', 'position_12', 'pitch_79', 'position_24', 'position_8', 'pitch_82', 'position_4', 'pitch_65', 'pitch_65', 'pitch_72', 'pitch_48', 'pitch_58', 'pitch_72', 'pitch_77', 'position_2', 'bar_none', 'pitch_53', 'bar_none', 'pitch_70', 'position_16', 'pitch_72', 'position_14', 'position_2', 'position_8', 'pitch_72', 'pitch_69', 'position_6', 'position_6', 'position_20', 'pitch_70', 'position_26', 'pitch_69', 'position_24', 'pitch_70', 'position_4', 'position_2', 'pitch_79', 'pitch_70', 'pitch_72', 'pitch_65', 'pitch_70', 'pitch_65', 'pitch_70', 'pitch_70', 'pitch_57', 'pitch_70', 'pitch_53', 'position_4', 'pitch_67', 'pitch_57', 'position_8', 'pitch_64', 'pitch_70', 'position_18', 'position_2', 'pitch_76', 'pitch_89', 'pitch_60', 'pitch_81', 'pitch_82', 'duration_1', 'position_2', 'pitch_58', 'pitch_53', 'pitch_72', 'position_4', 'pitch_70', 'pitch_60', 'pitch_53', 'pitch_77', 'pitch_70', 'pitch_77', 'pitch_76', 'pitch_77', 'position_2', 'pitch_72', 'pitch_69', 'position_30', 'pitch_67', 'pitch_59', 'position_2', 'position_6', 'pitch_69', 'pitch_67', 'position_2', 'position_2', 'pitch_76', 'position_2', 'pitch_57', 'pitch_50', 'pitch_60', 'pitch_41', 'position_30', 'pitch_77', 'pitch_73', 'duration_1', 'pitch_84', 'position_4', 'pitch_82', 'pitch_43', 'pitch_61', 'pitch_41', 'pitch_70', 'pitch_70', 'position_2', 'position_4', 'pitch_67', 'position_22', 'position_2', 'pitch_65', 'position_4', 'pitch_67', 'position_8', 'pitch_84', 'pitch_58', 'pitch_77', 'pitch_62', 'pitch_74', 'pitch_76', 'position_6', 'pitch_70', 'pitch_77', 'velocity_68', 'pitch_70', 'pitch_58', 'position_4', 'pitch_88', 'pitch_53', 'pitch_78', 'pitch_69', 'pitch_41', 'pitch_76', 'pitch_73', 'pitch_72', 'position_4', 'position_6', 'pitch_70', 'pitch_72', 'position_2', 'pitch_77', 'pitch_50', 'pitch_60', 'pitch_58', 'pitch_60', 'pitch_75', 'pitch_60', 'pitch_55', 'position_6', 'position_4', 'pitch_85', 'pitch_69', 'pitch_65', 'position_2', 'pitch_60', 'pitch_65', 'pitch_67', 'pitch_74', 'position_6', 'pitch_69', 'pitch_48', 'pitch_70', 'pitch_65', 'pitch_69', 'pitch_76', 'pitch_73', 'pitch_70', 'position_4', 'pitch_63', 'pitch_53', 'pitch_71', 'pitch_78', 'velocity_95', 'pitch_88', 'position_8', 'position_20', 'position_6', 'pitch_74', 'position_16', 'pitch_53', 'pitch_77', 'pitch_67', 'pitch_70', 'pitch_81', 'pitch_72', 'pitch_75', 'position_4', 'pitch_76', 'pitch_76', 'position_8', 'pitch_48', 'position_2', 'position_6', 'position_14', 'pitch_70', 'position_28', 'pitch_62', 'pitch_73', 'position_4', 'pitch_70', 'pitch_58', 'position_2', 'position_10', 'pitch_65', 'pitch_72', 'position_0', 'position_10', 'position_4', 'pitch_60', 'pitch_79', 'pitch_55', 'velocity_74', 'pitch_41', 'pitch_48', 'pitch_65', 'position_8', 'pitch_53', 'pitch_74', 'pitch_75', 'pitch_91', 'pitch_65', 'pitch_76', 'pitch_77', 'pitch_76', 'pitch_63', 'pitch_70', 'position_2', 'pitch_74', 'pitch_79', 'position_10', 'pitch_70', 'position_8', 'pitch_76', 'position_30', 'pitch_72', 'pitch_64', 'pitch_74', 'pitch_70', 'pitch_60', 'position_14', 'position_18', 'position_28', 'position_8', 'pitch_77', 'pitch_58', 'bar_none', 'pitch_77', 'pitch_77', 'position_2', 'position_28', 'position_4', 'position_4', 'position_14', 'pitch_69', 'position_4'], ids=[], bytes='', events=[], are_ids_encoded=False, _ticks_bars=[], _ticks_beats=[], _ids_decoded=[])\n"
     ]
    }
   ],
   "source": [
    "print(tok_seq)"
   ]
  },
  {
   "cell_type": "code",
   "execution_count": 39,
   "metadata": {},
   "outputs": [
    {
     "name": "stderr",
     "output_type": "stream",
     "text": [
      "/tmp/ipykernel_681/2386078323.py:1: UserWarning: miditok: The `tokens_to_midi` method had been renamed `decode`. It is now depreciated and will be removed in future updates.\n",
      "  m = remi_tokenizer.tokens_to_midi(tokens=[tok_seq])\n"
     ]
    }
   ],
   "source": [
    "m = remi_tokenizer.tokens_to_midi(tokens=[tok_seq])"
   ]
  },
  {
   "cell_type": "code",
   "execution_count": 40,
   "metadata": {},
   "outputs": [
    {
     "name": "stdout",
     "output_type": "stream",
     "text": [
      "Score(ttype=Tick, tpq=8, begin=0, end=0, tracks=0, notes=0, time_sig=1, key_sig=0, markers=0)\n"
     ]
    }
   ],
   "source": [
    "print(m)"
   ]
  },
  {
   "cell_type": "code",
   "execution_count": 41,
   "metadata": {},
   "outputs": [],
   "source": [
    "m.dump_midi(\"out.mid\")"
   ]
  },
  {
   "cell_type": "code",
   "execution_count": 42,
   "metadata": {},
   "outputs": [],
   "source": [
    "s = symusic.Score(\"out.mid\")"
   ]
  },
  {
   "cell_type": "code",
   "execution_count": 43,
   "metadata": {},
   "outputs": [
    {
     "name": "stdout",
     "output_type": "stream",
     "text": [
      "Score(ttype=Tick, tpq=8, begin=0, end=0, tracks=0, notes=0, time_sig=1, key_sig=0, markers=0)\n"
     ]
    }
   ],
   "source": [
    "print(s)"
   ]
  }
 ],
 "metadata": {
  "kernelspec": {
   "display_name": "torch",
   "language": "python",
   "name": "python3"
  },
  "language_info": {
   "codemirror_mode": {
    "name": "ipython",
    "version": 3
   },
   "file_extension": ".py",
   "mimetype": "text/x-python",
   "name": "python",
   "nbconvert_exporter": "python",
   "pygments_lexer": "ipython3",
   "version": "3.11.5"
  }
 },
 "nbformat": 4,
 "nbformat_minor": 2
}
