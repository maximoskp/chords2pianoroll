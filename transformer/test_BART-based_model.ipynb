{
 "cells": [
  {
   "cell_type": "code",
   "execution_count": 1,
   "metadata": {},
   "outputs": [
    {
     "name": "stderr",
     "output_type": "stream",
     "text": [
      "/home/maximos/anaconda3/envs/torch/lib/python3.11/site-packages/tqdm/auto.py:21: TqdmWarning: IProgress not found. Please update jupyter and ipywidgets. See https://ipywidgets.readthedocs.io/en/stable/user_install.html\n",
      "  from .autonotebook import tqdm as notebook_tqdm\n"
     ]
    }
   ],
   "source": [
    "from transformers import BartForConditionalGeneration, BartConfig\n",
    "from transformers import RobertaTokenizerFast\n",
    "import torch"
   ]
  },
  {
   "cell_type": "code",
   "execution_count": 2,
   "metadata": {},
   "outputs": [],
   "source": [
    "roberta_tokenizer_midi = RobertaTokenizerFast.from_pretrained('/media/datadisk/data/pretrained_models/midi_mlm_tiny/midi_wordlevel_tokenizer')"
   ]
  },
  {
   "cell_type": "code",
   "execution_count": 5,
   "metadata": {},
   "outputs": [],
   "source": [
    "bart_config = BartConfig(\n",
    "    vocab_size=roberta_tokenizer_midi.vocab_size,\n",
    "    pad_token_id=roberta_tokenizer_midi.pad_token_id,\n",
    "    bos_token_id=roberta_tokenizer_midi.bos_token_id,\n",
    "    eos_token_id=roberta_tokenizer_midi.eos_token_id,\n",
    "    decoder_start_token_id=roberta_tokenizer_midi.bos_token_id,\n",
    "    forced_eos_token_id=roberta_tokenizer_midi.eos_token_id,\n",
    "    max_position_embeddings=4096,\n",
    "    encoder_layers=4,\n",
    "    encoder_attention_heads=4,\n",
    "    encoder_ffn_dim=512,\n",
    "    decoder_layers=4,\n",
    "    decoder_attention_heads=4,\n",
    "    decoder_ffn_dim=512,\n",
    "    d_model=512,\n",
    "    encoder_layerdrop=0.2,\n",
    "    decoder_layerdrop=0.2,\n",
    "    dropout=0.2\n",
    ")\n",
    "model = BartForConditionalGeneration(bart_config)"
   ]
  }
 ],
 "metadata": {
  "kernelspec": {
   "display_name": "torch",
   "language": "python",
   "name": "python3"
  },
  "language_info": {
   "codemirror_mode": {
    "name": "ipython",
    "version": 3
   },
   "file_extension": ".py",
   "mimetype": "text/x-python",
   "name": "python",
   "nbconvert_exporter": "python",
   "pygments_lexer": "ipython3",
   "version": "3.11.5"
  }
 },
 "nbformat": 4,
 "nbformat_minor": 2
}
