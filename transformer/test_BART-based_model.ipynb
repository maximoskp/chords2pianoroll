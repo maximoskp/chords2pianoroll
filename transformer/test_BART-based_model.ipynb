{
 "cells": [
  {
   "cell_type": "code",
   "execution_count": 1,
   "metadata": {},
   "outputs": [
    {
     "name": "stderr",
     "output_type": "stream",
     "text": [
      "/home/maximos/anaconda3/envs/torch/lib/python3.11/site-packages/tqdm/auto.py:21: TqdmWarning: IProgress not found. Please update jupyter and ipywidgets. See https://ipywidgets.readthedocs.io/en/stable/user_install.html\n",
      "  from .autonotebook import tqdm as notebook_tqdm\n"
     ]
    }
   ],
   "source": [
    "from transformers import BartForConditionalGeneration, BartConfig\n",
    "from transformers import RobertaTokenizerFast\n",
    "import torch\n",
    "from torch.utils.data import DataLoader\n",
    "\n",
    "from models import MelCAT_base\n",
    "from dataset_utils import LiveMelCATDataset, MelCATCollator\n",
    "\n",
    "from torch.nn import CrossEntropyLoss"
   ]
  },
  {
   "cell_type": "code",
   "execution_count": 2,
   "metadata": {},
   "outputs": [
    {
     "name": "stdout",
     "output_type": "stream",
     "text": [
      "170\n"
     ]
    }
   ],
   "source": [
    "roberta_tokenizer_midi = RobertaTokenizerFast.from_pretrained('/media/datadisk/data/pretrained_models/midi_mlm_tiny/midi_wordlevel_tokenizer')\n",
    "print(roberta_tokenizer_midi.vocab_size)"
   ]
  },
  {
   "cell_type": "code",
   "execution_count": 3,
   "metadata": {},
   "outputs": [
    {
     "name": "stderr",
     "output_type": "stream",
     "text": [
      "Some weights of RobertaModel were not initialized from the model checkpoint at roberta-base and are newly initialized: ['roberta.pooler.dense.bias', 'roberta.pooler.dense.weight']\n",
      "You should probably TRAIN this model on a down-stream task to be able to use it for predictions and inference.\n",
      "Some weights of RobertaModel were not initialized from the model checkpoint at /media/datadisk/data/pretrained_models/midi_mlm_tiny/checkpoint-5120 and are newly initialized: ['roberta.pooler.dense.bias', 'roberta.pooler.dense.weight']\n",
      "You should probably TRAIN this model on a down-stream task to be able to use it for predictions and inference.\n",
      "Some weights of RobertaModel were not initialized from the model checkpoint at /media/datadisk/data/pretrained_models/chroma_mlm_tiny/checkpoint-14336 and are newly initialized: ['roberta.pooler.dense.bias', 'roberta.pooler.dense.weight']\n",
      "You should probably TRAIN this model on a down-stream task to be able to use it for predictions and inference.\n"
     ]
    },
    {
     "name": "stdout",
     "output_type": "stream",
     "text": [
      "initialized\n"
     ]
    }
   ],
   "source": [
    "bart_config = BartConfig(\n",
    "    vocab_size=roberta_tokenizer_midi.vocab_size,\n",
    "    pad_token_id=roberta_tokenizer_midi.pad_token_id,\n",
    "    bos_token_id=roberta_tokenizer_midi.bos_token_id,\n",
    "    eos_token_id=roberta_tokenizer_midi.eos_token_id,\n",
    "    decoder_start_token_id=roberta_tokenizer_midi.bos_token_id,\n",
    "    forced_eos_token_id=roberta_tokenizer_midi.eos_token_id,\n",
    "    max_position_embeddings=4096,\n",
    "    encoder_layers=4,\n",
    "    encoder_attention_heads=4,\n",
    "    encoder_ffn_dim=256,\n",
    "    decoder_layers=4,\n",
    "    decoder_attention_heads=4,\n",
    "    decoder_ffn_dim=256,\n",
    "    d_model=256,\n",
    "    encoder_layerdrop=0.2,\n",
    "    decoder_layerdrop=0.2,\n",
    "    dropout=0.2\n",
    ")\n",
    "# model = BartForConditionalGeneration(bart_config)\n",
    "model = MelCAT_base(bart_config)"
   ]
  },
  {
   "cell_type": "code",
   "execution_count": 4,
   "metadata": {},
   "outputs": [],
   "source": [
    "# Freeze the parameters of pretrained models\n",
    "for param in model.text_encoder.parameters():\n",
    "    param.requires_grad = False\n",
    "\n",
    "for param in model.chroma_encoder.parameters():\n",
    "    param.requires_grad = False\n",
    "\n",
    "for param in model.midi_encoder.parameters():\n",
    "    param.requires_grad = False"
   ]
  },
  {
   "cell_type": "code",
   "execution_count": 6,
   "metadata": {},
   "outputs": [],
   "source": [
    "params = list(model.bart_model.parameters()) + list( model.text_lstm.parameters())\n",
    "optimizer = torch.optim.AdamW( params, lr=0.001)"
   ]
  },
  {
   "cell_type": "code",
   "execution_count": 7,
   "metadata": {},
   "outputs": [
    {
     "name": "stderr",
     "output_type": "stream",
     "text": [
      "/home/maximos/anaconda3/envs/torch/lib/python3.11/site-packages/transformers/tokenization_utils_base.py:1617: FutureWarning: `clean_up_tokenization_spaces` was not set. It will be set to `True` by default. This behavior will be deprecated in transformers v4.45, and will be then set to `False` by default. For more details check this issue: https://github.com/huggingface/transformers/issues/31884\n",
      "  warnings.warn(\n"
     ]
    }
   ],
   "source": [
    "midifolder = '/media/datadisk/datasets/GiantMIDI-PIano/midis_v1.2/midis'\n",
    "# midifolder = '/media/datadisk/data/Giant_PIano/'\n",
    "dataset = LiveMelCATDataset(midifolder, segment_size=40)\n",
    "\n",
    "custom_collate_fn = MelCATCollator(max_seq_lens=dataset.max_seq_lengths, padding_values=dataset.padding_values)"
   ]
  },
  {
   "cell_type": "code",
   "execution_count": 8,
   "metadata": {},
   "outputs": [],
   "source": [
    "dataloader = DataLoader(dataset, batch_size=4, collate_fn=custom_collate_fn)"
   ]
  },
  {
   "cell_type": "code",
   "execution_count": 9,
   "metadata": {},
   "outputs": [
    {
     "name": "stdout",
     "output_type": "stream",
     "text": [
      "idx: 0\n",
      "Ismagilov, Timur, Spring Sketches, 2QxuHQoT5Dk.mid\n",
      "idx: 1\n",
      "Gurlitt, Cornelius, Frühlingsblumen, Op.215, WD6wHfUb-kU.mid\n",
      "idx: 2\n",
      "Singelée, Jean Baptiste, Fantaisie sur des motifs de 'La sonnambula', Op.39, AcaSiJG7mkU.mid\n",
      "idx: 3\n",
      "Simpson, Daniel Léo, Kleine Klavierstücke No.9 in F major, R4z8vPF1Hto.mid\n"
     ]
    }
   ],
   "source": [
    "b = next(iter(dataloader))"
   ]
  },
  {
   "cell_type": "code",
   "execution_count": 10,
   "metadata": {},
   "outputs": [
    {
     "name": "stdout",
     "output_type": "stream",
     "text": [
      "torch.Size([4, 40]) torch.Size([4, 276]) torch.Size([4, 417])\n",
      "torch.Size([4, 40]) torch.Size([4, 276]) torch.Size([4, 417])\n"
     ]
    }
   ],
   "source": [
    "# print(b)\n",
    "print(b['text']['input_ids'].shape, b['melody']['input_ids'].shape, b['chroma']['input_ids'].shape)\n",
    "print(b['text']['attention_mask'].shape, b['melody']['attention_mask'].shape, b['chroma']['attention_mask'].shape)"
   ]
  },
  {
   "cell_type": "code",
   "execution_count": 11,
   "metadata": {},
   "outputs": [],
   "source": [
    "# shift accomp\n",
    "shifted_accomp = {\n",
    "    'input_ids': b['accomp']['input_ids'].new_zeros(b['accomp']['input_ids'].shape),\n",
    "    'attention_mask': b['accomp']['attention_mask'].new_zeros(b['accomp']['attention_mask'].shape)\n",
    "}\n",
    "\n",
    "shifted_accomp['input_ids'][:, 1:] = b['accomp']['input_ids'][:, :-1].clone()  # Shift by one\n",
    "shifted_accomp['attention_mask'][:, 1:] = b['accomp']['attention_mask'][:, :-1].clone()  # Shift by one\n",
    "\n",
    "shifted_accomp['input_ids'][:, 0] = roberta_tokenizer_midi.bos_token_id  # Add start token\n",
    "shifted_accomp['attention_mask'][:, 0] = 1  # Add attention at start"
   ]
  },
  {
   "cell_type": "code",
   "execution_count": 12,
   "metadata": {},
   "outputs": [
    {
     "name": "stdout",
     "output_type": "stream",
     "text": [
      "in forward\n"
     ]
    },
    {
     "name": "stdout",
     "output_type": "stream",
     "text": [
      "torch.Size([4, 40, 768])\n",
      "torch.Size([4, 40, 256])\n",
      "torch.Size([4, 276, 256])\n",
      "torch.Size([4, 417, 256])\n",
      "torch.Size([4, 2133])\n",
      "torch.Size([4, 694, 256])\n",
      "torch.Size([4, 694, 256])\n"
     ]
    }
   ],
   "source": [
    "y = model(b['text'], b['melody'], b['chroma'], shifted_accomp) # y is the logits"
   ]
  },
  {
   "cell_type": "code",
   "execution_count": 13,
   "metadata": {},
   "outputs": [
    {
     "name": "stdout",
     "output_type": "stream",
     "text": [
      "torch.Size([4, 2133, 170])\n",
      "tensor([[[-7.8665e-01,  2.8517e+00, -1.7277e-02,  ..., -2.5381e-01,\n",
      "           7.0461e-01,  2.2743e-01],\n",
      "         [-4.6441e-03, -1.9576e-01, -8.8439e-03,  ...,  1.4149e-01,\n",
      "           3.6048e-01,  2.9292e-01],\n",
      "         [ 2.9452e-02, -2.3207e-01, -2.2551e-02,  ..., -1.6979e-01,\n",
      "          -1.6077e-01, -4.0275e-02],\n",
      "         ...,\n",
      "         [-2.9329e-01,  4.1008e-01,  6.9159e-01,  ..., -7.8541e-01,\n",
      "           2.7483e-01, -3.8374e-01],\n",
      "         [ 4.5838e-01, -1.8517e-01,  5.0738e-01,  ..., -3.5898e-01,\n",
      "          -2.3847e-01,  2.3564e-02],\n",
      "         [-3.3708e-01, -1.8842e-01,  2.0431e-02,  ...,  2.2826e-01,\n",
      "           2.8365e-01,  2.7119e-02]],\n",
      "\n",
      "        [[-9.5609e-01,  3.1644e+00, -1.2974e-01,  ..., -3.3767e-01,\n",
      "           7.8777e-01,  3.9883e-01],\n",
      "         [ 8.7844e-02, -1.1841e-01, -4.4279e-03,  ...,  3.0918e-01,\n",
      "           5.1439e-01,  2.3475e-01],\n",
      "         [-1.2745e-01, -9.3867e-02, -1.5588e-01,  ..., -3.1439e-01,\n",
      "          -4.8095e-03, -2.7512e-01],\n",
      "         ...,\n",
      "         [-1.5421e-01,  3.5016e-01,  7.0658e-01,  ..., -6.4869e-01,\n",
      "           2.3665e-01, -2.1520e-01],\n",
      "         [ 3.1356e-01, -1.9131e-01,  3.1297e-01,  ..., -1.9529e-01,\n",
      "          -4.6447e-01, -4.1028e-02],\n",
      "         [-5.5472e-02, -3.5075e-01, -1.0262e-01,  ...,  4.5239e-01,\n",
      "           2.7785e-01,  1.9875e-01]],\n",
      "\n",
      "        [[-6.1956e-01,  2.9835e+00, -2.1520e-01,  ..., -2.3293e-01,\n",
      "           7.5428e-01,  1.3342e-01],\n",
      "         [ 2.5804e-01, -2.1852e-01, -1.6540e-01,  ...,  3.3050e-01,\n",
      "           4.6096e-01,  1.8978e-02],\n",
      "         [-1.7007e-02, -7.7415e-02, -3.5331e-01,  ..., -2.7452e-03,\n",
      "          -1.5428e-01, -9.5179e-02],\n",
      "         ...,\n",
      "         [-4.3219e-01,  1.1711e-01,  3.0959e-01,  ..., -3.5877e-01,\n",
      "          -1.4719e-01, -4.6206e-01],\n",
      "         [-2.8250e-02,  2.0391e-01,  1.0792e-01,  ..., -1.0264e-01,\n",
      "          -2.2027e-01,  4.6731e-02],\n",
      "         [-4.7531e-02, -7.1060e-02, -1.1969e-01,  ...,  1.5725e-01,\n",
      "           1.8881e-01, -3.5010e-02]],\n",
      "\n",
      "        [[-7.3115e-01,  2.8474e+00, -2.8417e-01,  ..., -2.2395e-01,\n",
      "           3.9965e-01,  3.1655e-01],\n",
      "         [ 3.7541e-01, -4.9627e-02, -1.3774e-01,  ...,  3.4187e-01,\n",
      "           5.4257e-01, -9.6665e-03],\n",
      "         [-3.1614e-01, -1.2945e-01, -3.3550e-01,  ..., -4.7463e-01,\n",
      "          -2.3779e-01, -1.5915e-01],\n",
      "         ...,\n",
      "         [-3.4468e-01,  5.1494e-01,  5.7832e-01,  ..., -5.8047e-01,\n",
      "          -5.2019e-03, -7.5687e-02],\n",
      "         [ 1.6663e-01, -8.1509e-02,  2.9807e-01,  ..., -3.7924e-01,\n",
      "          -3.2358e-01, -1.0593e-02],\n",
      "         [-9.2701e-02, -3.2408e-01, -1.5674e-01,  ...,  4.3195e-01,\n",
      "           2.2134e-01,  9.6033e-02]]], grad_fn=<UnsafeViewBackward0>)\n"
     ]
    }
   ],
   "source": [
    "print(y.shape)\n",
    "print(y)"
   ]
  },
  {
   "cell_type": "code",
   "execution_count": 14,
   "metadata": {},
   "outputs": [
    {
     "name": "stdout",
     "output_type": "stream",
     "text": [
      "torch.Size([8532, 170])\n",
      "torch.Size([8532])\n"
     ]
    }
   ],
   "source": [
    "logits = y  # Shape: [batch_size, seq_len, vocab_size]\n",
    "target_ids_shifted = b['accomp']['input_ids'].contiguous()  # Shifted target sequence\n",
    "\n",
    "# Flatten the logits and target for the loss calculation\n",
    "logits_flat = logits.view(-1, logits.size(-1))\n",
    "target_flat = target_ids_shifted.view(-1)\n",
    "print(logits_flat.shape)\n",
    "print(target_flat.shape)\n",
    "\n",
    "# Compute the cross-entropy loss (ignoring padding tokens)\n",
    "loss_fct = CrossEntropyLoss(ignore_index=roberta_tokenizer_midi.pad_token_id)\n",
    "loss = loss_fct(logits_flat, target_flat)"
   ]
  },
  {
   "cell_type": "code",
   "execution_count": 15,
   "metadata": {},
   "outputs": [],
   "source": [
    "optimizer.zero_grad()\n",
    "loss.backward()\n",
    "optimizer.step()"
   ]
  }
 ],
 "metadata": {
  "kernelspec": {
   "display_name": "torch",
   "language": "python",
   "name": "python3"
  },
  "language_info": {
   "codemirror_mode": {
    "name": "ipython",
    "version": 3
   },
   "file_extension": ".py",
   "mimetype": "text/x-python",
   "name": "python",
   "nbconvert_exporter": "python",
   "pygments_lexer": "ipython3",
   "version": "3.11.5"
  }
 },
 "nbformat": 4,
 "nbformat_minor": 2
}
