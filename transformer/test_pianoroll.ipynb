{
 "cells": [
  {
   "cell_type": "code",
   "execution_count": 1,
   "metadata": {},
   "outputs": [],
   "source": [
    "import pypianoroll\n",
    "import os\n",
    "from copy import deepcopy\n",
    "import midi_pianoroll_utils as mpu"
   ]
  },
  {
   "cell_type": "code",
   "execution_count": 2,
   "metadata": {},
   "outputs": [],
   "source": [
    "# midifolder = '/media/datadisk/datasets/POP909/aug_folder'\n",
    "midifolder = 'tests/test_pieces'\n",
    "midis_list = os.listdir(midifolder)"
   ]
  },
  {
   "cell_type": "code",
   "execution_count": 3,
   "metadata": {},
   "outputs": [
    {
     "name": "stderr",
     "output_type": "stream",
     "text": [
      "/home/maximos/miniconda3/envs/chart_acc_gen/lib/python3.11/site-packages/pretty_midi/pretty_midi.py:100: RuntimeWarning: Tempo, Key or Time signature change events found on non-zero tracks.  This is not a valid type 0 or type 1 MIDI file.  Tempo, Key or Time Signature may be wrong.\n",
      "  warnings.warn(\n"
     ]
    }
   ],
   "source": [
    "p = pypianoroll.read(midifolder + os.sep + midis_list[0], resolution=4)"
   ]
  },
  {
   "cell_type": "code",
   "execution_count": 4,
   "metadata": {},
   "outputs": [
    {
     "name": "stdout",
     "output_type": "stream",
     "text": [
      "<class 'list'>\n",
      "before:  8\n",
      "False\n",
      "False\n",
      "False\n",
      "False\n",
      "False\n",
      "False\n",
      "False\n",
      "True\n"
     ]
    }
   ],
   "source": [
    "print(type(p.tracks))\n",
    "print('before: ', len(p.tracks))\n",
    "for t in p.tracks:\n",
    "    print(t.is_drum)"
   ]
  },
  {
   "cell_type": "code",
   "execution_count": 10,
   "metadata": {},
   "outputs": [
    {
     "name": "stdout",
     "output_type": "stream",
     "text": [
      "after:  7\n",
      "before p:  8\n",
      "after p:  7\n"
     ]
    }
   ],
   "source": [
    "no_drums = mpu.remove_drum_tracks(p)\n",
    "print('after: ', len(no_drums.tracks))\n",
    "print('before p: ', len(p.tracks))\n",
    "mpu.remove_drum_tracks_in_place(p)\n",
    "print('after p: ', len(p.tracks))\n",
    "# del(no_drums.tracks[-1])\n",
    "# print('after: ', len(no_drums.tracks))"
   ]
  },
  {
   "cell_type": "code",
   "execution_count": 6,
   "metadata": {},
   "outputs": [],
   "source": [
    "t0 = p.tracks[0]"
   ]
  },
  {
   "cell_type": "code",
   "execution_count": 7,
   "metadata": {},
   "outputs": [
    {
     "data": {
      "text/plain": [
       "False"
      ]
     },
     "execution_count": 7,
     "metadata": {},
     "output_type": "execute_result"
    }
   ],
   "source": [
    "t0.is_drum"
   ]
  },
  {
   "cell_type": "code",
   "execution_count": 8,
   "metadata": {},
   "outputs": [
    {
     "name": "stdout",
     "output_type": "stream",
     "text": [
      "(2040, 128)\n",
      "(2040, 128)\n",
      "(2040,)\n",
      "1\n",
      "1.0\n"
     ]
    }
   ],
   "source": [
    "p0 = t0.pianoroll\n",
    "print(p0.shape)\n",
    "b0 = p0 > 0\n",
    "print(b0.shape)\n",
    "s0 = b0.sum(axis=1)\n",
    "print(s0.shape)\n",
    "print(s0.max())\n",
    "m0 = s0[s0 > 0].mean()\n",
    "print(m0)"
   ]
  },
  {
   "cell_type": "code",
   "execution_count": 9,
   "metadata": {},
   "outputs": [
    {
     "name": "stdout",
     "output_type": "stream",
     "text": [
      "True\n"
     ]
    }
   ],
   "source": [
    "print(mpu.is_first_track_melody(p))"
   ]
  },
  {
   "cell_type": "code",
   "execution_count": 8,
   "metadata": {},
   "outputs": [
    {
     "name": "stdout",
     "output_type": "stream",
     "text": [
      "(1304, 128)\n"
     ]
    }
   ],
   "source": [
    "print(t0.pianoroll.shape)"
   ]
  },
  {
   "cell_type": "code",
   "execution_count": 9,
   "metadata": {},
   "outputs": [],
   "source": [
    "s = p.stack()"
   ]
  },
  {
   "cell_type": "code",
   "execution_count": 10,
   "metadata": {},
   "outputs": [
    {
     "name": "stdout",
     "output_type": "stream",
     "text": [
      "(3, 1304, 128)\n"
     ]
    }
   ],
   "source": [
    "print(s.shape)"
   ]
  },
  {
   "cell_type": "code",
   "execution_count": 11,
   "metadata": {},
   "outputs": [],
   "source": [
    "m = s.max(axis=0)"
   ]
  },
  {
   "cell_type": "code",
   "execution_count": 12,
   "metadata": {},
   "outputs": [
    {
     "name": "stdout",
     "output_type": "stream",
     "text": [
      "(1304, 128)\n"
     ]
    }
   ],
   "source": [
    "print(m.shape)"
   ]
  },
  {
   "cell_type": "code",
   "execution_count": 13,
   "metadata": {},
   "outputs": [
    {
     "name": "stdout",
     "output_type": "stream",
     "text": [
      "[ 0  0  0  0  0  0  0  0  0  0  0  0  0  0  0  0  0  0  0  0  0  0  0  0\n",
      "  0  0  0  0  0  0  0  0  0  0  0  0  0  0  0  0 68  0  0  0  0  0  0 75\n",
      "  0  0  0  0  0  0  0  0 81  0  0 82  0  0  0  0  0  0  0  0  0  0  0 83\n",
      "  0  0  0  0  0  0  0  0  0  0  0  0  0  0  0  0  0  0  0  0  0  0  0  0\n",
      "  0  0  0  0  0  0  0  0  0  0  0  0  0  0  0  0  0  0  0  0  0  0  0  0\n",
      "  0  0  0  0  0  0  0  0]\n"
     ]
    }
   ],
   "source": [
    "print(m[204,:])"
   ]
  },
  {
   "cell_type": "code",
   "execution_count": 17,
   "metadata": {},
   "outputs": [],
   "source": [
    "n = deepcopy(p)"
   ]
  },
  {
   "cell_type": "code",
   "execution_count": 18,
   "metadata": {},
   "outputs": [],
   "source": [
    "n.tracks[0].pianoroll = m"
   ]
  },
  {
   "cell_type": "code",
   "execution_count": 20,
   "metadata": {},
   "outputs": [],
   "source": [
    "del(n.tracks[-1])"
   ]
  },
  {
   "cell_type": "code",
   "execution_count": 21,
   "metadata": {},
   "outputs": [
    {
     "data": {
      "text/plain": [
       "[StandardTrack(name='MELODY', program=0, is_drum=False, pianoroll=array(shape=(1304, 128), dtype=uint8)),\n",
       " StandardTrack(name='CAU', program=0, is_drum=False, pianoroll=array(shape=(1304, 128), dtype=uint8))]"
      ]
     },
     "execution_count": 21,
     "metadata": {},
     "output_type": "execute_result"
    }
   ],
   "source": [
    "n.tracks"
   ]
  }
 ],
 "metadata": {
  "kernelspec": {
   "display_name": "chart_acc_gen",
   "language": "python",
   "name": "python3"
  },
  "language_info": {
   "codemirror_mode": {
    "name": "ipython",
    "version": 3
   },
   "file_extension": ".py",
   "mimetype": "text/x-python",
   "name": "python",
   "nbconvert_exporter": "python",
   "pygments_lexer": "ipython3",
   "version": "3.11.5"
  }
 },
 "nbformat": 4,
 "nbformat_minor": 2
}
