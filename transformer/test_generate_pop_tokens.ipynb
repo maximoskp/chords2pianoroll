{
 "cells": [
  {
   "cell_type": "code",
   "execution_count": 1,
   "metadata": {},
   "outputs": [
    {
     "name": "stderr",
     "output_type": "stream",
     "text": [
      "/home/maximos/anaconda3/envs/torch/lib/python3.11/site-packages/tqdm/auto.py:21: TqdmWarning: IProgress not found. Please update jupyter and ipywidgets. See https://ipywidgets.readthedocs.io/en/stable/user_install.html\n",
      "  from .autonotebook import tqdm as notebook_tqdm\n",
      "/home/maximos/anaconda3/envs/torch/lib/python3.11/site-packages/torch/_utils.py:831: UserWarning: TypedStorage is deprecated. It will be removed in the future and UntypedStorage will be the only storage class. This should only matter to you if you are using storages directly.  To access UntypedStorage directly, use tensor.untyped_storage() instead of tensor.storage()\n",
      "  return self.fget.__get__(instance, owner)()\n"
     ]
    },
    {
     "data": {
      "text/plain": [
       "MelCAT_base_tokens(\n",
       "  (bart_model): BartForConditionalGeneration(\n",
       "    (model): BartModel(\n",
       "      (shared): BartScaledWordEmbedding(180, 256, padding_idx=3)\n",
       "      (encoder): BartEncoder(\n",
       "        (embed_tokens): BartScaledWordEmbedding(180, 256, padding_idx=3)\n",
       "        (embed_positions): BartLearnedPositionalEmbedding(1026, 256)\n",
       "        (layers): ModuleList(\n",
       "          (0-7): 8 x BartEncoderLayer(\n",
       "            (self_attn): BartSdpaAttention(\n",
       "              (k_proj): Linear(in_features=256, out_features=256, bias=True)\n",
       "              (v_proj): Linear(in_features=256, out_features=256, bias=True)\n",
       "              (q_proj): Linear(in_features=256, out_features=256, bias=True)\n",
       "              (out_proj): Linear(in_features=256, out_features=256, bias=True)\n",
       "            )\n",
       "            (self_attn_layer_norm): LayerNorm((256,), eps=1e-05, elementwise_affine=True)\n",
       "            (activation_fn): GELUActivation()\n",
       "            (fc1): Linear(in_features=256, out_features=4096, bias=True)\n",
       "            (fc2): Linear(in_features=4096, out_features=256, bias=True)\n",
       "            (final_layer_norm): LayerNorm((256,), eps=1e-05, elementwise_affine=True)\n",
       "          )\n",
       "        )\n",
       "        (layernorm_embedding): LayerNorm((256,), eps=1e-05, elementwise_affine=True)\n",
       "      )\n",
       "      (decoder): BartDecoder(\n",
       "        (embed_tokens): BartScaledWordEmbedding(180, 256, padding_idx=3)\n",
       "        (embed_positions): BartLearnedPositionalEmbedding(1026, 256)\n",
       "        (layers): ModuleList(\n",
       "          (0-7): 8 x BartDecoderLayer(\n",
       "            (self_attn): BartSdpaAttention(\n",
       "              (k_proj): Linear(in_features=256, out_features=256, bias=True)\n",
       "              (v_proj): Linear(in_features=256, out_features=256, bias=True)\n",
       "              (q_proj): Linear(in_features=256, out_features=256, bias=True)\n",
       "              (out_proj): Linear(in_features=256, out_features=256, bias=True)\n",
       "            )\n",
       "            (activation_fn): GELUActivation()\n",
       "            (self_attn_layer_norm): LayerNorm((256,), eps=1e-05, elementwise_affine=True)\n",
       "            (encoder_attn): BartSdpaAttention(\n",
       "              (k_proj): Linear(in_features=256, out_features=256, bias=True)\n",
       "              (v_proj): Linear(in_features=256, out_features=256, bias=True)\n",
       "              (q_proj): Linear(in_features=256, out_features=256, bias=True)\n",
       "              (out_proj): Linear(in_features=256, out_features=256, bias=True)\n",
       "            )\n",
       "            (encoder_attn_layer_norm): LayerNorm((256,), eps=1e-05, elementwise_affine=True)\n",
       "            (fc1): Linear(in_features=256, out_features=4096, bias=True)\n",
       "            (fc2): Linear(in_features=4096, out_features=256, bias=True)\n",
       "            (final_layer_norm): LayerNorm((256,), eps=1e-05, elementwise_affine=True)\n",
       "          )\n",
       "        )\n",
       "        (layernorm_embedding): LayerNorm((256,), eps=1e-05, elementwise_affine=True)\n",
       "      )\n",
       "    )\n",
       "    (lm_head): Linear(in_features=256, out_features=180, bias=False)\n",
       "  )\n",
       ")"
      ]
     },
     "execution_count": 1,
     "metadata": {},
     "output_type": "execute_result"
    }
   ],
   "source": [
    "from transformers import BartForConditionalGeneration, BartConfig\n",
    "from transformers import RobertaTokenizerFast\n",
    "import torch\n",
    "from torch.utils.data import DataLoader\n",
    "\n",
    "from miditok import REMI, TokenizerConfig, TokSequence\n",
    "from pathlib import Path\n",
    "\n",
    "from models import MelCAT_base_tokens\n",
    "from dataset_utils import LiveMelCATDataset, MelCATCollator\n",
    "\n",
    "from torch.nn import CrossEntropyLoss\n",
    "import torch.nn.functional as F\n",
    "\n",
    "import os\n",
    "import numpy as np\n",
    "import csv\n",
    "\n",
    "import symusic\n",
    "import json\n",
    "\n",
    "from tqdm import tqdm\n",
    "\n",
    "import json2midi_utils as j2m\n",
    "import pretty_midi as pm\n",
    "\n",
    "MAX_LENGTH = 1024\n",
    "\n",
    "roberta_tokenizer_midi = RobertaTokenizerFast.from_pretrained('/media/datadisk/data/pretrained_models/pop_midi_mlm_base/pop_wordlevel_tokenizer')\n",
    "\n",
    "bart_config = BartConfig(\n",
    "    vocab_size=roberta_tokenizer_midi.vocab_size,\n",
    "    pad_token_id=roberta_tokenizer_midi.pad_token_id,\n",
    "    bos_token_id=roberta_tokenizer_midi.bos_token_id,\n",
    "    eos_token_id=roberta_tokenizer_midi.eos_token_id,\n",
    "    decoder_start_token_id=roberta_tokenizer_midi.bos_token_id,\n",
    "    forced_eos_token_id=roberta_tokenizer_midi.eos_token_id,\n",
    "    max_position_embeddings=MAX_LENGTH,\n",
    "    encoder_layers=8,\n",
    "    encoder_attention_heads=16,\n",
    "    encoder_ffn_dim=4096,\n",
    "    decoder_layers=8,\n",
    "    decoder_attention_heads=16,\n",
    "    decoder_ffn_dim=4096,\n",
    "    d_model=256,\n",
    "    encoder_layerdrop=0.3,\n",
    "    decoder_layerdrop=0.3,\n",
    "    dropout=0.3\n",
    ")\n",
    "\n",
    "run_on_gpu = False\n",
    "\n",
    "if run_on_gpu:\n",
    "    dev = torch.device(\"cuda:0\" if torch.cuda.is_available() else \"cpu\")\n",
    "    model = MelCAT_base_tokens(bart_config, gpu=0).to(dev)\n",
    "    checkpoint = torch.load('saved_models/bart_base/bart_base.pt', weights_only=True)\n",
    "else:\n",
    "    dev = torch.device(\"cpu\")\n",
    "    model = MelCAT_base_tokens(bart_config, gpu=None).to(dev)\n",
    "    checkpoint = torch.load('saved_models/bart_pop_tokens/bart_pop_tokens.pt', map_location=\"cpu\", weights_only=True)\n",
    "\n",
    "model.load_state_dict(checkpoint)\n",
    "\n",
    "model.eval()"
   ]
  },
  {
   "cell_type": "code",
   "execution_count": 2,
   "metadata": {},
   "outputs": [],
   "source": [
    "# prepare for competition\n",
    "tmp_midis_folder = 'tmp_midis'\n",
    "os.makedirs(tmp_midis_folder, exist_ok=True)\n",
    "# make midis out of each json\n",
    "json_inputs_folder = 'competition_test_inputs'\n",
    "json_inputs = os.listdir( json_inputs_folder )\n",
    "# make folder for json output\n",
    "json_outputs_folder = 'competition_test_outputs'\n",
    "os.makedirs(json_outputs_folder, exist_ok=True)\n",
    "# make folder for midi total output\n",
    "midi_outputs_folder = 'competition_test_midi_outputs'\n",
    "os.makedirs(midi_outputs_folder, exist_ok=True)"
   ]
  },
  {
   "cell_type": "code",
   "execution_count": 3,
   "metadata": {},
   "outputs": [
    {
     "name": "stdout",
     "output_type": "stream",
     "text": [
      "solar.json\n",
      "lead_sheet_0.json\n",
      "giant_steps.json\n"
     ]
    }
   ],
   "source": [
    "DEFAULT_V_MEL = 70\n",
    "DEFAULT_V_ACC = 50\n",
    "DEFAULT_V_CHD = 50\n",
    "\n",
    "bpm = 120\n",
    "\n",
    "for json_input in json_inputs:\n",
    "    print(json_input)\n",
    "    dict_input = j2m.load_json( os.path.join(json_inputs_folder, json_input) )\n",
    "    melody_notes = j2m.note_list_to_notes(dict_input['melody'], default_v=DEFAULT_V_ACC, bpm=bpm)\n",
    "    chord_notes = j2m.chord_list_to_notes(dict_input['chords'], default_v=DEFAULT_V_CHD, bpm=bpm)\n",
    "    midi = pm.PrettyMIDI(initial_tempo=bpm)\n",
    "    midi.instruments = [pm.Instrument(65, is_drum=False, name='melody'), \n",
    "                        pm.Instrument(0, is_drum=False, name='chords')\n",
    "                        ]\n",
    "    midi.instruments[0].notes = melody_notes\n",
    "    midi.instruments[1].notes = chord_notes\n",
    "    midi.write(os.path.join(tmp_midis_folder, json_input.split('.')[0] +'.mid'))"
   ]
  },
  {
   "cell_type": "code",
   "execution_count": 5,
   "metadata": {},
   "outputs": [],
   "source": [
    "# midifolder = '/media/datadisk/datasets/POP909/aug_folder'\n",
    "midifolder = 'tmp_midis'\n",
    "# midifolder = '/media/datadisk/data/Giant_PIano/'\n",
    "dataset = LiveMelCATDataset(midifolder, segment_size=40, resolution=4, max_seq_len=1024, only_beginning=True)"
   ]
  },
  {
   "cell_type": "code",
   "execution_count": 10,
   "metadata": {},
   "outputs": [
    {
     "name": "stdout",
     "output_type": "stream",
     "text": [
      "piece not long enough:  lead_sheet_0.mid\n",
      "piece not trimmed\n"
     ]
    },
    {
     "data": {
      "text/plain": [
       "tensor([  5,  40, 112,   5,  40,  38, 107,  84,  58,  20, 107,  84,   5,  40,\n",
       "         18, 107,  84,  58,  27, 107,  77,  74,  25, 107, 109,   5,   5,  40,\n",
       "         18, 107,  77,  72,  22, 107,  90,   5,  40,  20, 107,  84,  58,  25,\n",
       "        107,  84,   5,  40,  27, 107,  84,  58,  70, 107,  77,  74,  33, 107,\n",
       "        109,   5,   5,  40,  27, 107,  84,  58,  36, 107,  77,  74,  25, 107,\n",
       "          9])"
      ]
     },
     "execution_count": 10,
     "metadata": {},
     "output_type": "execute_result"
    }
   ],
   "source": [
    "dataset[2]['melody']"
   ]
  },
  {
   "cell_type": "code",
   "execution_count": 12,
   "metadata": {},
   "outputs": [],
   "source": [
    "custom_collate_fn = MelCATCollator(max_seq_lens=dataset.max_seq_lengths, padding_values=dataset.padding_values)\n",
    "dataloader = DataLoader(dataset, batch_size=1, collate_fn=custom_collate_fn, drop_last=True)"
   ]
  },
  {
   "cell_type": "code",
   "execution_count": 16,
   "metadata": {},
   "outputs": [
    {
     "name": "stdout",
     "output_type": "stream",
     "text": [
      "piece not long enough:  solar.mid\n",
      "piece not trimmed\n"
     ]
    },
    {
     "data": {
      "text/plain": [
       "{'melody': {'input_ids': tensor([[  5,  40, 112,   5,  40,  38, 107,  84,  58,  20, 107,  84,   5,  40,\n",
       "            18, 107,  84,  58,  27, 107,  77,  74,  25, 107, 109,   5,   5,  40,\n",
       "            18, 107,  77,  72,  22, 107,  90,   5,  40,  20, 107,  84,  58,  25,\n",
       "           107,  84,   5,  40,  27, 107,  84,  58,  70, 107,  77,  74,  33, 107,\n",
       "           109,   5,   5,  40,  27, 107,  84,  58,  36, 107,  77,  74,  25, 107,\n",
       "             9]]),\n",
       "  'attention_mask': tensor([[1, 1, 1, 1, 1, 1, 1, 1, 1, 1, 1, 1, 1, 1, 1, 1, 1, 1, 1, 1, 1, 1, 1, 1,\n",
       "           1, 1, 1, 1, 1, 1, 1, 1, 1, 1, 1, 1, 1, 1, 1, 1, 1, 1, 1, 1, 1, 1, 1, 1,\n",
       "           1, 1, 1, 1, 1, 1, 1, 1, 1, 1, 1, 1, 1, 1, 1, 1, 1, 1, 1, 1, 1, 1, 1]])},\n",
       " 'chroma': {'input_ids': tensor([[25, 17,  9, 16,  5, 13,  8, 10, 14,  6, 15,  7, 12, 11, 17,  9, 16,  5,\n",
       "           13,  8, 10, 14,  6, 15,  7, 12, 11, 17,  9, 16,  5, 13,  8, 10, 14,  6,\n",
       "           15,  7, 12, 11, 17,  9, 16,  5, 13,  8, 10, 14,  6, 15,  7, 12, 11, 17,\n",
       "            9, 16,  5, 13,  8, 10, 14,  6, 15,  7, 12, 11, 17,  9, 16,  5, 13,  8,\n",
       "           10, 14,  6, 15,  7, 12, 11, 17]]),\n",
       "  'attention_mask': tensor([[1, 1, 1, 1, 1, 1, 1, 1, 1, 1, 1, 1, 1, 1, 1, 1, 1, 1, 1, 1, 1, 1, 1, 1,\n",
       "           1, 1, 1, 1, 1, 1, 1, 1, 1, 1, 1, 1, 1, 1, 1, 1, 1, 1, 1, 1, 1, 1, 1, 1,\n",
       "           1, 1, 1, 1, 1, 1, 1, 1, 1, 1, 1, 1, 1, 1, 1, 1, 1, 1, 1, 1, 1, 1, 1, 1,\n",
       "           1, 1, 1, 1, 1, 1, 1, 1]])},\n",
       " 'text': {'input_ids': tensor([[    0,    29, 19231,     4, 16079,     2]]),\n",
       "  'attention_mask': tensor([[1, 1, 1, 1, 1, 1]])},\n",
       " 'accomp': {'input_ids': tensor([[  5,  40, 112,   5,  40, 131, 107,  84, 115, 107,  84, 103, 107,  89,\n",
       "            86, 107,  84,  83, 107,  84,  58, 145, 107,  84, 130, 107,  84, 121,\n",
       "           107,  89, 103, 107,  89,  91, 107,  84,   5,  40, 142, 107,  84, 121,\n",
       "           107,  89, 103, 107,  84,  99, 107,  84,  83, 107,  84,  58, 136, 107,\n",
       "            84, 121, 107,  84, 106, 107,  84,  95, 107,  84,  86, 107,  89,   5,\n",
       "            40, 149, 107, 101, 115, 107, 101,  99, 107, 101,  86, 107, 101,   5,\n",
       "            40, 137, 107,  84, 130, 107,  89, 110, 107,  84,  99, 107,  84,  91,\n",
       "           107,  89,  58, 145, 107,  84, 130, 107,  84, 121, 107,  89, 103, 107,\n",
       "            89,  91, 107,  84,   5,  40, 142, 107,  84, 121, 107,  89, 103, 107,\n",
       "            84,  99, 107,  84,  83, 107,  84,  58, 136, 107,  84, 121, 107,  89,\n",
       "           106, 107,  84,  95, 107,  84,  86, 107,  89,   5,  40, 149, 107,  84,\n",
       "           121, 107,  84, 115, 107,  84,  99, 107,  84,  86, 107,  89,  58, 141,\n",
       "           107,  84, 125, 107,  84, 110, 107,  84, 103, 107,  89,  86, 107,  89,\n",
       "             5,  40, 131, 107, 101, 115, 107, 101, 103, 107, 101,  86, 107, 101,\n",
       "            83, 107, 101,   5,  40, 146, 107,  84, 130, 107,  84, 115, 107,  84,\n",
       "           106, 107,  89,  95, 107,  89,  58, 136, 107,  84, 121, 107,  84, 106,\n",
       "           107,  84,  95, 107,  84,  86, 107,  84]]),\n",
       "  'attention_mask': tensor([[1, 1, 1, 1, 1, 1, 1, 1, 1, 1, 1, 1, 1, 1, 1, 1, 1, 1, 1, 1, 1, 1, 1, 1,\n",
       "           1, 1, 1, 1, 1, 1, 1, 1, 1, 1, 1, 1, 1, 1, 1, 1, 1, 1, 1, 1, 1, 1, 1, 1,\n",
       "           1, 1, 1, 1, 1, 1, 1, 1, 1, 1, 1, 1, 1, 1, 1, 1, 1, 1, 1, 1, 1, 1, 1, 1,\n",
       "           1, 1, 1, 1, 1, 1, 1, 1, 1, 1, 1, 1, 1, 1, 1, 1, 1, 1, 1, 1, 1, 1, 1, 1,\n",
       "           1, 1, 1, 1, 1, 1, 1, 1, 1, 1, 1, 1, 1, 1, 1, 1, 1, 1, 1, 1, 1, 1, 1, 1,\n",
       "           1, 1, 1, 1, 1, 1, 1, 1, 1, 1, 1, 1, 1, 1, 1, 1, 1, 1, 1, 1, 1, 1, 1, 1,\n",
       "           1, 1, 1, 1, 1, 1, 1, 1, 1, 1, 1, 1, 1, 1, 1, 1, 1, 1, 1, 1, 1, 1, 1, 1,\n",
       "           1, 1, 1, 1, 1, 1, 1, 1, 1, 1, 1, 1, 1, 1, 1, 1, 1, 1, 1, 1, 1, 1, 1, 1,\n",
       "           1, 1, 1, 1, 1, 1, 1, 1, 1, 1, 1, 1, 1, 1, 1, 1, 1, 1, 1, 1, 1, 1, 1, 1,\n",
       "           1, 1, 1, 1, 1, 1, 1, 1, 1, 1, 1, 1, 1, 1, 1, 1]])}}"
      ]
     },
     "execution_count": 16,
     "metadata": {},
     "output_type": "execute_result"
    }
   ],
   "source": [
    "custom_collate_fn([dataset[0]])"
   ]
  },
  {
   "cell_type": "code",
   "execution_count": 6,
   "metadata": {},
   "outputs": [
    {
     "name": "stdout",
     "output_type": "stream",
     "text": [
      "piece not long enough:  solar.mid\n",
      "piece not trimmed\n"
     ]
    }
   ],
   "source": [
    "# i = 0\n",
    "# for d in dataloader:\n",
    "#     if i == 3:\n",
    "#         break\n",
    "#     i += 1\n",
    "# print(i, d)\n",
    "for d in dataloader:\n",
    "    break"
   ]
  },
  {
   "cell_type": "code",
   "execution_count": 7,
   "metadata": {},
   "outputs": [
    {
     "name": "stdout",
     "output_type": "stream",
     "text": [
      "tensor([  5,  40, 112,   5,  40, 146, 107, 101, 130, 107, 101, 106, 107, 101,\n",
      "         91, 107, 101,   5,  40, 151, 107, 101, 130, 107, 101, 110, 107, 101,\n",
      "         99, 107, 101,   5,  40, 151, 107,  93, 130, 107,  93, 106, 107,  93,\n",
      "         99, 107,  93,  86, 107,  93,  68, 151, 107,  23, 130, 107,  21,  86,\n",
      "        107,  23,   5,  40, 146, 107, 101, 130, 107, 101, 106, 107, 101,  91,\n",
      "        107, 101,   5,  40, 136, 107, 101, 121, 107, 101, 106, 107, 101,  86,\n",
      "        107, 101,   5,  40, 146, 107, 101, 130, 107, 101, 106, 107, 101,  91,\n",
      "        107, 101,   5,  40, 151, 107, 101, 130, 107, 101, 110, 107, 101,  99,\n",
      "        107, 101,  86, 107, 101,   5,  40, 146, 107, 101, 130, 107, 101, 106,\n",
      "        107, 101,  91, 107, 101])\n",
      "['Bar_None', 'Position_0', 'Tempo_125x0', 'Bar_None', 'Position_0', 'Pitch_41', 'Velocity_52', 'Duration_4x0x1', 'Pitch_48', 'Velocity_52', 'Duration_4x0x1', 'Pitch_53', 'Velocity_52', 'Duration_4x0x1', 'Pitch_57', 'Velocity_52', 'Duration_4x0x1', 'Bar_None', 'Position_0', 'Pitch_36', 'Velocity_52', 'Duration_4x0x1', 'Pitch_48', 'Velocity_52', 'Duration_4x0x1', 'Pitch_52', 'Velocity_52', 'Duration_4x0x1', 'Pitch_55', 'Velocity_52', 'Duration_4x0x1', 'Bar_None', 'Position_0', 'Pitch_36', 'Velocity_52', 'Duration_3x0x2', 'Pitch_48', 'Velocity_52', 'Duration_3x0x2', 'Pitch_53', 'Velocity_52', 'Duration_3x0x2', 'Pitch_55', 'Velocity_52', 'Duration_3x0x2', 'Pitch_58', 'Velocity_52', 'Duration_3x0x2', 'Position_24', 'Pitch_36', 'Velocity_52', 'Duration_1x0x4', 'Pitch_48', 'Velocity_52', 'Duration_0x6x8', 'Pitch_58', 'Velocity_52', 'Duration_1x0x4', 'Bar_None', 'Position_0', 'Pitch_41', 'Velocity_52', 'Duration_4x0x1', 'Pitch_48', 'Velocity_52', 'Duration_4x0x1', 'Pitch_53', 'Velocity_52', 'Duration_4x0x1', 'Pitch_57', 'Velocity_52', 'Duration_4x0x1', 'Bar_None', 'Position_0', 'Pitch_46', 'Velocity_52', 'Duration_4x0x1', 'Pitch_50', 'Velocity_52', 'Duration_4x0x1', 'Pitch_53', 'Velocity_52', 'Duration_4x0x1', 'Pitch_58', 'Velocity_52', 'Duration_4x0x1', 'Bar_None', 'Position_0', 'Pitch_41', 'Velocity_52', 'Duration_4x0x1', 'Pitch_48', 'Velocity_52', 'Duration_4x0x1', 'Pitch_53', 'Velocity_52', 'Duration_4x0x1', 'Pitch_57', 'Velocity_52', 'Duration_4x0x1', 'Bar_None', 'Position_0', 'Pitch_36', 'Velocity_52', 'Duration_4x0x1', 'Pitch_48', 'Velocity_52', 'Duration_4x0x1', 'Pitch_52', 'Velocity_52', 'Duration_4x0x1', 'Pitch_55', 'Velocity_52', 'Duration_4x0x1', 'Pitch_58', 'Velocity_52', 'Duration_4x0x1', 'Bar_None', 'Position_0', 'Pitch_41', 'Velocity_52', 'Duration_4x0x1', 'Pitch_48', 'Velocity_52', 'Duration_4x0x1', 'Pitch_53', 'Velocity_52', 'Duration_4x0x1', 'Pitch_57', 'Velocity_52', 'Duration_4x0x1']\n"
     ]
    }
   ],
   "source": [
    "print(d['accomp']['input_ids'][0])\n",
    "toks = roberta_tokenizer_midi.convert_ids_to_tokens(d['accomp']['input_ids'][0])\n",
    "print(toks)"
   ]
  },
  {
   "cell_type": "code",
   "execution_count": 8,
   "metadata": {},
   "outputs": [],
   "source": [
    "bos_input = {\n",
    "    'input_ids' : torch.LongTensor([[roberta_tokenizer_midi.bos_token_id]]),\n",
    "    'attention_mask' : torch.LongTensor([[1]])\n",
    "}\n",
    "output = model(d['melody'], d['chroma'], bos_input, None)\n",
    "logits = output.logits"
   ]
  },
  {
   "cell_type": "code",
   "execution_count": 10,
   "metadata": {},
   "outputs": [],
   "source": [
    "import matplotlib.pyplot as plt"
   ]
  },
  {
   "cell_type": "code",
   "execution_count": 11,
   "metadata": {},
   "outputs": [
    {
     "name": "stdout",
     "output_type": "stream",
     "text": [
      "torch.Size([1, 1, 180])\n"
     ]
    },
    {
     "data": {
      "text/plain": [
       "[<matplotlib.lines.Line2D at 0x7febdd798b10>]"
      ]
     },
     "execution_count": 11,
     "metadata": {},
     "output_type": "execute_result"
    },
    {
     "data": {
      "image/png": "[encoded data removed]",
      "text/plain": [
       "<Figure size 640x480 with 1 Axes>"
      ]
     },
     "metadata": {},
     "output_type": "display_data"
    }
   ],
   "source": [
    "print(logits.shape)\n",
    "plt.plot(logits[0,-1,:].cpu().detach().numpy())"
   ]
  },
  {
   "cell_type": "code",
   "execution_count": 12,
   "metadata": {},
   "outputs": [
    {
     "name": "stdout",
     "output_type": "stream",
     "text": [
      "torch.Size([1, 1, 180])\n"
     ]
    },
    {
     "data": {
      "text/plain": [
       "[<matplotlib.lines.Line2D at 0x7febd7d93810>]"
      ]
     },
     "execution_count": 12,
     "metadata": {},
     "output_type": "execute_result"
    },
    {
     "data": {
      "image/png": "[encoded data removed]",
      "text/plain": [
       "<Figure size 640x480 with 1 Axes>"
      ]
     },
     "metadata": {},
     "output_type": "display_data"
    }
   ],
   "source": [
    "logits_softmax = F.softmax(logits, dim=-1)\n",
    "print(logits_softmax.shape)\n",
    "plt.plot(logits_softmax[0,-1,:].cpu().detach().numpy())"
   ]
  },
  {
   "cell_type": "code",
   "execution_count": 13,
   "metadata": {},
   "outputs": [],
   "source": [
    "def sample_with_temperature(logits, temperature=1.0):\n",
    "    # Scale logits by temperature\n",
    "    logits = logits / temperature\n",
    "    # Apply softmax to get probabilities\n",
    "    probs = F.softmax(logits, dim=-1)\n",
    "\n",
    "    # Flatten the logits if necessary\n",
    "    batch_size, seq_len, vocab_size = probs.shape\n",
    "    probs = probs.view(-1, vocab_size)  # Merge batch_size and seq_len dimensions\n",
    "    \n",
    "    # Sample from the probability distribution\n",
    "    sampled_tokens = torch.multinomial(probs, num_samples=1)\n",
    "    \n",
    "    # Reshape back to [batch_size, seq_len, 1]\n",
    "    sampled_tokens = sampled_tokens.view(batch_size, seq_len, 1)\n",
    "\n",
    "    # # Sample from the probability distribution\n",
    "    # sampled_token = torch.multinomial(probs, num_samples=1)\n",
    "    return sampled_tokens"
   ]
  },
  {
   "cell_type": "code",
   "execution_count": 14,
   "metadata": {},
   "outputs": [
    {
     "name": "stdout",
     "output_type": "stream",
     "text": [
      "tensor([[5]])\n",
      "tensor([[1]])\n"
     ]
    }
   ],
   "source": [
    "temperature = 0.7  # Adjust temperature as needed\n",
    "sampled_tokens = sample_with_temperature(logits, temperature)\n",
    "print(sampled_tokens[0][-1:])\n",
    "print(bos_input['input_ids'])\n",
    "xx = torch.cat( (bos_input['input_ids'].to(dev), sampled_tokens[0][-1:].to(dev)), -1 )"
   ]
  },
  {
   "cell_type": "code",
   "execution_count": 15,
   "metadata": {},
   "outputs": [
    {
     "name": "stdout",
     "output_type": "stream",
     "text": [
      "tensor([[1, 5]])\n"
     ]
    }
   ],
   "source": [
    "print(xx)"
   ]
  },
  {
   "cell_type": "code",
   "execution_count": 16,
   "metadata": {},
   "outputs": [],
   "source": [
    "def generate_bart_tokens(d, temperature=1.0, max_seq_len=4096, num_bars=1000):\n",
    "    accomp_input = {\n",
    "        'input_ids' : torch.LongTensor([[roberta_tokenizer_midi.bos_token_id]]),\n",
    "        'attention_mask' : torch.LongTensor([[1]])\n",
    "    }\n",
    "    bars_count = 0\n",
    "    logits = model(d['melody'], d['chroma'], accomp_input, None).logits\n",
    "    sampled_tokens = sample_with_temperature(logits, temperature)\n",
    "    accomp_input['input_ids'] = torch.cat( (accomp_input['input_ids'].to(dev), sampled_tokens[0][-1:].to(dev)), -1)\n",
    "    accomp_input['attention_mask'] = torch.cat( (accomp_input['attention_mask'].to(dev), torch.full(sampled_tokens[0][-1:].shape,1).to(dev)), -1)\n",
    "    bars_count += sampled_tokens[0][-1][0] == 5\n",
    "    while sampled_tokens[0][-1][0] != roberta_tokenizer_midi.eos_token_id and \\\n",
    "        accomp_input['input_ids'].shape[-1] < max_seq_len and\\\n",
    "        num_bars >= bars_count:\n",
    "        print(accomp_input['input_ids'].shape[-1], 'bars_count:', bars_count, end='\\r')\n",
    "        logits = model(d['melody'], d['chroma'], accomp_input, None).logits\n",
    "        sampled_tokens = sample_with_temperature(logits, temperature)\n",
    "        # print(sampled_tokens[0][-1])\n",
    "        bars_count += sampled_tokens[0][-1][0] == 5\n",
    "        if num_bars < bars_count:\n",
    "            break\n",
    "        accomp_input['input_ids'] = torch.cat( (accomp_input['input_ids'].to(dev), sampled_tokens[0][-1:].to(dev)), -1)\n",
    "        accomp_input['attention_mask'] = torch.cat( (accomp_input['attention_mask'].to(dev), torch.full(sampled_tokens[0][-1:].shape,1).to(dev)), -1)\n",
    "    return accomp_input"
   ]
  },
  {
   "cell_type": "code",
   "execution_count": 17,
   "metadata": {},
   "outputs": [
    {
     "name": "stdout",
     "output_type": "stream",
     "text": [
      "108 bars_count: tensor(9)\r"
     ]
    }
   ],
   "source": [
    "a = generate_bart_tokens(d, temperature=1.5, max_seq_len=1024, num_bars=9)"
   ]
  },
  {
   "cell_type": "code",
   "execution_count": 18,
   "metadata": {},
   "outputs": [
    {
     "name": "stdout",
     "output_type": "stream",
     "text": [
      "tensor([  1,   5,  40, 113,  71,   6,  63,  29,  13,  21,  68,  29,  10,   9,\n",
      "          5,  40,  19,  10,   9,  63,  19,  10,   6,  68,  19,  32,  23,  22,\n",
      "         80,  16,  21,   5,  71,  20,  13,   6,  63,  20,  13,  21,  68,  20,\n",
      "         13,   9,   5,  58,  20,  17,   9,   5,  40,  27,  10,   6,  19,  17,\n",
      "          6,  20,  17,   6,  54,  17,   6,  63,  19,  15,  23,  54,  13, 101,\n",
      "          5,   5,  51,  22,  32,  23,  19,  82,  21,  54,  32,   9,  63,  18,\n",
      "         12,  21,  54,  12,   9,   5,  58,  18,  12,  76,  29,  16,  21,   5,\n",
      "         40,  19,  13,   9,  20,  12,  21,  54,  17,  21])\n",
      "['<s>', 'Bar_None', 'Position_0', 'Tempo_92x86', 'Position_4', 'Duration_0x2x8', 'Position_8', 'Pitch_76', 'Velocity_100', 'Duration_0x6x8', 'Position_24', 'Pitch_76', 'Velocity_95', 'Duration_0x4x8', 'Bar_None', 'Position_0', 'Pitch_72', 'Velocity_95', 'Duration_0x4x8', 'Position_8', 'Pitch_72', 'Velocity_95', 'Duration_0x2x8', 'Position_24', 'Pitch_72', 'Velocity_74', 'Duration_1x0x4', 'Pitch_69', 'Pitch_60', 'Velocity_79', 'Duration_0x6x8', 'Bar_None', 'Position_4', 'Pitch_74', 'Velocity_100', 'Duration_0x2x8', 'Position_8', 'Pitch_74', 'Velocity_100', 'Duration_0x6x8', 'Position_24', 'Pitch_74', 'Velocity_100', 'Duration_0x4x8', 'Bar_None', 'Position_16', 'Pitch_74', 'Velocity_105', 'Duration_0x4x8', 'Bar_None', 'Position_0', 'Pitch_67', 'Velocity_95', 'Duration_0x2x8', 'Pitch_72', 'Velocity_105', 'Duration_0x2x8', 'Pitch_74', 'Velocity_105', 'Duration_0x2x8', 'Pitch_79', 'Velocity_105', 'Duration_0x2x8', 'Position_8', 'Pitch_72', 'Velocity_116', 'Duration_1x0x4', 'Pitch_79', 'Velocity_100', 'Duration_4x0x1', 'Bar_None', 'Bar_None', 'Position_2', 'Pitch_69', 'Velocity_74', 'Duration_1x0x4', 'Pitch_72', 'Velocity_68', 'Duration_0x6x8', 'Pitch_79', 'Velocity_74', 'Duration_0x4x8', 'Position_8', 'Pitch_71', 'Velocity_84', 'Duration_0x6x8', 'Pitch_79', 'Velocity_84', 'Duration_0x4x8', 'Bar_None', 'Position_16', 'Pitch_71', 'Velocity_84', 'Duration_1x1x4', 'Pitch_76', 'Velocity_79', 'Duration_0x6x8', 'Bar_None', 'Position_0', 'Pitch_72', 'Velocity_100', 'Duration_0x4x8', 'Pitch_74', 'Velocity_84', 'Duration_0x6x8', 'Pitch_79', 'Velocity_105', 'Duration_0x6x8']\n"
     ]
    }
   ],
   "source": [
    "print(a['input_ids'][0])\n",
    "toks = roberta_tokenizer_midi.convert_ids_to_tokens(a['input_ids'][0])\n",
    "print(toks)"
   ]
  },
  {
   "cell_type": "code",
   "execution_count": 19,
   "metadata": {},
   "outputs": [],
   "source": [
    "remi_tokenizer = REMI(params=Path('/media/datadisk/data/pretrained_models/pop_midi_mlm_base/pop_REMI_BPE_tokenizer.json'))"
   ]
  },
  {
   "cell_type": "code",
   "execution_count": 20,
   "metadata": {},
   "outputs": [],
   "source": [
    "toks_miditok = []\n",
    "for tok in toks:\n",
    "    if '_' in tok:\n",
    "        toks_miditok.append(tok.replace('x','.'))\n",
    "tok_seq = TokSequence(toks_miditok)"
   ]
  },
  {
   "cell_type": "code",
   "execution_count": 21,
   "metadata": {},
   "outputs": [
    {
     "name": "stdout",
     "output_type": "stream",
     "text": [
      "TokSequence(tokens=['Bar_None', 'Position_0', 'Tempo_92.86', 'Position_4', 'Duration_0.2.8', 'Position_8', 'Pitch_76', 'Velocity_100', 'Duration_0.6.8', 'Position_24', 'Pitch_76', 'Velocity_95', 'Duration_0.4.8', 'Bar_None', 'Position_0', 'Pitch_72', 'Velocity_95', 'Duration_0.4.8', 'Position_8', 'Pitch_72', 'Velocity_95', 'Duration_0.2.8', 'Position_24', 'Pitch_72', 'Velocity_74', 'Duration_1.0.4', 'Pitch_69', 'Pitch_60', 'Velocity_79', 'Duration_0.6.8', 'Bar_None', 'Position_4', 'Pitch_74', 'Velocity_100', 'Duration_0.2.8', 'Position_8', 'Pitch_74', 'Velocity_100', 'Duration_0.6.8', 'Position_24', 'Pitch_74', 'Velocity_100', 'Duration_0.4.8', 'Bar_None', 'Position_16', 'Pitch_74', 'Velocity_105', 'Duration_0.4.8', 'Bar_None', 'Position_0', 'Pitch_67', 'Velocity_95', 'Duration_0.2.8', 'Pitch_72', 'Velocity_105', 'Duration_0.2.8', 'Pitch_74', 'Velocity_105', 'Duration_0.2.8', 'Pitch_79', 'Velocity_105', 'Duration_0.2.8', 'Position_8', 'Pitch_72', 'Velocity_116', 'Duration_1.0.4', 'Pitch_79', 'Velocity_100', 'Duration_4.0.1', 'Bar_None', 'Bar_None', 'Position_2', 'Pitch_69', 'Velocity_74', 'Duration_1.0.4', 'Pitch_72', 'Velocity_68', 'Duration_0.6.8', 'Pitch_79', 'Velocity_74', 'Duration_0.4.8', 'Position_8', 'Pitch_71', 'Velocity_84', 'Duration_0.6.8', 'Pitch_79', 'Velocity_84', 'Duration_0.4.8', 'Bar_None', 'Position_16', 'Pitch_71', 'Velocity_84', 'Duration_1.1.4', 'Pitch_76', 'Velocity_79', 'Duration_0.6.8', 'Bar_None', 'Position_0', 'Pitch_72', 'Velocity_100', 'Duration_0.4.8', 'Pitch_74', 'Velocity_84', 'Duration_0.6.8', 'Pitch_79', 'Velocity_105', 'Duration_0.6.8'], ids=[], bytes='', events=[], are_ids_encoded=False, _ticks_bars=[], _ticks_beats=[], _ids_decoded=[])\n"
     ]
    }
   ],
   "source": [
    "print(tok_seq)"
   ]
  },
  {
   "cell_type": "code",
   "execution_count": 22,
   "metadata": {},
   "outputs": [
    {
     "name": "stderr",
     "output_type": "stream",
     "text": [
      "/tmp/ipykernel_5272/2386078323.py:1: UserWarning: miditok: The `tokens_to_midi` method had been renamed `decode`. It is now depreciated and will be removed in future updates.\n",
      "  m = remi_tokenizer.tokens_to_midi(tokens=[tok_seq])\n"
     ]
    }
   ],
   "source": [
    "m = remi_tokenizer.tokens_to_midi(tokens=[tok_seq])"
   ]
  },
  {
   "cell_type": "code",
   "execution_count": 23,
   "metadata": {},
   "outputs": [
    {
     "name": "stdout",
     "output_type": "stream",
     "text": [
      "Score(ttype=Tick, tpq=8, begin=0, end=262, tracks=1, notes=26, time_sig=1, key_sig=0, markers=0)\n"
     ]
    }
   ],
   "source": [
    "print(m)"
   ]
  },
  {
   "cell_type": "code",
   "execution_count": 26,
   "metadata": {},
   "outputs": [],
   "source": [
    "jmidi = {'acc': []}\n",
    "track = m.tracks[0]\n",
    "for note in track.notes:\n",
    "    jmidi['acc'].append({\n",
    "        'start': note.time / m.ticks_per_quarter,\n",
    "        'pitch': note.pitch,\n",
    "        'duration': note.duration / m.ticks_per_quarter\n",
    "    })"
   ]
  },
  {
   "cell_type": "code",
   "execution_count": 44,
   "metadata": {},
   "outputs": [],
   "source": [
    "# incorporate in input\n",
    "dict_input['acc'] = jmidi['acc']"
   ]
  },
  {
   "cell_type": "code",
   "execution_count": 45,
   "metadata": {},
   "outputs": [],
   "source": [
    "# save json\n",
    "with open(os.path.join( json_outputs_folder, 'test_json_result.json'), 'w') as json_file:\n",
    "    json.dump(dict_input, json_file)"
   ]
  },
  {
   "cell_type": "code",
   "execution_count": 46,
   "metadata": {},
   "outputs": [
    {
     "data": {
      "text/plain": [
       "dict_keys(['melody', 'chords', 'acc'])"
      ]
     },
     "execution_count": 46,
     "metadata": {},
     "output_type": "execute_result"
    }
   ],
   "source": [
    "dict_input.keys()"
   ]
  },
  {
   "cell_type": "code",
   "execution_count": 49,
   "metadata": {},
   "outputs": [],
   "source": [
    "# make single midi with accompaniment\n",
    "for json_input in json_inputs:\n",
    "    melody_notes = j2m.note_list_to_notes(dict_input['melody'], default_v=DEFAULT_V_ACC, bpm=bpm)\n",
    "    acc_notes = j2m.note_list_to_notes(dict_input['acc'], default_v=DEFAULT_V_ACC, bpm=bpm)\n",
    "    midi = pm.PrettyMIDI(initial_tempo=bpm)\n",
    "    midi.instruments = [pm.Instrument(65, is_drum=False, name='melody'), \n",
    "                        pm.Instrument(0, is_drum=False, name='acc')\n",
    "                        ]\n",
    "    midi.instruments[0].notes = melody_notes\n",
    "    midi.instruments[1].notes = acc_notes\n",
    "    midi.write(os.path.join(midi_outputs_folder, json_input.split('.')[0]+'_out' +'.mid'))"
   ]
  },
  {
   "cell_type": "code",
   "execution_count": 24,
   "metadata": {},
   "outputs": [],
   "source": [
    "m.dump_midi(\"out.mid\")"
   ]
  },
  {
   "cell_type": "code",
   "execution_count": 86,
   "metadata": {},
   "outputs": [
    {
     "name": "stdout",
     "output_type": "stream",
     "text": [
      "{'acc': [{'start': 2.5, 'pitch': 78, 'duration': 0.75}, {'start': 3.0, 'pitch': 80, 'duration': 0.75}, {'start': 3.0, 'pitch': 86, 'duration': 0.75}, {'start': 3.5, 'pitch': 83, 'duration': 0.5}, {'start': 3.5, 'pitch': 85, 'duration': 0.75}, {'start': 5.25, 'pitch': 80, 'duration': 0.5}, {'start': 5.25, 'pitch': 80, 'duration': 0.5}, {'start': 5.5, 'pitch': 75, 'duration': 0.5}, {'start': 5.5, 'pitch': 83, 'duration': 0.75}, {'start': 6.5, 'pitch': 78, 'duration': 0.75}, {'start': 8.0, 'pitch': 78, 'duration': 0.25}, {'start': 8.0, 'pitch': 88, 'duration': 0.25}, {'start': 10.5, 'pitch': 76, 'duration': 3.5}, {'start': 10.5, 'pitch': 86, 'duration': 4.0}, {'start': 18.5, 'pitch': 81, 'duration': 1.0}, {'start': 18.5, 'pitch': 85, 'duration': 1.0}, {'start': 19.5, 'pitch': 80, 'duration': 1.0}, {'start': 20.0, 'pitch': 74, 'duration': 2.5}, {'start': 22.5, 'pitch': 73, 'duration': 0.75}, {'start': 22.5, 'pitch': 81, 'duration': 3.5}, {'start': 22.5, 'pitch': 87, 'duration': 3.5}, {'start': 26.5, 'pitch': 78, 'duration': 0.5}, {'start': 27.0, 'pitch': 87, 'duration': 1.25}, {'start': 27.5, 'pitch': 83, 'duration': 0.5}, {'start': 25.5, 'pitch': 80, 'duration': 0.5}, {'start': 26.0, 'pitch': 83, 'duration': 0.75}, {'start': 26.0, 'pitch': 88, 'duration': 1.75}, {'start': 28.0, 'pitch': 85, 'duration': 0.25}, {'start': 30.0, 'pitch': 80, 'duration': 0.25}, {'start': 30.5, 'pitch': 83, 'duration': 0.5}, {'start': 31.0, 'pitch': 78, 'duration': 1.25}, {'start': 31.0, 'pitch': 83, 'duration': 0.25}, {'start': 31.5, 'pitch': 81, 'duration': 0.25}, {'start': 31.5, 'pitch': 85, 'duration': 0.25}, {'start': 32.0, 'pitch': 79, 'duration': 0.25}, {'start': 32.0, 'pitch': 90, 'duration': 1.75}, {'start': 32.0, 'pitch': 87, 'duration': 1.75}, {'start': 34.0, 'pitch': 75, 'duration': 0.25}, {'start': 34.0, 'pitch': 90, 'duration': 0.25}, {'start': 34.5, 'pitch': 71, 'duration': 0.25}, {'start': 34.5, 'pitch': 85, 'duration': 0.25}, {'start': 35.0, 'pitch': 78, 'duration': 3.0}, {'start': 35.5, 'pitch': 83, 'duration': 0.5}, {'start': 35.5, 'pitch': 88, 'duration': 3.5}]}\n"
     ]
    }
   ],
   "source": [
    "print(jmidi)"
   ]
  },
  {
   "cell_type": "code",
   "execution_count": 84,
   "metadata": {},
   "outputs": [
    {
     "data": {
      "text/plain": [
       "Note(time=20, duration=6, pitch=78, velocity=116, ttype='Tick')"
      ]
     },
     "execution_count": 84,
     "metadata": {},
     "output_type": "execute_result"
    }
   ],
   "source": [
    "# m.time_signatures\n",
    "# m.tempos[0]\n",
    "m.tracks[0].notes[0]\n",
    "# m.ticks_per_quarter"
   ]
  },
  {
   "cell_type": "code",
   "execution_count": null,
   "metadata": {},
   "outputs": [],
   "source": [
    "s = symusic.Score(\"out.mid\")"
   ]
  },
  {
   "cell_type": "code",
   "execution_count": null,
   "metadata": {},
   "outputs": [],
   "source": [
    "print(s)"
   ]
  }
 ],
 "metadata": {
  "kernelspec": {
   "display_name": "torch",
   "language": "python",
   "name": "python3"
  },
  "language_info": {
   "codemirror_mode": {
    "name": "ipython",
    "version": 3
   },
   "file_extension": ".py",
   "mimetype": "text/x-python",
   "name": "python",
   "nbconvert_exporter": "python",
   "pygments_lexer": "ipython3",
   "version": "3.11.5"
  }
 },
 "nbformat": 4,
 "nbformat_minor": 2
}
