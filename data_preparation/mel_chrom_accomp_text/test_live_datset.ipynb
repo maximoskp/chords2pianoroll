{
 "cells": [
  {
   "cell_type": "code",
   "execution_count": 1,
   "metadata": {},
   "outputs": [],
   "source": [
    "import pypianoroll\n",
    "import os\n",
    "import numpy as np\n",
    "import matplotlib.pyplot as plt\n",
    "from copy import deepcopy\n",
    "import torch\n",
    "from torch.utils.data import Dataset"
   ]
  },
  {
   "cell_type": "code",
   "execution_count": null,
   "metadata": {},
   "outputs": [],
   "source": [
    "class LiveMelCATDataset(Dataset):\n",
    "    def __init__(self, midis_folder, segment_size=64):\n",
    "        self.midis_folder = midis_folder\n",
    "        self.midis_list = os.listdir(midis_folder)\n",
    "        self.segment_size = segment_size\n",
    "    # end init\n",
    "    def __len__(self):\n",
    "        return len(self.midis_list)\n",
    "    # end len\n",
    "    def __getitem__(self, idx):\n",
    "        # load a midi file in pianoroll\n",
    "        # make deepcopy\n",
    "        # get random start_idx and end_idx, segment_size apart\n",
    "        # trim to start_idx - end_idx\n",
    "        # randomly transpose in -6, 6\n",
    "        # get chroma 12D of entire midi file\n",
    "        chroma = None\n",
    "        # split melody - accompaniment\n",
    "        # get text from title\n",
    "        text_description = None\n",
    "        # tokenize melody\n",
    "        tokenized_melody = None\n",
    "        # tokenize accompaniment\n",
    "        tokenized_accomp = None\n",
    "        return {\n",
    "            'melody': tokenized_melody,\n",
    "            'chroma': chroma,\n",
    "            'text': text_description,\n",
    "            'accomp': tokenized_accomp\n",
    "        }\n",
    "    # end getitem"
   ]
  }
 ],
 "metadata": {
  "kernelspec": {
   "display_name": "torch",
   "language": "python",
   "name": "python3"
  },
  "language_info": {
   "codemirror_mode": {
    "name": "ipython",
    "version": 3
   },
   "file_extension": ".py",
   "mimetype": "text/x-python",
   "name": "python",
   "nbconvert_exporter": "python",
   "pygments_lexer": "ipython3",
   "version": "3.11.6"
  }
 },
 "nbformat": 4,
 "nbformat_minor": 2
}
