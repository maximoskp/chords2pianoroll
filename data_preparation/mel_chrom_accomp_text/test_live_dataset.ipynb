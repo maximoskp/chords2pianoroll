{
 "cells": [
  {
   "cell_type": "code",
   "execution_count": 1,
   "metadata": {},
   "outputs": [],
   "source": [
    "# https://huggingface.co/transformers/v4.8.2/model_doc/encoderdecoder.html\n",
    "import pypianoroll\n",
    "import os\n",
    "import numpy as np\n",
    "import matplotlib.pyplot as plt\n",
    "from copy import deepcopy\n",
    "import numpy as np\n",
    "import torch\n",
    "from torch.utils.data import Dataset\n",
    "import io\n",
    "import symusic\n",
    "\n",
    "from BinaryTokenizer import BinaryTokenizer, SimpleSerialChromaTokenizer\n",
    "from miditok import REMI, TokenizerConfig\n",
    "from transformers import RobertaTokenizer, RobertaModel"
   ]
  },
  {
   "cell_type": "code",
   "execution_count": 2,
   "metadata": {},
   "outputs": [],
   "source": [
    "class LiveMelCATDataset(Dataset):\n",
    "    def __init__(self, midis_folder, chroma_tokenizer=None, midi_tokenizer=None, text_tokenizer=None, segment_size=64, resolution=24):\n",
    "        self.midis_folder = midis_folder\n",
    "        self.midis_list = os.listdir(midis_folder)\n",
    "        self.segment_size = segment_size\n",
    "        self.resolution = resolution\n",
    "        self.chroma_tokenizer = chroma_tokenizer\n",
    "        self.midi_tokenizer = midi_tokenizer\n",
    "        self.text_tokenizer = text_tokenizer\n",
    "    # end init\n",
    "    def __len__(self):\n",
    "        return len(self.midis_list)\n",
    "    # end len\n",
    "    def __getitem__(self, idx):\n",
    "        print(self.midis_list[idx])\n",
    "        # load a midi file in pianoroll\n",
    "        main_piece = pypianoroll.read(self.midis_folder + os.sep + self.midis_list[idx], resolution=self.resolution)\n",
    "        # make deepcopy\n",
    "        new_piece = deepcopy(main_piece)\n",
    "        # get random start_idx and end_idx, segment_size apart\n",
    "        piece_size = main_piece.downbeat.shape[0]\n",
    "        start_idx = np.random.randint(piece_size - self.segment_size*new_piece.resolution)\n",
    "        end_idx = start_idx + self.segment_size*new_piece.resolution\n",
    "        # trim to start_idx - end_idx\n",
    "        new_piece.trim(start_idx,end_idx)\n",
    "        # randomly transpose in -6, 6\n",
    "        new_piece.transpose( np.random.randint(-6,6) )\n",
    "        # get binary chroma 12D of entire midi file\n",
    "        # first binarize a new deep copy\n",
    "        binary_piece = deepcopy(new_piece)\n",
    "        binary_piece.binarize()\n",
    "        # make chroma\n",
    "        chroma = binary_piece.tracks[0].pianoroll[:,:12]\n",
    "        for i in range(12, 128-12, 12):\n",
    "            chroma = np.logical_or(chroma, new_piece.tracks[0].pianoroll[:,i:(i+12)])\n",
    "        chroma[:,-6:] = np.logical_or(chroma[:,-6:], new_piece.tracks[0].pianoroll[:,-6:])\n",
    "        # quarter chroma resolution\n",
    "        chroma_tmp = np.zeros( (1,12) )\n",
    "        chroma_zoomed_out = None\n",
    "        for i in range(chroma.shape[0]):\n",
    "            chroma_tmp += chroma[i,:]\n",
    "            if (i+1)%self.resolution == 0:\n",
    "                if chroma_zoomed_out is None:\n",
    "                    chroma_zoomed_out = chroma_tmp >= np.mean( chroma_tmp )\n",
    "                else:\n",
    "                    chroma_zoomed_out = np.vstack( (chroma_zoomed_out, chroma_tmp >= np.mean( chroma_tmp )) )\n",
    "        if np.sum( chroma_tmp ) > 0:\n",
    "            if chroma_zoomed_out is None:\n",
    "                chroma_zoomed_out = chroma_tmp >= np.mean( chroma_tmp )\n",
    "            else:\n",
    "                chroma_zoomed_out = np.vstack( (chroma_zoomed_out, chroma_tmp >= np.mean( chroma_tmp )) )\n",
    "        if self.chroma_tokenizer is None:\n",
    "            tokenized_chroma = chroma_zoomed_out\n",
    "        else:\n",
    "            tokenized_chroma = self.chroma_tokenizer(chroma_zoomed_out)\n",
    "        # split melody - accompaniment\n",
    "        melody_piece, accomp_piece = self.split_melody_accompaniment( new_piece )\n",
    "        # make ghost files of melody and accomp pieces\n",
    "        melody_file = self.make_midi_bytes(melody_piece)\n",
    "        accomp_file = self.make_midi_bytes(accomp_piece)\n",
    "        # tokenize melody and accompaniment midi\n",
    "        if self.midi_tokenizer is None:\n",
    "            tokenized_melody = melody_file\n",
    "            tokenized_accomp = accomp_file\n",
    "        else:\n",
    "            tokenized_melody = self.midi_tokenizer(melody_file)\n",
    "            tokenized_accomp = self.midi_tokenizer(accomp_file)\n",
    "        # get text from title\n",
    "        text_description = self.midis_list[idx]\n",
    "        # tokenize text\n",
    "        if self.text_tokenizer is None:\n",
    "            tokenized_text = text_description\n",
    "        else:\n",
    "            tokenized_text = self.text_tokenizer(text_description)\n",
    "        return {\n",
    "            'melody': tokenized_melody[0].ids,\n",
    "            'chroma': tokenized_chroma['input_ids'],\n",
    "            'text': tokenized_text['input_ids'],\n",
    "            'accomp': tokenized_accomp[0].ids,\n",
    "            'chroma_zoomed_out': chroma_zoomed_out\n",
    "        }\n",
    "    # end getitem\n",
    "\n",
    "    def split_melody_accompaniment(self, pypianoroll_structure):\n",
    "        melody_piece = deepcopy( pypianoroll_structure )\n",
    "        accomp_piece = deepcopy( pypianoroll_structure )\n",
    "\n",
    "        mel_pr = melody_piece.tracks[0].pianoroll\n",
    "        acc_pr = accomp_piece.tracks[0].pianoroll\n",
    "\n",
    "        pr = np.array(melody_piece.tracks[0].pianoroll)\n",
    "        running_melody = -1\n",
    "        i = 0\n",
    "        # for i in range( pr.shape[0] ):\n",
    "        while i < pr.shape[0]:\n",
    "            # check if any note\n",
    "            if np.sum(pr[i,:]) > 0:\n",
    "                # get running max\n",
    "                running_max = np.max( np.nonzero( pr[i,:] ) )\n",
    "                # check if there exists a running melody\n",
    "                if running_melody > -1:\n",
    "                    # check if running melody is continued\n",
    "                    if running_melody == running_max:\n",
    "                        # remove all lower pitches from melody\n",
    "                        mel_pr[i, :running_max] = 0\n",
    "                        # remove higher pitch from accomp\n",
    "                        acc_pr[i, running_max] = 0\n",
    "                    else:\n",
    "                        # running melody may need to change\n",
    "                        # check if new highest pitch just started\n",
    "                        if running_max > running_melody:\n",
    "                            # a new higher note has started\n",
    "                            # finish previous note that was highest until now\n",
    "                            j = 0\n",
    "                            while j+i < mel_pr.shape[0] and mel_pr[i+j, running_melody] > 0 and running_max > running_melody:\n",
    "                                mel_pr[i+j, :running_melody] = 0\n",
    "                                mel_pr[i+j, running_melody+1:running_max] = 0\n",
    "                                acc_pr[i+j, running_melody] = 0\n",
    "                                acc_pr[i+j, running_max] = 0\n",
    "                                if np.sum( pr[i+j,:] ) > 0:\n",
    "                                    running_max = np.max( np.nonzero( pr[i+j,:] ) )\n",
    "                                else:\n",
    "                                    running_melody = -1\n",
    "                                    break\n",
    "                                j += 1\n",
    "                            # start new running melody\n",
    "                            i += j-1\n",
    "                            running_melody = running_max\n",
    "                        else:\n",
    "                            # i should be > 0 since we have that running_melody > -1\n",
    "                            # a lower note has come\n",
    "                            # if has begun earlier, it should be ignored\n",
    "                            if pr[i-1, running_max] > 0:\n",
    "                                # its continuing an existing note - not part of melody\n",
    "                                mel_pr[i, :] = 0\n",
    "                                # running max should not be canceled, it remains as ghost max\n",
    "                                # until a new higher max or a fresh lower max starts\n",
    "                            else:\n",
    "                                # a new fresh lower max starts that shouldn't be ignored\n",
    "                                # start new running melody\n",
    "                                running_melody = running_max\n",
    "                                # remove all lower pitches from melody\n",
    "                                mel_pr[i, :running_max] = 0\n",
    "                                # remove higher pitch from accomp\n",
    "                                acc_pr[i, running_max] = 0\n",
    "                else:\n",
    "                    # no running melody, check max conditions\n",
    "                    # new note started - make it the running melody\n",
    "                    running_melody = running_max\n",
    "                    # remove all lower pitches from melody\n",
    "                    mel_pr[i, :running_max] = 0\n",
    "                    # remove higher pitch from accomp\n",
    "                    acc_pr[i, running_max] = 0\n",
    "                # end if\n",
    "            else:\n",
    "                # there is a gap\n",
    "                running_melody = -1\n",
    "            # end if\n",
    "            i += 1\n",
    "        # end for\n",
    "        return melody_piece, accomp_piece\n",
    "    # end split_melody_accompaniment\n",
    "\n",
    "    def make_midi_bytes(self, pianoroll_structure):\n",
    "        # initialize bytes handle\n",
    "        b_handle = io.BytesIO()\n",
    "        # write midi data to bytes handle\n",
    "        pianoroll_structure.write(b_handle)\n",
    "        # start read pointer from the beginning\n",
    "        b_handle.seek(0)\n",
    "        # create a buffered reader to read the handle\n",
    "        buffered_reader = io.BufferedReader(b_handle)\n",
    "        # create a midi object from the \"file\", i.e., buffered reader\n",
    "        midi_bytes = symusic.Score.from_midi(b_handle.getvalue())\n",
    "        # close the bytes handle\n",
    "        b_handle.close()\n",
    "        return midi_bytes\n",
    "    # end "
   ]
  },
  {
   "cell_type": "code",
   "execution_count": 4,
   "metadata": {},
   "outputs": [
    {
     "name": "stderr",
     "output_type": "stream",
     "text": [
      "Some weights of RobertaModel were not initialized from the model checkpoint at roberta-base and are newly initialized: ['roberta.pooler.dense.bias', 'roberta.pooler.dense.weight']\n",
      "You should probably TRAIN this model on a down-stream task to be able to use it for predictions and inference.\n"
     ]
    }
   ],
   "source": [
    "text_tokenizer = RobertaTokenizer.from_pretrained('roberta-base')\n",
    "text_encoder = RobertaModel.from_pretrained('roberta-base')"
   ]
  },
  {
   "cell_type": "code",
   "execution_count": 5,
   "metadata": {},
   "outputs": [],
   "source": [
    "text = \"One two three\"\n",
    "encoded_input = text_tokenizer(text, return_tensors='pt')\n",
    "output = text_encoder(**encoded_input)"
   ]
  },
  {
   "cell_type": "code",
   "execution_count": 6,
   "metadata": {},
   "outputs": [
    {
     "name": "stdout",
     "output_type": "stream",
     "text": [
      "{'input_ids': tensor([[   0, 3762,   80,  130,    2]]), 'attention_mask': tensor([[1, 1, 1, 1, 1]])}\n",
      "[0, 3762, 80, 130, 2]\n",
      "torch.Size([1, 5, 768])\n"
     ]
    }
   ],
   "source": [
    "print(encoded_input)\n",
    "print(encoded_input['input_ids'][0].tolist())\n",
    "print(output['last_hidden_state'].shape)"
   ]
  },
  {
   "cell_type": "code",
   "execution_count": 7,
   "metadata": {},
   "outputs": [],
   "source": [
    "# MIDI tokenizer configuration\n",
    "PITCH_RANGE = (21, 109)\n",
    "BEAT_RES = {(0, 1): 8, (1, 2): 4, (2, 4): 2, (4, 8): 1}\n",
    "NB_VELOCITIES = 24\n",
    "SPECIAL_TOKENS = [\"PAD\", \"MASK\", \"BOS\", \"EOS\"]\n",
    "USE_CHORDS = False\n",
    "USE_RESTS = False\n",
    "USE_TEMPOS = False\n",
    "USE_TIME_SIGNATURE = False\n",
    "USE_PROGRAMS = False\n",
    "NB_TEMPOS = 32\n",
    "TEMPO_RANGE = (50, 200)  # (min_tempo, max_tempo)\n",
    "TOKENIZER_PARAMS = {\n",
    "    \"pitch_range\": PITCH_RANGE,\n",
    "    \"beat_res\": BEAT_RES,\n",
    "    \"num_velocities\": NB_VELOCITIES,\n",
    "    \"special_tokens\": SPECIAL_TOKENS,\n",
    "    \"use_chords\": USE_CHORDS,\n",
    "    \"use_rests\": USE_RESTS,\n",
    "    \"use_tempos\": USE_TEMPOS,\n",
    "    \"use_time_signatures\": USE_TIME_SIGNATURE,\n",
    "    \"use_programs\": USE_PROGRAMS,\n",
    "    \"num_tempos\": NB_TEMPOS,\n",
    "    \"tempo_range\": TEMPO_RANGE,\n",
    "}\n",
    "config = TokenizerConfig(**TOKENIZER_PARAMS)\n",
    "midi_tokenizer = REMI(config)\n",
    "\n",
    "# binary_tokenizer = BinaryTokenizer(num_digits=12)\n",
    "binary_tokenizer = SimpleSerialChromaTokenizer()"
   ]
  },
  {
   "cell_type": "code",
   "execution_count": 8,
   "metadata": {},
   "outputs": [
    {
     "name": "stdout",
     "output_type": "stream",
     "text": [
      "50265\n",
      "230\n",
      "15\n"
     ]
    }
   ],
   "source": [
    "# tokenizer vocabulary sizes\n",
    "print(text_encoder.config.vocab_size)\n",
    "print(midi_tokenizer.vocab_size)\n",
    "print(binary_tokenizer.vocab_size)"
   ]
  },
  {
   "cell_type": "code",
   "execution_count": 9,
   "metadata": {},
   "outputs": [],
   "source": [
    "midifolder = '../data/giantmidi_small/'\n",
    "d = LiveMelCATDataset(midifolder, chroma_tokenizer=binary_tokenizer, midi_tokenizer=midi_tokenizer.encode, text_tokenizer=text_tokenizer)"
   ]
  },
  {
   "cell_type": "code",
   "execution_count": 10,
   "metadata": {},
   "outputs": [
    {
     "name": "stdout",
     "output_type": "stream",
     "text": [
      "Aaron, Michael, Piano Course, V8WvKK-1b2c.mid\n"
     ]
    }
   ],
   "source": [
    "d0 = d[0]"
   ]
  },
  {
   "cell_type": "code",
   "execution_count": 11,
   "metadata": {},
   "outputs": [
    {
     "name": "stdout",
     "output_type": "stream",
     "text": [
      "[4, 137, 61, 105, 121, 142, 61, 108, 129, 163, 46, 108, 123, 168, 49, 106, 123, 4, 141, 66, 106, 120, 146, 58, 109, 122, 151, 61, 109, 121, 156, 66, 107, 131, 4, 4, 4, 137, 61, 110, 120, 155, 66, 107, 117, 161, 68, 108, 117, 167, 68, 106, 117, 4, 140, 58, 108, 123, 146, 61, 104, 117, 152, 61, 106, 120, 163, 66, 106, 118, 4, 137, 66, 105, 117, 143, 68, 107, 117, 148, 68, 106, 117, 154, 58, 108, 125, 164, 58, 99, 117, 167, 61, 109, 120, 4, 143, 68, 105, 120, 151, 66, 105, 117, 157, 68, 108, 117, 162, 68, 106, 117, 168, 58, 108, 122, 4, 142, 61, 106, 117, 147, 61, 108, 120, 155, 68, 106, 119, 163, 66, 106, 117, 4, 137, 68, 108, 117, 142, 68, 107, 117, 149, 54, 107, 128, 4, 4, 157, 54, 107, 123, 162, 59, 108, 125, 4, 140, 59, 108, 123, 144, 61, 110, 122, 153, 61, 108, 123, 4, 143, 71, 105, 122, 155, 54, 104, 122, 59, 100, 117, 160, 59, 109, 125, 165, 66, 105, 117, 4, 137, 59, 108, 122, 142, 61, 109, 122, 146, 66, 106, 120, 151, 61, 108, 123, 4, 140, 71, 106, 126, 155, 51, 108, 127, 59, 108, 123, 162, 54, 106, 118, 164, 59, 108, 121]\n",
      "[1, 15, 6, 8, 12, 15, 6, 8, 12, 15, 6, 8, 12, 15, 6, 8, 12, 13, 15, 6, 8, 12, 13, 15, 5, 6, 8, 12, 13, 15, 5, 6, 8, 12, 13, 15, 5, 6, 8, 12, 13, 15, 5, 6, 8, 12, 13, 15, 5, 6, 8, 12, 13, 15, 5, 6, 8, 12, 13, 15, 5, 6, 8, 12, 13, 15, 5, 6, 8, 12, 13, 15, 5, 6, 8, 12, 13, 15, 5, 6, 8, 12, 13, 15, 5, 6, 8, 12, 13, 15, 5, 6, 8, 12, 13, 15, 5, 6, 8, 12, 13, 15, 5, 6, 8, 12, 13, 15, 5, 6, 8, 12, 13, 15, 5, 6, 8, 12, 13, 15, 5, 6, 8, 12, 13, 15, 5, 6, 8, 12, 13, 15, 5, 6, 8, 12, 13, 15, 5, 6, 8, 12, 13, 15, 5, 6, 8, 12, 13, 15, 5, 6, 8, 12, 13, 15, 5, 6, 8, 13, 15, 5, 6, 8, 13, 15, 5, 6, 8, 13, 15, 5, 6, 8, 13, 15, 5, 6, 8, 12, 13, 15, 5, 6, 8, 13, 15, 5, 6, 8, 13, 15, 5, 6, 8, 13, 15, 5, 6, 8, 13, 15, 5, 6, 8, 13, 15, 5, 6, 8, 13, 15, 5, 6, 8, 13, 15, 5, 6, 8, 13, 15, 5, 6, 8, 13, 15, 5, 6, 8, 13, 15, 5, 6, 8, 13, 15, 5, 6, 8, 13, 15, 5, 6, 8, 13, 15, 5, 6, 8, 13, 15, 5, 6, 8, 13, 15, 5, 6, 8, 13, 15, 5, 6, 8, 13, 15, 5, 6, 8, 13, 15, 5, 6, 8, 13, 15, 5, 6, 8, 13, 15, 5, 6, 8, 13, 15, 5, 6, 8, 13, 15, 5, 6, 8, 13, 15, 5, 6, 8, 13, 15, 5, 6, 8, 13, 15, 5, 6, 8, 13, 15, 5, 6, 8, 13, 15, 5, 6, 8, 13, 15, 5, 6, 8, 13, 15, 5, 6, 8, 13, 15, 5, 6, 8, 13, 15, 5, 6, 8, 13, 15, 5, 6, 8, 13, 15]\n",
      "[0, 29934, 6, 988, 6, 34802, 15210, 6, 468, 398, 771, 705, 26228, 12, 134, 428, 176, 438, 4, 16079, 2]\n",
      "[4, 137, 37, 102, 124, 41, 105, 123, 47, 106, 123, 49, 106, 126, 59, 105, 121, 142, 53, 107, 129, 59, 107, 129, 158, 42, 105, 124, 4, 141, 54, 107, 123, 156, 34, 104, 121, 37, 104, 132, 42, 105, 132, 46, 106, 132, 49, 105, 132, 54, 109, 132, 58, 105, 132, 61, 105, 132, 4, 4, 4, 140, 59, 108, 120, 143, 58, 108, 121, 146, 56, 107, 120, 149, 42, 104, 123, 46, 106, 126, 49, 104, 126, 54, 107, 118, 155, 54, 108, 117, 161, 56, 108, 117, 61, 105, 117, 37, 104, 122, 41, 106, 122, 47, 106, 127, 49, 105, 124, 167, 56, 107, 117, 4, 141, 42, 102, 128, 46, 104, 127, 49, 103, 128, 155, 59, 107, 120, 158, 58, 107, 119, 160, 56, 106, 119, 163, 46, 106, 126, 49, 104, 126, 54, 107, 117, 164, 42, 104, 117, 4, 137, 54, 106, 117, 143, 41, 104, 122, 47, 106, 127, 49, 104, 124, 56, 108, 117, 59, 105, 117, 148, 56, 106, 117, 155, 42, 101, 127, 46, 103, 127, 49, 102, 128, 4, 137, 59, 108, 120, 140, 58, 107, 120, 143, 56, 105, 120, 146, 54, 106, 117, 66, 106, 117, 42, 102, 117, 46, 105, 126, 49, 103, 124, 151, 54, 106, 117, 157, 41, 105, 122, 47, 106, 126, 49, 105, 124, 56, 109, 117, 163, 56, 107, 117, 4, 137, 42, 103, 126, 46, 105, 126, 49, 103, 127, 150, 59, 108, 119, 152, 58, 108, 120, 155, 56, 107, 120, 158, 42, 104, 122, 46, 105, 126, 49, 104, 124, 54, 107, 117, 66, 106, 117, 163, 54, 107, 117, 4, 137, 56, 109, 118, 37, 102, 122, 41, 103, 122, 47, 106, 127, 49, 105, 124, 142, 56, 108, 117, 149, 37, 102, 126, 42, 102, 128, 46, 105, 128, 4, 4, 163, 45, 105, 117, 47, 106, 128, 51, 107, 128, 167, 54, 106, 123, 4, 144, 46, 107, 128, 52, 106, 128, 55, 106, 121, 149, 54, 108, 121, 158, 59, 109, 131, 159, 47, 105, 125, 51, 106, 125, 4, 160, 47, 105, 128, 51, 107, 128, 165, 54, 106, 122, 4, 142, 46, 108, 128, 52, 107, 121, 58, 107, 123, 146, 54, 108, 121, 147, 52, 103, 126, 156, 59, 109, 128, 47, 104, 124, 51, 106, 124, 4, 150, 54, 105, 121, 155, 47, 104, 127, 54, 104, 117, 160, 54, 106, 118, 164, 59, 108, 117, 54, 106, 117]\n"
     ]
    }
   ],
   "source": [
    "print(d0['melody'])\n",
    "print(d0['chroma'])\n",
    "print(d0['text'])\n",
    "print(d0['accomp'])"
   ]
  },
  {
   "cell_type": "code",
   "execution_count": 12,
   "metadata": {},
   "outputs": [
    {
     "name": "stdout",
     "output_type": "stream",
     "text": [
      "(65, 12)\n",
      "[[False False False  True False  True False False False  True False False]\n",
      " [False False False  True False  True False False False  True False False]\n",
      " [False False False  True False  True False False False  True False False]\n",
      " [False False False  True False  True False False False  True  True False]\n",
      " [False False False  True False  True False False False  True  True False]\n",
      " [False False  True  True False  True False False False  True  True False]\n",
      " [False False  True  True False  True False False False  True  True False]\n",
      " [False False  True  True False  True False False False  True  True False]\n",
      " [False False  True  True False  True False False False  True  True False]\n",
      " [False False  True  True False  True False False False  True  True False]\n",
      " [False False  True  True False  True False False False  True  True False]\n",
      " [False False  True  True False  True False False False  True  True False]\n",
      " [False False  True  True False  True False False False  True  True False]\n",
      " [False False  True  True False  True False False False  True  True False]\n",
      " [False False  True  True False  True False False False  True  True False]\n",
      " [False False  True  True False  True False False False  True  True False]\n",
      " [False False  True  True False  True False False False  True  True False]\n",
      " [False False  True  True False  True False False False  True  True False]\n",
      " [False False  True  True False  True False False False  True  True False]\n",
      " [False False  True  True False  True False False False  True  True False]\n",
      " [False False  True  True False  True False False False  True  True False]\n",
      " [False False  True  True False  True False False False  True  True False]\n",
      " [False False  True  True False  True False False False  True  True False]\n",
      " [False False  True  True False  True False False False  True  True False]\n",
      " [False False  True  True False  True False False False  True  True False]\n",
      " [False False  True  True False  True False False False  True  True False]\n",
      " [False False  True  True False  True False False False  True  True False]\n",
      " [False False  True  True False  True False False False False  True False]\n",
      " [False False  True  True False  True False False False False  True False]\n",
      " [False False  True  True False  True False False False False  True False]\n",
      " [False False  True  True False  True False False False False  True False]\n",
      " [False False  True  True False  True False False False  True  True False]\n",
      " [False False  True  True False  True False False False False  True False]\n",
      " [False False  True  True False  True False False False False  True False]\n",
      " [False False  True  True False  True False False False False  True False]\n",
      " [False False  True  True False  True False False False False  True False]\n",
      " [False False  True  True False  True False False False False  True False]\n",
      " [False False  True  True False  True False False False False  True False]\n",
      " [False False  True  True False  True False False False False  True False]\n",
      " [False False  True  True False  True False False False False  True False]\n",
      " [False False  True  True False  True False False False False  True False]\n",
      " [False False  True  True False  True False False False False  True False]\n",
      " [False False  True  True False  True False False False False  True False]\n",
      " [False False  True  True False  True False False False False  True False]\n",
      " [False False  True  True False  True False False False False  True False]\n",
      " [False False  True  True False  True False False False False  True False]\n",
      " [False False  True  True False  True False False False False  True False]\n",
      " [False False  True  True False  True False False False False  True False]\n",
      " [False False  True  True False  True False False False False  True False]\n",
      " [False False  True  True False  True False False False False  True False]\n",
      " [False False  True  True False  True False False False False  True False]\n",
      " [False False  True  True False  True False False False False  True False]\n",
      " [False False  True  True False  True False False False False  True False]\n",
      " [False False  True  True False  True False False False False  True False]\n",
      " [False False  True  True False  True False False False False  True False]\n",
      " [False False  True  True False  True False False False False  True False]\n",
      " [False False  True  True False  True False False False False  True False]\n",
      " [False False  True  True False  True False False False False  True False]\n",
      " [False False  True  True False  True False False False False  True False]\n",
      " [False False  True  True False  True False False False False  True False]\n",
      " [False False  True  True False  True False False False False  True False]\n",
      " [False False  True  True False  True False False False False  True False]\n",
      " [False False  True  True False  True False False False False  True False]\n",
      " [False False  True  True False  True False False False False  True False]\n",
      " [False False  True  True False  True False False False False  True False]]\n"
     ]
    }
   ],
   "source": [
    "print(d0['chroma_zoomed_out'].shape)\n",
    "print(d0['chroma_zoomed_out'])"
   ]
  },
  {
   "cell_type": "code",
   "execution_count": 13,
   "metadata": {},
   "outputs": [
    {
     "name": "stdout",
     "output_type": "stream",
     "text": [
      "226\n",
      "347\n",
      "21\n",
      "415\n"
     ]
    }
   ],
   "source": [
    "print(len(d0['melody']))\n",
    "print(len(d0['chroma']))\n",
    "print(len(d0['text']))\n",
    "print(len(d0['accomp']))"
   ]
  },
  {
   "cell_type": "code",
   "execution_count": 14,
   "metadata": {},
   "outputs": [
    {
     "name": "stdout",
     "output_type": "stream",
     "text": [
      "[4, 137, 61, 105, 121, 142, 61, 108, 129, 163, 46, 108, 123, 168, 49, 106, 123, 4, 141, 66, 106, 120, 146, 58, 109, 122, 151, 61, 109, 121, 156, 66, 107, 131, 4, 4, 4, 137, 61, 110, 120, 155, 66, 107, 117, 161, 68, 108, 117, 167, 68, 106, 117, 4, 140, 58, 108, 123, 146, 61, 104, 117, 152, 61, 106, 120, 163, 66, 106, 118, 4, 137, 66, 105, 117, 143, 68, 107, 117, 148, 68, 106, 117, 154, 58, 108, 125, 164, 58, 99, 117, 167, 61, 109, 120, 4, 143, 68, 105, 120, 151, 66, 105, 117, 157, 68, 108, 117, 162, 68, 106, 117, 168, 58, 108, 122, 4, 142, 61, 106, 117, 147, 61, 108, 120, 155, 68, 106, 119, 163, 66, 106, 117, 4, 137, 68, 108, 117, 142, 68, 107, 117, 149, 54, 107, 128, 4, 4, 157, 54, 107, 123, 162, 59, 108, 125, 4, 140, 59, 108, 123, 144, 61, 110, 122, 153, 61, 108, 123, 4, 143, 71, 105, 122, 155, 54, 104, 122, 59, 100, 117, 160, 59, 109, 125, 165, 66, 105, 117, 4, 137, 59, 108, 122, 142, 61, 109, 122, 146, 66, 106, 120, 151, 61, 108, 123, 4, 140, 71, 106, 126, 155, 51, 108, 127, 59, 108, 123, 162, 54, 106, 118, 164, 59, 108, 121]\n"
     ]
    }
   ],
   "source": [
    "print(d0['melody'])"
   ]
  }
 ],
 "metadata": {
  "kernelspec": {
   "display_name": "torch",
   "language": "python",
   "name": "python3"
  },
  "language_info": {
   "codemirror_mode": {
    "name": "ipython",
    "version": 3
   },
   "file_extension": ".py",
   "mimetype": "text/x-python",
   "name": "python",
   "nbconvert_exporter": "python",
   "pygments_lexer": "ipython3",
   "version": "3.11.5"
  }
 },
 "nbformat": 4,
 "nbformat_minor": 2
}
