{
 "cells": [
  {
   "cell_type": "code",
   "execution_count": 19,
   "metadata": {},
   "outputs": [],
   "source": [
    "import pypianoroll\n",
    "import os\n",
    "import numpy as np\n",
    "import matplotlib.pyplot as plt\n",
    "from copy import deepcopy"
   ]
  },
  {
   "cell_type": "code",
   "execution_count": 20,
   "metadata": {},
   "outputs": [
    {
     "name": "stdout",
     "output_type": "stream",
     "text": [
      "Aaron, Michael, Piano Course, V8WvKK-1b2c.mid\n"
     ]
    }
   ],
   "source": [
    "midifolder = '../data/giantmidi_small/'\n",
    "midifiles = os.listdir(midifolder)\n",
    "test_file = midifiles[1]\n",
    "print(test_file)"
   ]
  },
  {
   "cell_type": "code",
   "execution_count": 21,
   "metadata": {},
   "outputs": [],
   "source": [
    "main_piece = pypianoroll.read(midifolder + test_file, resolution=24)"
   ]
  },
  {
   "cell_type": "code",
   "execution_count": 22,
   "metadata": {},
   "outputs": [],
   "source": [
    "pr = main_piece.tracks[0].pianoroll"
   ]
  },
  {
   "cell_type": "code",
   "execution_count": 23,
   "metadata": {},
   "outputs": [
    {
     "data": {
      "text/plain": [
       "<matplotlib.image.AxesImage at 0x78e9b2ec6c50>"
      ]
     },
     "execution_count": 23,
     "metadata": {},
     "output_type": "execute_result"
    },
    {
     "data": {
      "image/png": "[encoded data removed]",
      "text/plain": [
       "<Figure size 640x480 with 1 Axes>"
      ]
     },
     "metadata": {},
     "output_type": "display_data"
    }
   ],
   "source": [
    "plt.imshow(pr[315:325,:].T, origin='lower')"
   ]
  },
  {
   "cell_type": "code",
   "execution_count": 24,
   "metadata": {},
   "outputs": [],
   "source": [
    "# load twice, for melody and accompaniment, and delete complementary material\n",
    "melody_piece = pypianoroll.read(midifolder + test_file, resolution=24)\n",
    "accomp_piece = pypianoroll.read(midifolder + test_file, resolution=24)\n",
    "\n",
    "mel_pr = melody_piece.tracks[0].pianoroll\n",
    "acc_pr = accomp_piece.tracks[0].pianoroll"
   ]
  },
  {
   "cell_type": "code",
   "execution_count": 25,
   "metadata": {},
   "outputs": [
    {
     "name": "stdout",
     "output_type": "stream",
     "text": [
      "88\n",
      "running_max:  62\n",
      "88\n",
      "running_melody > -1:  72\n",
      "88\n",
      "running_melody != running_max:  72 62\n",
      "88\n",
      "lower max should be ignored:  72 62\n",
      "89\n",
      "running_max:  62\n",
      "89\n",
      "running_melody > -1:  72\n",
      "89\n",
      "running_melody != running_max:  72 62\n",
      "89\n",
      "lower max should be ignored:  72 62\n",
      "90\n",
      "running_max:  62\n",
      "90\n",
      "running_melody > -1:  72\n",
      "90\n",
      "running_melody != running_max:  72 62\n",
      "90\n",
      "lower max should be ignored:  72 62\n",
      "91\n",
      "running_max:  62\n",
      "91\n",
      "running_melody > -1:  72\n",
      "91\n",
      "running_melody != running_max:  72 62\n",
      "91\n",
      "lower max should be ignored:  72 62\n",
      "92\n",
      "running_max:  62\n",
      "92\n",
      "running_melody > -1:  72\n",
      "92\n",
      "running_melody != running_max:  72 62\n",
      "92\n",
      "lower max should be ignored:  72 62\n",
      "93\n",
      "running_max:  62\n",
      "93\n",
      "running_melody > -1:  72\n",
      "93\n",
      "running_melody != running_max:  72 62\n",
      "93\n",
      "lower max should be ignored:  72 62\n",
      "94\n",
      "running_max:  62\n",
      "94\n",
      "running_melody > -1:  72\n",
      "94\n",
      "running_melody != running_max:  72 62\n",
      "94\n",
      "lower max should be ignored:  72 62\n",
      "95\n",
      "running_max:  62\n",
      "95\n",
      "running_melody > -1:  72\n",
      "95\n",
      "running_melody != running_max:  72 62\n",
      "95\n",
      "lower max should be ignored:  72 62\n",
      "96\n",
      "running_max:  62\n",
      "96\n",
      "running_melody > -1:  72\n",
      "96\n",
      "running_melody != running_max:  72 62\n",
      "96\n",
      "lower max should be ignored:  72 62\n",
      "97\n",
      "running_max:  72\n",
      "97\n",
      "running_melody > -1:  72\n",
      "97\n",
      "running_melody == running_max:  72\n"
     ]
    }
   ],
   "source": [
    "pr = np.array(melody_piece.tracks[0].pianoroll)\n",
    "running_melody = -1\n",
    "i = 0\n",
    "# for i in range( pr.shape[0] ):\n",
    "while i < pr.shape[0]:\n",
    "    # check if any note\n",
    "    if np.sum(pr[i,:]) > 0:\n",
    "        # get running max\n",
    "        running_max = np.max( np.nonzero( pr[i,:] ) )\n",
    "        if i > 87 and i < 98:\n",
    "            print(i)\n",
    "            print('running_max: ', running_max)\n",
    "        # check if there exists a running melody\n",
    "        if running_melody > -1:\n",
    "            if i > 87 and i < 98:\n",
    "                print(i)\n",
    "                print('running_melody > -1: ', running_melody)\n",
    "            # check if running melody is continued\n",
    "            if running_melody == running_max:\n",
    "                if i > 87 and i < 98:\n",
    "                    print(i)\n",
    "                    print('running_melody == running_max: ', running_max)\n",
    "                # remove all lower pitches from melody\n",
    "                mel_pr[i, :running_max] = 0\n",
    "                # remove higher pitch from accomp\n",
    "                acc_pr[i, running_max] = 0\n",
    "            else:\n",
    "                if i > 87 and i < 98:\n",
    "                    print(i)\n",
    "                    print('running_melody != running_max: ', running_melody, running_max)\n",
    "                # running melody may need to change\n",
    "                # check if new highest pitch just started\n",
    "                if running_max > running_melody:\n",
    "                    # a new higher note has started\n",
    "                    # finish previous note that was highest until now\n",
    "                    j = 0\n",
    "                    while j+i < mel_pr.shape[0] and mel_pr[i+j, running_melody] > 0 and running_max > running_melody:\n",
    "                        if i > 87 and i < 98:\n",
    "                            print('while: ', i, j)\n",
    "                        mel_pr[i+j, :running_melody] = 0\n",
    "                        mel_pr[i+j, running_melody+1:running_max] = 0\n",
    "                        acc_pr[i+j, running_melody] = 0\n",
    "                        acc_pr[i+j, running_max] = 0\n",
    "                        if np.sum( pr[i+j,:] ) > 0:\n",
    "                            running_max = np.max( np.nonzero( pr[i+j,:] ) )\n",
    "                        else:\n",
    "                            running_melody = -1\n",
    "                            break\n",
    "                        j += 1\n",
    "                        # if j+i < pr.shape[0]:\n",
    "                        #     if np.sum( pr[i+j,:] ) > 0:\n",
    "                        #         running_max = np.max( np.nonzero( pr[i+j,:] ) )\n",
    "                        #     else:\n",
    "                        #         running_melody = -1\n",
    "                        #         break\n",
    "                    # start new running melody\n",
    "                    i += j-1\n",
    "                    running_melody = running_max\n",
    "                else:\n",
    "                    # i should be > 0 since we have that running_melody > -1\n",
    "                    # a lower note has come\n",
    "                    # if has begun earlier, it should be ignored\n",
    "                    if pr[i-1, running_max] > 0:\n",
    "                        if i > 87 and i < 98:\n",
    "                            print(i)\n",
    "                            print('lower max should be ignored: ', running_melody, running_max)\n",
    "                        # its continuing an existing note - not part of melody\n",
    "                        mel_pr[i, :] = 0\n",
    "                        # running max should not be canceled, it remains as ghost max\n",
    "                        # until a new higher max or a fresh lower max starts\n",
    "                    else:\n",
    "                        # a new fresh lower max starts that shouldn't be ignored\n",
    "                        if i > 87 and i < 98:\n",
    "                            print(i)\n",
    "                            print('lower max should NOT be ignored: ', pr[i-1, running_max], pr[i, running_max], running_max)\n",
    "                        # start new running melody\n",
    "                        running_melody = running_max\n",
    "                        # remove all lower pitches from melody\n",
    "                        mel_pr[i, :running_max] = 0\n",
    "                        # remove higher pitch from accomp\n",
    "                        acc_pr[i, running_max] = 0\n",
    "        else:\n",
    "            # no running melody, check max conditions\n",
    "            if i > 87 and i < 98:\n",
    "                print(i)\n",
    "                print('new note started: ', running_melody, running_max)\n",
    "            # new note started - make it the running melody\n",
    "            running_melody = running_max\n",
    "            # remove all lower pitches from melody\n",
    "            mel_pr[i, :running_max] = 0\n",
    "            # remove higher pitch from accomp\n",
    "            acc_pr[i, running_max] = 0\n",
    "        # end if\n",
    "    else:\n",
    "        # there is a gap\n",
    "        running_melody = -1\n",
    "    # end if\n",
    "    i += 1\n",
    "# end for"
   ]
  },
  {
   "cell_type": "code",
   "execution_count": 26,
   "metadata": {},
   "outputs": [
    {
     "data": {
      "image/png": "[encoded data removed]",
      "text/plain": [
       "<Figure size 640x480 with 1 Axes>"
      ]
     },
     "metadata": {},
     "output_type": "display_data"
    },
    {
     "data": {
      "image/png": "[encoded data removed]",
      "text/plain": [
       "<Figure size 640x480 with 1 Axes>"
      ]
     },
     "metadata": {},
     "output_type": "display_data"
    },
    {
     "data": {
      "text/plain": [
       "<matplotlib.image.AxesImage at 0x78e9b2e0d590>"
      ]
     },
     "execution_count": 26,
     "metadata": {},
     "output_type": "execute_result"
    },
    {
     "data": {
      "image/png": "[encoded data removed]",
      "text/plain": [
       "<Figure size 640x480 with 1 Axes>"
      ]
     },
     "metadata": {},
     "output_type": "display_data"
    }
   ],
   "source": [
    "plt.imshow(pr[0:500,:].T, origin='lower')\n",
    "plt.show()\n",
    "plt.imshow(mel_pr[0:500,:].T, origin='lower')\n",
    "plt.show()\n",
    "plt.imshow(acc_pr[0:500,:].T, origin='lower')"
   ]
  },
  {
   "cell_type": "code",
   "execution_count": 27,
   "metadata": {},
   "outputs": [],
   "source": [
    "melody_piece.write('test_data/melody.mid')\n",
    "accomp_piece.write('test_data/accomp.mid')"
   ]
  }
 ],
 "metadata": {
  "kernelspec": {
   "display_name": "torch",
   "language": "python",
   "name": "python3"
  },
  "language_info": {
   "codemirror_mode": {
    "name": "ipython",
    "version": 3
   },
   "file_extension": ".py",
   "mimetype": "text/x-python",
   "name": "python",
   "nbconvert_exporter": "python",
   "pygments_lexer": "ipython3",
   "version": "3.11.6"
  }
 },
 "nbformat": 4,
 "nbformat_minor": 2
}
