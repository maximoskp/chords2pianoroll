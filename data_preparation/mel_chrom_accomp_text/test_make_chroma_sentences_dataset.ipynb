{
 "cells": [
  {
   "cell_type": "code",
   "execution_count": 14,
   "metadata": {},
   "outputs": [],
   "source": [
    "import pypianoroll\n",
    "import os\n",
    "import numpy as np\n",
    "import matplotlib.pyplot as plt\n",
    "from copy import deepcopy\n",
    "import numpy as np\n",
    "import torch\n",
    "from torch.utils.data import Dataset\n",
    "import io\n",
    "import symusic\n",
    "from tqdm import tqdm\n",
    "\n",
    "from BinaryTokenizer import BinaryTokenizer, SimpleSerialChromaTokenizer\n",
    "from miditok import REMI, TokenizerConfig\n",
    "from transformers import RobertaTokenizer, RobertaModel"
   ]
  },
  {
   "cell_type": "code",
   "execution_count": 9,
   "metadata": {},
   "outputs": [
    {
     "name": "stdout",
     "output_type": "stream",
     "text": [
      "159141\n"
     ]
    }
   ],
   "source": [
    "datafolder = '/media/maindisk/maximos/data/GiantMIDI-PIano/midis_v1.2/aug/midis'\n",
    "datalist = os.listdir( datafolder )\n",
    "print(len(datalist))"
   ]
  },
  {
   "cell_type": "code",
   "execution_count": 10,
   "metadata": {},
   "outputs": [],
   "source": [
    "resolution = 24\n",
    "# binary_tokenizer = BinaryTokenizer(num_digits=12)\n",
    "binary_tokenizer = SimpleSerialChromaTokenizer(max_num_segments=8)"
   ]
  },
  {
   "cell_type": "code",
   "execution_count": 11,
   "metadata": {},
   "outputs": [],
   "source": [
    "def split_melody_accompaniment(pypianoroll_structure):\n",
    "    melody_piece = deepcopy( pypianoroll_structure )\n",
    "    accomp_piece = deepcopy( pypianoroll_structure )\n",
    "\n",
    "    mel_pr = melody_piece.tracks[0].pianoroll\n",
    "    acc_pr = accomp_piece.tracks[0].pianoroll\n",
    "\n",
    "    pr = np.array(melody_piece.tracks[0].pianoroll)\n",
    "    running_melody = -1\n",
    "    i = 0\n",
    "    # for i in range( pr.shape[0] ):\n",
    "    while i < pr.shape[0]:\n",
    "        # check if any note\n",
    "        if np.sum(pr[i,:]) > 0:\n",
    "            # get running max\n",
    "            running_max = np.max( np.nonzero( pr[i,:] ) )\n",
    "            # check if there exists a running melody\n",
    "            if running_melody > -1:\n",
    "                # check if running melody is continued\n",
    "                if running_melody == running_max:\n",
    "                    # remove all lower pitches from melody\n",
    "                    mel_pr[i, :running_max] = 0\n",
    "                    # remove higher pitch from accomp\n",
    "                    acc_pr[i, running_max] = 0\n",
    "                else:\n",
    "                    # running melody may need to change\n",
    "                    # check if new highest pitch just started\n",
    "                    if running_max > running_melody:\n",
    "                        # a new higher note has started\n",
    "                        # finish previous note that was highest until now\n",
    "                        j = 0\n",
    "                        while j+i < mel_pr.shape[0] and mel_pr[i+j, running_melody] > 0 and running_max > running_melody:\n",
    "                            mel_pr[i+j, :running_melody] = 0\n",
    "                            mel_pr[i+j, running_melody+1:running_max] = 0\n",
    "                            acc_pr[i+j, running_melody] = 0\n",
    "                            acc_pr[i+j, running_max] = 0\n",
    "                            if np.sum( pr[i+j,:] ) > 0:\n",
    "                                running_max = np.max( np.nonzero( pr[i+j,:] ) )\n",
    "                            else:\n",
    "                                running_melody = -1\n",
    "                                break\n",
    "                            j += 1\n",
    "                        # start new running melody\n",
    "                        i += j-1\n",
    "                        running_melody = running_max\n",
    "                    else:\n",
    "                        # i should be > 0 since we have that running_melody > -1\n",
    "                        # a lower note has come\n",
    "                        # if has begun earlier, it should be ignored\n",
    "                        if pr[i-1, running_max] > 0:\n",
    "                            # its continuing an existing note - not part of melody\n",
    "                            mel_pr[i, :] = 0\n",
    "                            # running max should not be canceled, it remains as ghost max\n",
    "                            # until a new higher max or a fresh lower max starts\n",
    "                        else:\n",
    "                            # a new fresh lower max starts that shouldn't be ignored\n",
    "                            # start new running melody\n",
    "                            running_melody = running_max\n",
    "                            # remove all lower pitches from melody\n",
    "                            mel_pr[i, :running_max] = 0\n",
    "                            # remove higher pitch from accomp\n",
    "                            acc_pr[i, running_max] = 0\n",
    "            else:\n",
    "                # no running melody, check max conditions\n",
    "                # new note started - make it the running melody\n",
    "                running_melody = running_max\n",
    "                # remove all lower pitches from melody\n",
    "                mel_pr[i, :running_max] = 0\n",
    "                # remove higher pitch from accomp\n",
    "                acc_pr[i, running_max] = 0\n",
    "            # end if\n",
    "        else:\n",
    "            # there is a gap\n",
    "            running_melody = -1\n",
    "        # end if\n",
    "        i += 1\n",
    "    # end for\n",
    "    return melody_piece, accomp_piece\n",
    "# end split_melody_accompaniment"
   ]
  },
  {
   "cell_type": "code",
   "execution_count": 16,
   "metadata": {},
   "outputs": [
    {
     "name": "stderr",
     "output_type": "stream",
     "text": [
      "  0%|          | 0/10 [00:00<?, ?it/s]"
     ]
    },
    {
     "name": "stderr",
     "output_type": "stream",
     "text": [
      "100%|██████████| 10/10 [00:02<00:00,  3.94it/s]\n"
     ]
    }
   ],
   "source": [
    "# open the txt to write to\n",
    "with open('chroma_accompaniment_sentences.txt', 'w') as the_file:\n",
    "    the_file.write('')\n",
    "\n",
    "for i in tqdm(range(10)):\n",
    "    main_piece = pypianoroll.read(datafolder + os.sep + datalist[i], resolution=resolution)\n",
    "    # make deepcopy\n",
    "    new_piece = deepcopy(main_piece)\n",
    "    # keep accompaniment\n",
    "    _, accomp_piece = split_melody_accompaniment(new_piece)\n",
    "    # first binarize a new deep copy\n",
    "    binary_piece = deepcopy(accomp_piece)\n",
    "    binary_piece.binarize()\n",
    "    # make chroma\n",
    "    chroma = binary_piece.tracks[0].pianoroll[:,:12]\n",
    "    for i in range(12, 128-12, 12):\n",
    "        chroma = np.logical_or(chroma, accomp_piece.tracks[0].pianoroll[:,i:(i+12)])\n",
    "    chroma[:,-6:] = np.logical_or(chroma[:,-6:], accomp_piece.tracks[0].pianoroll[:,-6:])\n",
    "    # quarter chroma resolution\n",
    "    chroma_tmp = np.zeros( (1,12) )\n",
    "    chroma_zoomed_out = None\n",
    "    for i in range(chroma.shape[0]):\n",
    "        chroma_tmp += chroma[i,:]\n",
    "        if (i+1)%resolution == 0:\n",
    "            if chroma_zoomed_out is None:\n",
    "                chroma_zoomed_out = chroma_tmp >= np.mean( chroma_tmp )\n",
    "            else:\n",
    "                chroma_zoomed_out = np.vstack( (chroma_zoomed_out, chroma_tmp >= np.mean( chroma_tmp )) )\n",
    "    if np.sum( chroma_tmp ) > 0:\n",
    "        if chroma_zoomed_out is None:\n",
    "            chroma_zoomed_out = chroma_tmp >= np.mean( chroma_tmp )\n",
    "        else:\n",
    "            chroma_zoomed_out = np.vstack( (chroma_zoomed_out, chroma_tmp >= np.mean( chroma_tmp )) )\n",
    "    tokenized_chroma = binary_tokenizer(chroma_zoomed_out)\n",
    "    with open('chroma_accompaniment_sentences.txt', 'a') as the_file:\n",
    "        the_file.write(' '.join(tokenized_chroma['tokens']) + '\\n')"
   ]
  },
  {
   "cell_type": "code",
   "execution_count": 13,
   "metadata": {},
   "outputs": [
    {
     "name": "stdout",
     "output_type": "stream",
     "text": [
      "{'tokens': ['bos', 'seg_0', 'c_0', 'c_1', 'c_2', 'c_3', 'c_4', 'c_5', 'c_6', 'c_7', 'c_8', 'c_9', 'c_10', 'c_11', 'seg_2', 'c_0', 'c_1', 'c_2', 'c_3', 'c_4', 'c_5', 'c_6', 'c_7', 'c_8', 'c_9', 'c_10', 'c_11', 'seg_3', 'c_0', 'c_1', 'c_2', 'c_3', 'c_4', 'c_5', 'c_6', 'c_7', 'c_8', 'c_9', 'c_10', 'c_11', 'seg_4', 'c_4', 'c_11', 'seg_5', 'c_4', 'c_11', 'seg_6', 'c_4', 'c_11', 'seg_7', 'c_4', 'c_8', 'c_11', 'seg_0', 'c_4', 'c_8', 'c_11', 'seg_1', 'c_3', 'c_4', 'c_8', 'c_11', 'seg_2', 'c_3', 'c_4', 'c_8', 'c_11', 'seg_3', 'c_3', 'c_4', 'c_8', 'c_11', 'seg_4', 'c_3', 'c_4', 'c_8', 'c_11', 'seg_5', 'c_3', 'c_4', 'c_8', 'c_11', 'seg_6', 'c_3', 'c_4', 'c_8', 'c_11', 'seg_7', 'c_3', 'c_4', 'c_8', 'c_9', 'c_11', 'seg_0', 'c_1', 'c_3', 'c_4', 'c_8', 'c_9', 'c_11', 'seg_1', 'c_1', 'c_3', 'c_4', 'c_8', 'c_9', 'c_11', 'seg_2', 'c_1', 'c_3', 'c_4', 'c_8', 'c_9', 'c_11', 'seg_3', 'c_1', 'c_3', 'c_4', 'c_8', 'c_9', 'c_11', 'seg_4', 'c_1', 'c_3', 'c_4', 'c_6', 'c_8', 'c_11', 'seg_5', 'c_1', 'c_4', 'c_6', 'c_8', 'c_11', 'seg_6', 'c_1', 'c_4', 'c_6', 'c_8', 'c_11', 'seg_7', 'c_1', 'c_4', 'c_6', 'c_8', 'c_11', 'seg_0', 'c_1', 'c_4', 'c_6', 'c_8', 'c_11', 'seg_1', 'c_1', 'c_4', 'c_6', 'c_8', 'c_11', 'seg_2', 'c_1', 'c_4', 'c_8', 'c_11', 'seg_3', 'c_1', 'c_3', 'c_4', 'c_8', 'c_11', 'seg_4', 'c_1', 'c_3', 'c_4', 'c_8', 'c_11', 'seg_5', 'c_1', 'c_3', 'c_4', 'c_8', 'c_11', 'seg_6', 'c_1', 'c_3', 'c_4', 'c_8', 'c_11', 'seg_7', 'c_1', 'c_3', 'c_4', 'c_8', 'c_11', 'seg_0', 'c_1', 'c_3', 'c_4', 'c_8', 'c_9', 'c_11', 'seg_1', 'c_1', 'c_3', 'c_4', 'c_8', 'c_9', 'c_11', 'seg_2', 'c_1', 'c_3', 'c_4', 'c_8', 'c_9', 'c_11', 'seg_3', 'c_1', 'c_3', 'c_4', 'c_8', 'c_9', 'c_11', 'seg_4', 'c_1', 'c_3', 'c_4', 'c_6', 'c_8', 'c_9', 'c_11', 'seg_5', 'c_1', 'c_3', 'c_4', 'c_6', 'c_8', 'c_9', 'c_11', 'seg_6', 'c_1', 'c_3', 'c_4', 'c_6', 'c_8', 'c_9', 'c_11', 'seg_7', 'c_1', 'c_3', 'c_4', 'c_6', 'c_8', 'c_9', 'c_11', 'seg_0', 'c_1', 'c_3', 'c_4', 'c_6', 'c_8', 'c_9', 'c_11', 'seg_1', 'c_1', 'c_3', 'c_4', 'c_6', 'c_8', 'c_9', 'c_11', 'seg_2', 'c_1', 'c_3', 'c_4', 'c_6', 'c_8', 'c_9', 'c_11', 'seg_3', 'c_1', 'c_3', 'c_4', 'c_6', 'c_8', 'c_9', 'c_11', 'seg_4', 'c_1', 'c_3', 'c_4', 'c_6', 'c_8', 'c_9', 'c_11', 'seg_5', 'c_1', 'c_3', 'c_4', 'c_6', 'c_8', 'c_9', 'c_11', 'seg_6', 'c_1', 'c_3', 'c_4', 'c_6', 'c_8', 'c_9', 'c_11', 'seg_7', 'c_1', 'c_3', 'c_4', 'c_6', 'c_8', 'c_9', 'c_11', 'seg_0', 'c_1', 'c_3', 'c_4', 'c_6', 'c_8', 'c_9', 'c_11', 'seg_1', 'c_1', 'c_3', 'c_4', 'c_6', 'c_8', 'c_9', 'c_11', 'seg_2', 'c_1', 'c_3', 'c_4', 'c_6', 'c_8', 'c_9', 'c_11', 'seg_3', 'c_1', 'c_3', 'c_4', 'c_6', 'c_8', 'c_9', 'c_11', 'seg_4', 'c_1', 'c_3', 'c_4', 'c_6', 'c_8', 'c_9', 'c_11', 'seg_5', 'c_1', 'c_3', 'c_4', 'c_6', 'c_8', 'c_9', 'c_11', 'seg_6', 'c_1', 'c_3', 'c_4', 'c_6', 'c_8', 'c_9', 'c_11', 'seg_7', 'c_1', 'c_3', 'c_4', 'c_6', 'c_8', 'c_9', 'c_11', 'seg_0', 'c_1', 'c_3', 'c_4', 'c_6', 'c_8', 'c_9', 'c_11', 'seg_1', 'c_1', 'c_3', 'c_4', 'c_6', 'c_8', 'c_9', 'c_11', 'seg_2', 'c_1', 'c_3', 'c_4', 'c_6', 'c_8', 'c_9', 'c_11', 'seg_3', 'c_1', 'c_3', 'c_4', 'c_6', 'c_8', 'c_9', 'c_11', 'seg_4', 'c_1', 'c_3', 'c_4', 'c_6', 'c_8', 'c_9', 'c_11', 'seg_5', 'c_1', 'c_3', 'c_4', 'c_6', 'c_8', 'c_9', 'c_11', 'seg_6', 'c_1', 'c_3', 'c_4', 'c_8', 'c_9', 'c_11', 'seg_7', 'c_1', 'c_3', 'c_4', 'c_8', 'c_9', 'c_11', 'seg_0', 'c_1', 'c_3', 'c_4', 'c_8', 'c_9', 'c_11', 'seg_1', 'c_1', 'c_3', 'c_4', 'c_8', 'c_9', 'c_11', 'seg_2', 'c_1', 'c_3', 'c_4', 'c_8', 'c_9', 'c_11', 'seg_3', 'c_1', 'c_3', 'c_4', 'c_8', 'c_9', 'c_11', 'seg_4', 'c_1', 'c_3', 'c_4', 'c_8', 'c_9', 'c_11', 'seg_5', 'c_1', 'c_3', 'c_4', 'c_6', 'c_8', 'c_9', 'c_11', 'seg_6', 'c_1', 'c_3', 'c_4', 'c_6', 'c_8', 'c_9', 'c_11', 'seg_7', 'c_1', 'c_3', 'c_4', 'c_6', 'c_8', 'c_9', 'c_11', 'seg_0', 'c_1', 'c_3', 'c_4', 'c_6', 'c_8', 'c_9', 'c_11', 'seg_1', 'c_1', 'c_3', 'c_4', 'c_6', 'c_8', 'c_9', 'c_11', 'seg_2', 'c_1', 'c_3', 'c_4', 'c_6', 'c_8', 'c_9', 'c_11', 'seg_3', 'c_1', 'c_3', 'c_4', 'c_6', 'c_8', 'c_9', 'c_11', 'seg_4', 'c_1', 'c_3', 'c_4', 'c_6', 'c_8', 'c_9', 'c_11', 'seg_5', 'c_1', 'c_3', 'c_4', 'c_6', 'c_8', 'c_9', 'c_11', 'seg_6', 'c_1', 'c_3', 'c_4', 'c_6', 'c_8', 'c_9', 'c_11', 'seg_7', 'c_1', 'c_3', 'c_4', 'c_6', 'c_8', 'c_9', 'c_11', 'seg_0', 'c_1', 'c_3', 'c_4', 'c_6', 'c_8', 'c_9', 'c_11', 'seg_1', 'c_1', 'c_3', 'c_4', 'c_6', 'c_8', 'c_9', 'c_11', 'seg_2', 'c_1', 'c_3', 'c_4', 'c_6', 'c_8', 'c_9', 'c_11', 'seg_3', 'c_1', 'c_3', 'c_4', 'c_6', 'c_8', 'c_9', 'c_11', 'seg_4', 'c_1', 'c_3', 'c_4', 'c_6', 'c_8', 'c_9', 'c_11', 'seg_5', 'c_1', 'c_3', 'c_4', 'c_6', 'c_8', 'c_9', 'c_11', 'seg_6', 'c_1', 'c_3', 'c_4', 'c_6', 'c_8', 'c_9', 'c_11', 'seg_7', 'c_1', 'c_3', 'c_4', 'c_6', 'c_8', 'c_9', 'c_11', 'seg_0', 'c_1', 'c_3', 'c_4', 'c_6', 'c_8', 'c_9', 'c_11', 'seg_1', 'c_1', 'c_3', 'c_4', 'c_6', 'c_8', 'c_9', 'c_11', 'seg_2', 'c_1', 'c_3', 'c_4', 'c_6', 'c_8', 'c_9', 'c_11', 'seg_3', 'c_1', 'c_3', 'c_4', 'c_6', 'c_8', 'c_9', 'c_11', 'seg_4', 'c_1', 'c_3', 'c_4', 'c_6', 'c_8', 'c_9', 'c_11', 'seg_5', 'c_1', 'c_3', 'c_4', 'c_6', 'c_8', 'c_9', 'c_11', 'seg_6', 'c_1', 'c_3', 'c_4', 'c_6', 'c_8', 'c_9', 'c_11', 'seg_7', 'c_1', 'c_3', 'c_4', 'c_6', 'c_8', 'c_9', 'c_11', 'seg_0', 'c_1', 'c_3', 'c_4', 'c_6', 'c_8', 'c_9', 'c_11', 'seg_1', 'c_1', 'c_3', 'c_4', 'c_6', 'c_8', 'c_9', 'c_11', 'seg_2', 'c_1', 'c_3', 'c_4', 'c_6', 'c_8', 'c_9', 'c_11', 'seg_3', 'c_1', 'c_3', 'c_4', 'c_6', 'c_8', 'c_9', 'c_11', 'seg_4', 'c_1', 'c_3', 'c_4', 'c_6', 'c_8', 'c_9', 'c_11', 'seg_5', 'c_1', 'c_3', 'c_4', 'c_6', 'c_8', 'c_9', 'c_11', 'seg_6', 'c_1', 'c_3', 'c_4', 'c_6', 'c_8', 'c_9', 'c_11', 'seg_7', 'c_1', 'c_3', 'c_4', 'c_6', 'c_8', 'c_9', 'c_11', 'seg_0', 'c_1', 'c_3', 'c_4', 'c_6', 'c_8', 'c_9', 'c_11', 'seg_1', 'c_1', 'c_3', 'c_4', 'c_6', 'c_8', 'c_9', 'c_11', 'seg_2', 'c_1', 'c_3', 'c_4', 'c_6', 'c_8', 'c_9', 'c_11', 'seg_3', 'c_1', 'c_3', 'c_4', 'c_6', 'c_8', 'c_9', 'c_11', 'seg_4', 'c_1', 'c_3', 'c_4', 'c_6', 'c_8', 'c_9', 'c_11', 'seg_5', 'c_1', 'c_3', 'c_4', 'c_6', 'c_8', 'c_9', 'c_11', 'seg_6', 'c_1', 'c_3', 'c_4', 'c_6', 'c_8', 'c_9', 'c_11', 'seg_7', 'c_1', 'c_3', 'c_4', 'c_6', 'c_8', 'c_9', 'c_11', 'seg_0', 'c_1', 'c_3', 'c_4', 'c_6', 'c_8', 'c_9', 'c_11', 'seg_1', 'c_1', 'c_3', 'c_4', 'c_6', 'c_8', 'c_9', 'c_11', 'seg_2', 'c_1', 'c_3', 'c_4', 'c_6', 'c_8', 'c_9', 'c_11', 'seg_3', 'c_1', 'c_3', 'c_4', 'c_6', 'c_8', 'c_9', 'c_11', 'seg_4', 'c_1', 'c_3', 'c_4', 'c_6', 'c_8', 'c_9', 'c_11', 'seg_5', 'c_1', 'c_3', 'c_4', 'c_6', 'c_8', 'c_9', 'c_11', 'seg_6', 'c_1', 'c_3', 'c_4', 'c_6', 'c_8', 'c_9', 'c_11', 'seg_7', 'c_1', 'c_3', 'c_4', 'c_6', 'c_8', 'c_9', 'c_11', 'seg_0', 'c_1', 'c_3', 'c_4', 'c_6', 'c_8', 'c_9', 'c_11', 'seg_1', 'c_1', 'c_3', 'c_4', 'c_6', 'c_8', 'c_9', 'c_11', 'seg_2', 'c_1', 'c_3', 'c_4', 'c_6', 'c_8', 'c_9', 'c_11', 'seg_3', 'c_1', 'c_3', 'c_4', 'c_6', 'c_8', 'c_9', 'c_11', 'seg_4', 'c_1', 'c_3', 'c_4', 'c_6', 'c_8', 'c_9', 'c_11', 'seg_5', 'c_1', 'c_3', 'c_4', 'c_6', 'c_8', 'c_9', 'c_11', 'seg_6', 'c_1', 'c_3', 'c_4', 'c_6', 'c_8', 'c_9', 'c_11', 'seg_7', 'c_1', 'c_3', 'c_4', 'c_6', 'c_8', 'c_9', 'c_11', 'seg_0', 'c_1', 'c_3', 'c_4', 'c_6', 'c_8', 'c_9', 'c_11', 'seg_1', 'c_1', 'c_3', 'c_4', 'c_6', 'c_8', 'c_9', 'c_11', 'seg_2', 'c_1', 'c_3', 'c_4', 'c_6', 'c_8', 'c_9', 'c_11', 'seg_3', 'c_1', 'c_3', 'c_4', 'c_6', 'c_8', 'c_9', 'c_11', 'seg_4', 'c_1', 'c_3', 'c_4', 'c_6', 'c_8', 'c_9', 'c_11', 'seg_5', 'c_1', 'c_3', 'c_4', 'c_6', 'c_8', 'c_9', 'c_11', 'seg_6', 'c_1', 'c_3', 'c_4', 'c_6', 'c_8', 'c_9', 'c_11', 'seg_7', 'c_1', 'c_3', 'c_4', 'c_6', 'c_8', 'c_9', 'c_11', 'seg_0', 'c_1', 'c_3', 'c_4', 'c_6', 'c_8', 'c_9', 'c_11', 'seg_1', 'c_1', 'c_3', 'c_4', 'c_6', 'c_8', 'c_9', 'c_11', 'seg_2', 'c_1', 'c_3', 'c_4', 'c_6', 'c_8', 'c_9', 'c_11', 'seg_3', 'c_1', 'c_3', 'c_4', 'c_6', 'c_8', 'c_9', 'c_11', 'seg_4', 'c_1', 'c_3', 'c_4', 'c_6', 'c_8', 'c_9', 'c_11', 'seg_5', 'c_1', 'c_3', 'c_4', 'c_6', 'c_8', 'c_9', 'c_11', 'seg_6', 'c_1', 'c_3', 'c_4', 'c_6', 'c_8', 'c_9', 'c_11', 'seg_7', 'c_1', 'c_3', 'c_4', 'c_6', 'c_8', 'c_9', 'c_11', 'seg_0', 'c_1', 'c_3', 'c_4', 'c_6', 'c_8', 'c_9', 'c_11', 'seg_1', 'c_1', 'c_3', 'c_4', 'c_6', 'c_8', 'c_9', 'c_11', 'seg_2', 'c_1', 'c_3', 'c_4', 'c_6', 'c_8', 'c_9', 'c_11', 'seg_3', 'c_1', 'c_3', 'c_4', 'c_6', 'c_8', 'c_9', 'c_11', 'seg_4', 'c_1', 'c_3', 'c_4', 'c_6', 'c_8', 'c_9', 'c_11', 'seg_5', 'c_1', 'c_3', 'c_4', 'c_6', 'c_8', 'c_9', 'c_11', 'seg_6', 'c_1', 'c_3', 'c_4', 'c_6', 'c_8', 'c_9', 'c_11', 'seg_7', 'c_1', 'c_3', 'c_4', 'c_6', 'c_8', 'c_9', 'c_11', 'seg_0', 'c_1', 'c_3', 'c_4', 'c_6', 'c_8', 'c_9', 'c_11', 'seg_1', 'c_1', 'c_3', 'c_4', 'c_6', 'c_8', 'c_9', 'c_11', 'seg_2', 'c_1', 'c_3', 'c_4', 'c_6', 'c_8', 'c_9', 'c_11', 'seg_3', 'c_1', 'c_3', 'c_4', 'c_6', 'c_8', 'c_9', 'c_11', 'seg_4', 'c_1', 'c_3', 'c_4', 'c_6', 'c_8', 'c_9', 'c_11', 'seg_5', 'c_1', 'c_3', 'c_4', 'c_6', 'c_8', 'c_9', 'c_11', 'seg_6', 'c_1', 'c_3', 'c_4', 'c_6', 'c_8', 'c_9', 'c_11', 'seg_7', 'c_1', 'c_3', 'c_4', 'c_6', 'c_8', 'c_9', 'c_11', 'seg_0', 'c_1', 'c_3', 'c_4', 'c_6', 'c_8', 'c_9', 'c_11', 'seg_1', 'c_1', 'c_3', 'c_4', 'c_6', 'c_8', 'c_9', 'c_11', 'seg_2', 'c_1', 'c_3', 'c_4', 'c_6', 'c_8', 'c_9', 'c_11', 'seg_3', 'c_1', 'c_3', 'c_4', 'c_6', 'c_8', 'c_9', 'c_11', 'seg_4', 'c_1', 'c_3', 'c_4', 'c_6', 'c_8', 'c_9', 'c_11', 'seg_5', 'c_1', 'c_3', 'c_4', 'c_6', 'c_8', 'c_9', 'c_11', 'seg_6', 'c_1', 'c_3', 'c_4', 'c_6', 'c_8', 'c_9', 'c_11', 'seg_7'], 'input_ids': [1, 15, 3, 4, 5, 6, 7, 8, 9, 10, 11, 12, 13, 14, 17, 3, 4, 5, 6, 7, 8, 9, 10, 11, 12, 13, 14, 18, 3, 4, 5, 6, 7, 8, 9, 10, 11, 12, 13, 14, 19, 7, 14, 20, 7, 14, 21, 7, 14, 22, 7, 11, 14, 15, 7, 11, 14, 16, 6, 7, 11, 14, 17, 6, 7, 11, 14, 18, 6, 7, 11, 14, 19, 6, 7, 11, 14, 20, 6, 7, 11, 14, 21, 6, 7, 11, 14, 22, 6, 7, 11, 12, 14, 15, 4, 6, 7, 11, 12, 14, 16, 4, 6, 7, 11, 12, 14, 17, 4, 6, 7, 11, 12, 14, 18, 4, 6, 7, 11, 12, 14, 19, 4, 6, 7, 9, 11, 14, 20, 4, 7, 9, 11, 14, 21, 4, 7, 9, 11, 14, 22, 4, 7, 9, 11, 14, 15, 4, 7, 9, 11, 14, 16, 4, 7, 9, 11, 14, 17, 4, 7, 11, 14, 18, 4, 6, 7, 11, 14, 19, 4, 6, 7, 11, 14, 20, 4, 6, 7, 11, 14, 21, 4, 6, 7, 11, 14, 22, 4, 6, 7, 11, 14, 15, 4, 6, 7, 11, 12, 14, 16, 4, 6, 7, 11, 12, 14, 17, 4, 6, 7, 11, 12, 14, 18, 4, 6, 7, 11, 12, 14, 19, 4, 6, 7, 9, 11, 12, 14, 20, 4, 6, 7, 9, 11, 12, 14, 21, 4, 6, 7, 9, 11, 12, 14, 22, 4, 6, 7, 9, 11, 12, 14, 15, 4, 6, 7, 9, 11, 12, 14, 16, 4, 6, 7, 9, 11, 12, 14, 17, 4, 6, 7, 9, 11, 12, 14, 18, 4, 6, 7, 9, 11, 12, 14, 19, 4, 6, 7, 9, 11, 12, 14, 20, 4, 6, 7, 9, 11, 12, 14, 21, 4, 6, 7, 9, 11, 12, 14, 22, 4, 6, 7, 9, 11, 12, 14, 15, 4, 6, 7, 9, 11, 12, 14, 16, 4, 6, 7, 9, 11, 12, 14, 17, 4, 6, 7, 9, 11, 12, 14, 18, 4, 6, 7, 9, 11, 12, 14, 19, 4, 6, 7, 9, 11, 12, 14, 20, 4, 6, 7, 9, 11, 12, 14, 21, 4, 6, 7, 9, 11, 12, 14, 22, 4, 6, 7, 9, 11, 12, 14, 15, 4, 6, 7, 9, 11, 12, 14, 16, 4, 6, 7, 9, 11, 12, 14, 17, 4, 6, 7, 9, 11, 12, 14, 18, 4, 6, 7, 9, 11, 12, 14, 19, 4, 6, 7, 9, 11, 12, 14, 20, 4, 6, 7, 9, 11, 12, 14, 21, 4, 6, 7, 11, 12, 14, 22, 4, 6, 7, 11, 12, 14, 15, 4, 6, 7, 11, 12, 14, 16, 4, 6, 7, 11, 12, 14, 17, 4, 6, 7, 11, 12, 14, 18, 4, 6, 7, 11, 12, 14, 19, 4, 6, 7, 11, 12, 14, 20, 4, 6, 7, 9, 11, 12, 14, 21, 4, 6, 7, 9, 11, 12, 14, 22, 4, 6, 7, 9, 11, 12, 14, 15, 4, 6, 7, 9, 11, 12, 14, 16, 4, 6, 7, 9, 11, 12, 14, 17, 4, 6, 7, 9, 11, 12, 14, 18, 4, 6, 7, 9, 11, 12, 14, 19, 4, 6, 7, 9, 11, 12, 14, 20, 4, 6, 7, 9, 11, 12, 14, 21, 4, 6, 7, 9, 11, 12, 14, 22, 4, 6, 7, 9, 11, 12, 14, 15, 4, 6, 7, 9, 11, 12, 14, 16, 4, 6, 7, 9, 11, 12, 14, 17, 4, 6, 7, 9, 11, 12, 14, 18, 4, 6, 7, 9, 11, 12, 14, 19, 4, 6, 7, 9, 11, 12, 14, 20, 4, 6, 7, 9, 11, 12, 14, 21, 4, 6, 7, 9, 11, 12, 14, 22, 4, 6, 7, 9, 11, 12, 14, 15, 4, 6, 7, 9, 11, 12, 14, 16, 4, 6, 7, 9, 11, 12, 14, 17, 4, 6, 7, 9, 11, 12, 14, 18, 4, 6, 7, 9, 11, 12, 14, 19, 4, 6, 7, 9, 11, 12, 14, 20, 4, 6, 7, 9, 11, 12, 14, 21, 4, 6, 7, 9, 11, 12, 14, 22, 4, 6, 7, 9, 11, 12, 14, 15, 4, 6, 7, 9, 11, 12, 14, 16, 4, 6, 7, 9, 11, 12, 14, 17, 4, 6, 7, 9, 11, 12, 14, 18, 4, 6, 7, 9, 11, 12, 14, 19, 4, 6, 7, 9, 11, 12, 14, 20, 4, 6, 7, 9, 11, 12, 14, 21, 4, 6, 7, 9, 11, 12, 14, 22, 4, 6, 7, 9, 11, 12, 14, 15, 4, 6, 7, 9, 11, 12, 14, 16, 4, 6, 7, 9, 11, 12, 14, 17, 4, 6, 7, 9, 11, 12, 14, 18, 4, 6, 7, 9, 11, 12, 14, 19, 4, 6, 7, 9, 11, 12, 14, 20, 4, 6, 7, 9, 11, 12, 14, 21, 4, 6, 7, 9, 11, 12, 14, 22, 4, 6, 7, 9, 11, 12, 14, 15, 4, 6, 7, 9, 11, 12, 14, 16, 4, 6, 7, 9, 11, 12, 14, 17, 4, 6, 7, 9, 11, 12, 14, 18, 4, 6, 7, 9, 11, 12, 14, 19, 4, 6, 7, 9, 11, 12, 14, 20, 4, 6, 7, 9, 11, 12, 14, 21, 4, 6, 7, 9, 11, 12, 14, 22, 4, 6, 7, 9, 11, 12, 14, 15, 4, 6, 7, 9, 11, 12, 14, 16, 4, 6, 7, 9, 11, 12, 14, 17, 4, 6, 7, 9, 11, 12, 14, 18, 4, 6, 7, 9, 11, 12, 14, 19, 4, 6, 7, 9, 11, 12, 14, 20, 4, 6, 7, 9, 11, 12, 14, 21, 4, 6, 7, 9, 11, 12, 14, 22, 4, 6, 7, 9, 11, 12, 14, 15, 4, 6, 7, 9, 11, 12, 14, 16, 4, 6, 7, 9, 11, 12, 14, 17, 4, 6, 7, 9, 11, 12, 14, 18, 4, 6, 7, 9, 11, 12, 14, 19, 4, 6, 7, 9, 11, 12, 14, 20, 4, 6, 7, 9, 11, 12, 14, 21, 4, 6, 7, 9, 11, 12, 14, 22, 4, 6, 7, 9, 11, 12, 14, 15, 4, 6, 7, 9, 11, 12, 14, 16, 4, 6, 7, 9, 11, 12, 14, 17, 4, 6, 7, 9, 11, 12, 14, 18, 4, 6, 7, 9, 11, 12, 14, 19, 4, 6, 7, 9, 11, 12, 14, 20, 4, 6, 7, 9, 11, 12, 14, 21, 4, 6, 7, 9, 11, 12, 14, 22, 4, 6, 7, 9, 11, 12, 14, 15, 4, 6, 7, 9, 11, 12, 14, 16, 4, 6, 7, 9, 11, 12, 14, 17, 4, 6, 7, 9, 11, 12, 14, 18, 4, 6, 7, 9, 11, 12, 14, 19, 4, 6, 7, 9, 11, 12, 14, 20, 4, 6, 7, 9, 11, 12, 14, 21, 4, 6, 7, 9, 11, 12, 14, 22, 4, 6, 7, 9, 11, 12, 14, 15, 4, 6, 7, 9, 11, 12, 14, 16, 4, 6, 7, 9, 11, 12, 14, 17, 4, 6, 7, 9, 11, 12, 14, 18, 4, 6, 7, 9, 11, 12, 14, 19, 4, 6, 7, 9, 11, 12, 14, 20, 4, 6, 7, 9, 11, 12, 14, 21, 4, 6, 7, 9, 11, 12, 14, 22, 4, 6, 7, 9, 11, 12, 14, 15, 4, 6, 7, 9, 11, 12, 14, 16, 4, 6, 7, 9, 11, 12, 14, 17, 4, 6, 7, 9, 11, 12, 14, 18, 4, 6, 7, 9, 11, 12, 14, 19, 4, 6, 7, 9, 11, 12, 14, 20, 4, 6, 7, 9, 11, 12, 14, 21, 4, 6, 7, 9, 11, 12, 14, 22]}\n",
      "bos seg_0 c_0 c_1 c_2 c_3 c_4 c_5 c_6 c_7 c_8 c_9 c_10 c_11 seg_2 c_0 c_1 c_2 c_3 c_4 c_5 c_6 c_7 c_8 c_9 c_10 c_11 seg_3 c_0 c_1 c_2 c_3 c_4 c_5 c_6 c_7 c_8 c_9 c_10 c_11 seg_4 c_4 c_11 seg_5 c_4 c_11 seg_6 c_4 c_11 seg_7 c_4 c_8 c_11 seg_0 c_4 c_8 c_11 seg_1 c_3 c_4 c_8 c_11 seg_2 c_3 c_4 c_8 c_11 seg_3 c_3 c_4 c_8 c_11 seg_4 c_3 c_4 c_8 c_11 seg_5 c_3 c_4 c_8 c_11 seg_6 c_3 c_4 c_8 c_11 seg_7 c_3 c_4 c_8 c_9 c_11 seg_0 c_1 c_3 c_4 c_8 c_9 c_11 seg_1 c_1 c_3 c_4 c_8 c_9 c_11 seg_2 c_1 c_3 c_4 c_8 c_9 c_11 seg_3 c_1 c_3 c_4 c_8 c_9 c_11 seg_4 c_1 c_3 c_4 c_6 c_8 c_11 seg_5 c_1 c_4 c_6 c_8 c_11 seg_6 c_1 c_4 c_6 c_8 c_11 seg_7 c_1 c_4 c_6 c_8 c_11 seg_0 c_1 c_4 c_6 c_8 c_11 seg_1 c_1 c_4 c_6 c_8 c_11 seg_2 c_1 c_4 c_8 c_11 seg_3 c_1 c_3 c_4 c_8 c_11 seg_4 c_1 c_3 c_4 c_8 c_11 seg_5 c_1 c_3 c_4 c_8 c_11 seg_6 c_1 c_3 c_4 c_8 c_11 seg_7 c_1 c_3 c_4 c_8 c_11 seg_0 c_1 c_3 c_4 c_8 c_9 c_11 seg_1 c_1 c_3 c_4 c_8 c_9 c_11 seg_2 c_1 c_3 c_4 c_8 c_9 c_11 seg_3 c_1 c_3 c_4 c_8 c_9 c_11 seg_4 c_1 c_3 c_4 c_6 c_8 c_9 c_11 seg_5 c_1 c_3 c_4 c_6 c_8 c_9 c_11 seg_6 c_1 c_3 c_4 c_6 c_8 c_9 c_11 seg_7 c_1 c_3 c_4 c_6 c_8 c_9 c_11 seg_0 c_1 c_3 c_4 c_6 c_8 c_9 c_11 seg_1 c_1 c_3 c_4 c_6 c_8 c_9 c_11 seg_2 c_1 c_3 c_4 c_6 c_8 c_9 c_11 seg_3 c_1 c_3 c_4 c_6 c_8 c_9 c_11 seg_4 c_1 c_3 c_4 c_6 c_8 c_9 c_11 seg_5 c_1 c_3 c_4 c_6 c_8 c_9 c_11 seg_6 c_1 c_3 c_4 c_6 c_8 c_9 c_11 seg_7 c_1 c_3 c_4 c_6 c_8 c_9 c_11 seg_0 c_1 c_3 c_4 c_6 c_8 c_9 c_11 seg_1 c_1 c_3 c_4 c_6 c_8 c_9 c_11 seg_2 c_1 c_3 c_4 c_6 c_8 c_9 c_11 seg_3 c_1 c_3 c_4 c_6 c_8 c_9 c_11 seg_4 c_1 c_3 c_4 c_6 c_8 c_9 c_11 seg_5 c_1 c_3 c_4 c_6 c_8 c_9 c_11 seg_6 c_1 c_3 c_4 c_6 c_8 c_9 c_11 seg_7 c_1 c_3 c_4 c_6 c_8 c_9 c_11 seg_0 c_1 c_3 c_4 c_6 c_8 c_9 c_11 seg_1 c_1 c_3 c_4 c_6 c_8 c_9 c_11 seg_2 c_1 c_3 c_4 c_6 c_8 c_9 c_11 seg_3 c_1 c_3 c_4 c_6 c_8 c_9 c_11 seg_4 c_1 c_3 c_4 c_6 c_8 c_9 c_11 seg_5 c_1 c_3 c_4 c_6 c_8 c_9 c_11 seg_6 c_1 c_3 c_4 c_8 c_9 c_11 seg_7 c_1 c_3 c_4 c_8 c_9 c_11 seg_0 c_1 c_3 c_4 c_8 c_9 c_11 seg_1 c_1 c_3 c_4 c_8 c_9 c_11 seg_2 c_1 c_3 c_4 c_8 c_9 c_11 seg_3 c_1 c_3 c_4 c_8 c_9 c_11 seg_4 c_1 c_3 c_4 c_8 c_9 c_11 seg_5 c_1 c_3 c_4 c_6 c_8 c_9 c_11 seg_6 c_1 c_3 c_4 c_6 c_8 c_9 c_11 seg_7 c_1 c_3 c_4 c_6 c_8 c_9 c_11 seg_0 c_1 c_3 c_4 c_6 c_8 c_9 c_11 seg_1 c_1 c_3 c_4 c_6 c_8 c_9 c_11 seg_2 c_1 c_3 c_4 c_6 c_8 c_9 c_11 seg_3 c_1 c_3 c_4 c_6 c_8 c_9 c_11 seg_4 c_1 c_3 c_4 c_6 c_8 c_9 c_11 seg_5 c_1 c_3 c_4 c_6 c_8 c_9 c_11 seg_6 c_1 c_3 c_4 c_6 c_8 c_9 c_11 seg_7 c_1 c_3 c_4 c_6 c_8 c_9 c_11 seg_0 c_1 c_3 c_4 c_6 c_8 c_9 c_11 seg_1 c_1 c_3 c_4 c_6 c_8 c_9 c_11 seg_2 c_1 c_3 c_4 c_6 c_8 c_9 c_11 seg_3 c_1 c_3 c_4 c_6 c_8 c_9 c_11 seg_4 c_1 c_3 c_4 c_6 c_8 c_9 c_11 seg_5 c_1 c_3 c_4 c_6 c_8 c_9 c_11 seg_6 c_1 c_3 c_4 c_6 c_8 c_9 c_11 seg_7 c_1 c_3 c_4 c_6 c_8 c_9 c_11 seg_0 c_1 c_3 c_4 c_6 c_8 c_9 c_11 seg_1 c_1 c_3 c_4 c_6 c_8 c_9 c_11 seg_2 c_1 c_3 c_4 c_6 c_8 c_9 c_11 seg_3 c_1 c_3 c_4 c_6 c_8 c_9 c_11 seg_4 c_1 c_3 c_4 c_6 c_8 c_9 c_11 seg_5 c_1 c_3 c_4 c_6 c_8 c_9 c_11 seg_6 c_1 c_3 c_4 c_6 c_8 c_9 c_11 seg_7 c_1 c_3 c_4 c_6 c_8 c_9 c_11 seg_0 c_1 c_3 c_4 c_6 c_8 c_9 c_11 seg_1 c_1 c_3 c_4 c_6 c_8 c_9 c_11 seg_2 c_1 c_3 c_4 c_6 c_8 c_9 c_11 seg_3 c_1 c_3 c_4 c_6 c_8 c_9 c_11 seg_4 c_1 c_3 c_4 c_6 c_8 c_9 c_11 seg_5 c_1 c_3 c_4 c_6 c_8 c_9 c_11 seg_6 c_1 c_3 c_4 c_6 c_8 c_9 c_11 seg_7 c_1 c_3 c_4 c_6 c_8 c_9 c_11 seg_0 c_1 c_3 c_4 c_6 c_8 c_9 c_11 seg_1 c_1 c_3 c_4 c_6 c_8 c_9 c_11 seg_2 c_1 c_3 c_4 c_6 c_8 c_9 c_11 seg_3 c_1 c_3 c_4 c_6 c_8 c_9 c_11 seg_4 c_1 c_3 c_4 c_6 c_8 c_9 c_11 seg_5 c_1 c_3 c_4 c_6 c_8 c_9 c_11 seg_6 c_1 c_3 c_4 c_6 c_8 c_9 c_11 seg_7 c_1 c_3 c_4 c_6 c_8 c_9 c_11 seg_0 c_1 c_3 c_4 c_6 c_8 c_9 c_11 seg_1 c_1 c_3 c_4 c_6 c_8 c_9 c_11 seg_2 c_1 c_3 c_4 c_6 c_8 c_9 c_11 seg_3 c_1 c_3 c_4 c_6 c_8 c_9 c_11 seg_4 c_1 c_3 c_4 c_6 c_8 c_9 c_11 seg_5 c_1 c_3 c_4 c_6 c_8 c_9 c_11 seg_6 c_1 c_3 c_4 c_6 c_8 c_9 c_11 seg_7 c_1 c_3 c_4 c_6 c_8 c_9 c_11 seg_0 c_1 c_3 c_4 c_6 c_8 c_9 c_11 seg_1 c_1 c_3 c_4 c_6 c_8 c_9 c_11 seg_2 c_1 c_3 c_4 c_6 c_8 c_9 c_11 seg_3 c_1 c_3 c_4 c_6 c_8 c_9 c_11 seg_4 c_1 c_3 c_4 c_6 c_8 c_9 c_11 seg_5 c_1 c_3 c_4 c_6 c_8 c_9 c_11 seg_6 c_1 c_3 c_4 c_6 c_8 c_9 c_11 seg_7 c_1 c_3 c_4 c_6 c_8 c_9 c_11 seg_0 c_1 c_3 c_4 c_6 c_8 c_9 c_11 seg_1 c_1 c_3 c_4 c_6 c_8 c_9 c_11 seg_2 c_1 c_3 c_4 c_6 c_8 c_9 c_11 seg_3 c_1 c_3 c_4 c_6 c_8 c_9 c_11 seg_4 c_1 c_3 c_4 c_6 c_8 c_9 c_11 seg_5 c_1 c_3 c_4 c_6 c_8 c_9 c_11 seg_6 c_1 c_3 c_4 c_6 c_8 c_9 c_11 seg_7 c_1 c_3 c_4 c_6 c_8 c_9 c_11 seg_0 c_1 c_3 c_4 c_6 c_8 c_9 c_11 seg_1 c_1 c_3 c_4 c_6 c_8 c_9 c_11 seg_2 c_1 c_3 c_4 c_6 c_8 c_9 c_11 seg_3 c_1 c_3 c_4 c_6 c_8 c_9 c_11 seg_4 c_1 c_3 c_4 c_6 c_8 c_9 c_11 seg_5 c_1 c_3 c_4 c_6 c_8 c_9 c_11 seg_6 c_1 c_3 c_4 c_6 c_8 c_9 c_11 seg_7 c_1 c_3 c_4 c_6 c_8 c_9 c_11 seg_0 c_1 c_3 c_4 c_6 c_8 c_9 c_11 seg_1 c_1 c_3 c_4 c_6 c_8 c_9 c_11 seg_2 c_1 c_3 c_4 c_6 c_8 c_9 c_11 seg_3 c_1 c_3 c_4 c_6 c_8 c_9 c_11 seg_4 c_1 c_3 c_4 c_6 c_8 c_9 c_11 seg_5 c_1 c_3 c_4 c_6 c_8 c_9 c_11 seg_6 c_1 c_3 c_4 c_6 c_8 c_9 c_11 seg_7 c_1 c_3 c_4 c_6 c_8 c_9 c_11 seg_0 c_1 c_3 c_4 c_6 c_8 c_9 c_11 seg_1 c_1 c_3 c_4 c_6 c_8 c_9 c_11 seg_2 c_1 c_3 c_4 c_6 c_8 c_9 c_11 seg_3 c_1 c_3 c_4 c_6 c_8 c_9 c_11 seg_4 c_1 c_3 c_4 c_6 c_8 c_9 c_11 seg_5 c_1 c_3 c_4 c_6 c_8 c_9 c_11 seg_6 c_1 c_3 c_4 c_6 c_8 c_9 c_11 seg_7 c_1 c_3 c_4 c_6 c_8 c_9 c_11 seg_0 c_1 c_3 c_4 c_6 c_8 c_9 c_11 seg_1 c_1 c_3 c_4 c_6 c_8 c_9 c_11 seg_2 c_1 c_3 c_4 c_6 c_8 c_9 c_11 seg_3 c_1 c_3 c_4 c_6 c_8 c_9 c_11 seg_4 c_1 c_3 c_4 c_6 c_8 c_9 c_11 seg_5 c_1 c_3 c_4 c_6 c_8 c_9 c_11 seg_6 c_1 c_3 c_4 c_6 c_8 c_9 c_11 seg_7\n"
     ]
    }
   ],
   "source": [
    "print(tokenized_chroma)\n",
    "print(' '.join(tokenized_chroma['tokens']))"
   ]
  }
 ],
 "metadata": {
  "kernelspec": {
   "display_name": "torch",
   "language": "python",
   "name": "python3"
  },
  "language_info": {
   "codemirror_mode": {
    "name": "ipython",
    "version": 3
   },
   "file_extension": ".py",
   "mimetype": "text/x-python",
   "name": "python",
   "nbconvert_exporter": "python",
   "pygments_lexer": "ipython3",
   "version": "3.12.2"
  }
 },
 "nbformat": 4,
 "nbformat_minor": 2
}
