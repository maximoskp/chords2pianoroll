{
 "cells": [
  {
   "cell_type": "code",
   "execution_count": 5,
   "metadata": {},
   "outputs": [],
   "source": [
    "import os\n",
    "from tqdm import tqdm\n",
    "import pypianoroll\n",
    "import mido"
   ]
  },
  {
   "cell_type": "code",
   "execution_count": 6,
   "metadata": {},
   "outputs": [],
   "source": [
    "midifolder = '../data/giantmidi_small/'\n",
    "midifiles = os.listdir(midifolder)"
   ]
  },
  {
   "cell_type": "code",
   "execution_count": 7,
   "metadata": {},
   "outputs": [
    {
     "name": "stderr",
     "output_type": "stream",
     "text": [
      "  0%|          | 0/4 [00:00<?, ?it/s]"
     ]
    },
    {
     "name": "stdout",
     "output_type": "stream",
     "text": [
      "new max pypianoroll:  1\n",
      "new max mido:  1\n"
     ]
    },
    {
     "name": "stderr",
     "output_type": "stream",
     "text": [
      "100%|██████████| 4/4 [00:01<00:00,  2.99it/s]\n"
     ]
    }
   ],
   "source": [
    "piece_idx = 0\n",
    "tracks_max_pypianoroll = -1\n",
    "tracks_max_mido = -1\n",
    "for midifile in tqdm(midifiles[piece_idx:]):\n",
    "    try:\n",
    "        main_piece = pypianoroll.read(midifolder + midifile)\n",
    "        mido_piece = mido.MidiFile(midifolder + midifile)\n",
    "    except:\n",
    "        with open('data/problematic_pieces.txt', 'a') as f:\n",
    "            print(f'{piece_idx:05}, {midifile}', file=f)\n",
    "    else:\n",
    "        with open('data/piece_per_idx.txt', 'a') as f:\n",
    "            print(f'{piece_idx:05}, {midifile}', file=f)\n",
    "    if tracks_max_pypianoroll < len(main_piece.tracks):\n",
    "        tracks_max_pypianoroll = len(main_piece.tracks)\n",
    "        print('new max pypianoroll: ', tracks_max_pypianoroll)\n",
    "    if tracks_max_mido < len(mido_piece.tracks):\n",
    "        tracks_max_mido = len(mido_piece.tracks)\n",
    "        print('new max mido: ', tracks_max_pypianoroll)"
   ]
  }
 ],
 "metadata": {
  "kernelspec": {
   "display_name": "torch",
   "language": "python",
   "name": "python3"
  },
  "language_info": {
   "codemirror_mode": {
    "name": "ipython",
    "version": 3
   },
   "file_extension": ".py",
   "mimetype": "text/x-python",
   "name": "python",
   "nbconvert_exporter": "python",
   "pygments_lexer": "ipython3",
   "version": "3.11.6"
  }
 },
 "nbformat": 4,
 "nbformat_minor": 2
}
