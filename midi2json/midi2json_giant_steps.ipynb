{
 "cells": [
  {
   "cell_type": "code",
   "execution_count": 18,
   "metadata": {},
   "outputs": [],
   "source": [
    "import pretty_midi as pm\n",
    "import os\n",
    "import json"
   ]
  },
  {
   "cell_type": "code",
   "execution_count": 19,
   "metadata": {},
   "outputs": [
    {
     "name": "stdout",
     "output_type": "stream",
     "text": [
      "['giant_steps_part.mid', 'solar_part.mid']\n"
     ]
    }
   ],
   "source": [
    "midi_files = []\n",
    "\n",
    "for file in os.listdir('.'):\n",
    "    if file.endswith('.mid'):\n",
    "        midi_files.append(file)\n",
    "print(midi_files)"
   ]
  },
  {
   "cell_type": "code",
   "execution_count": 20,
   "metadata": {},
   "outputs": [],
   "source": [
    "midi = pm.PrettyMIDI(midi_files[0])"
   ]
  },
  {
   "cell_type": "code",
   "execution_count": 21,
   "metadata": {},
   "outputs": [
    {
     "name": "stdout",
     "output_type": "stream",
     "text": [
      "[Note(start=2.000000, end=2.998958, pitch=78, velocity=80), Note(start=3.000000, end=3.998958, pitch=74, velocity=80), Note(start=4.000000, end=4.998958, pitch=71, velocity=80), Note(start=5.000000, end=5.748958, pitch=67, velocity=80), Note(start=5.750000, end=7.998958, pitch=70, velocity=80), Note(start=8.000000, end=8.748958, pitch=71, velocity=80), Note(start=8.750000, end=9.998958, pitch=69, velocity=80), Note(start=10.000000, end=10.998958, pitch=74, velocity=80), Note(start=11.000000, end=11.998958, pitch=70, velocity=80), Note(start=12.000000, end=12.998958, pitch=67, velocity=80), Note(start=13.000000, end=13.748958, pitch=63, velocity=80), Note(start=13.750000, end=15.998958, pitch=66, velocity=80), Note(start=16.000000, end=16.998958, pitch=67, velocity=80), Note(start=17.000000, end=17.748958, pitch=65, velocity=80), Note(start=17.750000, end=17.998958, pitch=70, velocity=80)]\n"
     ]
    }
   ],
   "source": [
    "notes = midi.instruments[0].notes\n",
    "print(notes)"
   ]
  },
  {
   "cell_type": "code",
   "execution_count": 22,
   "metadata": {},
   "outputs": [
    {
     "name": "stdout",
     "output_type": "stream",
     "text": [
      "sixteenth_duration: 0.125\n"
     ]
    }
   ],
   "source": [
    "jmidi = {'melody': []}\n",
    "tempo = 120\n",
    "sixteenth_duration = (60/tempo)/4\n",
    "print('sixteenth_duration:', sixteenth_duration)\n",
    "for note in notes:\n",
    "    jmidi['melody'].append( {\n",
    "        'start': round(note.start/sixteenth_duration),\n",
    "        'duration': round(note.end/sixteenth_duration - note.start/sixteenth_duration),\n",
    "        'pitch': note.pitch\n",
    "    } )"
   ]
  },
  {
   "cell_type": "code",
   "execution_count": 23,
   "metadata": {},
   "outputs": [
    {
     "name": "stdout",
     "output_type": "stream",
     "text": [
      "{'melody': [{'start': 16, 'duration': 8, 'pitch': 78}, {'start': 24, 'duration': 8, 'pitch': 74}, {'start': 32, 'duration': 8, 'pitch': 71}, {'start': 40, 'duration': 6, 'pitch': 67}, {'start': 46, 'duration': 18, 'pitch': 70}, {'start': 64, 'duration': 6, 'pitch': 71}, {'start': 70, 'duration': 10, 'pitch': 69}, {'start': 80, 'duration': 8, 'pitch': 74}, {'start': 88, 'duration': 8, 'pitch': 70}, {'start': 96, 'duration': 8, 'pitch': 67}, {'start': 104, 'duration': 6, 'pitch': 63}, {'start': 110, 'duration': 18, 'pitch': 66}, {'start': 128, 'duration': 8, 'pitch': 67}, {'start': 136, 'duration': 6, 'pitch': 65}, {'start': 142, 'duration': 2, 'pitch': 70}]}\n"
     ]
    }
   ],
   "source": [
    "print(jmidi)"
   ]
  },
  {
   "cell_type": "code",
   "execution_count": 24,
   "metadata": {},
   "outputs": [],
   "source": [
    "jmidi['chords'] = [\n",
    "    {\n",
    "        'start':0,\n",
    "        'symbol': 'N',\n",
    "        'duration': 16\n",
    "    },\n",
    "    {\n",
    "        'start':16,\n",
    "        'symbol': 'B:maj7',\n",
    "        'duration': 8\n",
    "    },\n",
    "    {\n",
    "        'start':24,\n",
    "        'symbol': 'D:7',\n",
    "        'duration': 8\n",
    "    },\n",
    "    {\n",
    "        'start':32,\n",
    "        'symbol': 'G:maj7',\n",
    "        'duration': 8\n",
    "    },\n",
    "    {\n",
    "        'start':40,\n",
    "        'symbol': 'Bb:7',\n",
    "        'duration': 8\n",
    "    },\n",
    "    {\n",
    "        'start':48,\n",
    "        'symbol': 'Eb:maj',\n",
    "        'duration': 16\n",
    "    },\n",
    "    {\n",
    "        'start':64,\n",
    "        'symbol': 'A:min7',\n",
    "        'duration': 8\n",
    "    },\n",
    "    {\n",
    "        'start':72,\n",
    "        'symbol': 'D:7',\n",
    "        'duration': 8\n",
    "    },\n",
    "    {\n",
    "        'start':80,\n",
    "        'symbol': 'G:maj7',\n",
    "        'duration': 8\n",
    "    },\n",
    "    {\n",
    "        'start':88,\n",
    "        'symbol': 'Bb:7',\n",
    "        'duration': 8\n",
    "    },\n",
    "    {\n",
    "        'start':96,\n",
    "        'symbol': 'Eb:maj7',\n",
    "        'duration': 8\n",
    "    },\n",
    "    {\n",
    "        'start':104,\n",
    "        'symbol': 'F#:7',\n",
    "        'duration': 8\n",
    "    },\n",
    "    {\n",
    "        'start':112,\n",
    "        'symbol': 'B:maj7',\n",
    "        'duration': 16\n",
    "    },\n",
    "    {\n",
    "        'start':128,\n",
    "        'symbol': 'F:min7',\n",
    "        'duration': 8\n",
    "    },\n",
    "    {\n",
    "        'start':136,\n",
    "        'symbol': 'Bb:7',\n",
    "        'duration': 8\n",
    "    },\n",
    "]"
   ]
  },
  {
   "cell_type": "code",
   "execution_count": 25,
   "metadata": {},
   "outputs": [],
   "source": [
    "with open('giant_steps.json', 'w') as f:\n",
    "    json.dump(jmidi, f)"
   ]
  }
 ],
 "metadata": {
  "kernelspec": {
   "display_name": "midi",
   "language": "python",
   "name": "python3"
  },
  "language_info": {
   "codemirror_mode": {
    "name": "ipython",
    "version": 3
   },
   "file_extension": ".py",
   "mimetype": "text/x-python",
   "name": "python",
   "nbconvert_exporter": "python",
   "pygments_lexer": "ipython3",
   "version": "3.11.7"
  }
 },
 "nbformat": 4,
 "nbformat_minor": 2
}
