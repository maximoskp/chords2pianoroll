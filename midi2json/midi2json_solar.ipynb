{
 "cells": [
  {
   "cell_type": "code",
   "execution_count": 26,
   "metadata": {},
   "outputs": [],
   "source": [
    "import pretty_midi as pm\n",
    "import os\n",
    "import json"
   ]
  },
  {
   "cell_type": "code",
   "execution_count": 27,
   "metadata": {},
   "outputs": [
    {
     "name": "stdout",
     "output_type": "stream",
     "text": [
      "['giant_steps_part.mid', 'solar_part.mid']\n"
     ]
    }
   ],
   "source": [
    "midi_files = []\n",
    "\n",
    "for file in os.listdir('.'):\n",
    "    if file.endswith('.mid'):\n",
    "        midi_files.append(file)\n",
    "print(midi_files)"
   ]
  },
  {
   "cell_type": "code",
   "execution_count": 28,
   "metadata": {},
   "outputs": [],
   "source": [
    "midi = pm.PrettyMIDI(midi_files[1])"
   ]
  },
  {
   "cell_type": "code",
   "execution_count": 29,
   "metadata": {},
   "outputs": [
    {
     "name": "stdout",
     "output_type": "stream",
     "text": [
      "[Note(start=2.250000, end=2.998958, pitch=72, velocity=80), Note(start=3.000000, end=3.498958, pitch=71, velocity=80), Note(start=3.500000, end=3.748958, pitch=74, velocity=80), Note(start=3.750000, end=3.998958, pitch=72, velocity=80), Note(start=4.250000, end=5.748958, pitch=67, velocity=80), Note(start=5.750000, end=5.998958, pitch=69, velocity=80), Note(start=6.000000, end=6.498958, pitch=70, velocity=80), Note(start=6.500000, end=6.748958, pitch=70, velocity=80), Note(start=6.750000, end=6.998958, pitch=70, velocity=80), Note(start=7.000000, end=7.498958, pitch=69, velocity=80), Note(start=7.500000, end=7.748958, pitch=72, velocity=80), Note(start=7.750000, end=9.998958, pitch=70, velocity=80), Note(start=10.250000, end=10.998958, pitch=69, velocity=80), Note(start=11.000000, end=11.498958, pitch=68, velocity=80), Note(start=11.500000, end=11.748958, pitch=70, velocity=80), Note(start=11.750000, end=11.998958, pitch=69, velocity=80), Note(start=12.250000, end=13.498958, pitch=60, velocity=80), Note(start=13.500000, end=13.748958, pitch=65, velocity=80), Note(start=13.750000, end=13.998958, pitch=67, velocity=80), Note(start=14.000000, end=14.498958, pitch=68, velocity=80), Note(start=14.500000, end=14.748958, pitch=68, velocity=80), Note(start=14.750000, end=14.998958, pitch=68, velocity=80), Note(start=15.000000, end=15.498958, pitch=67, velocity=80), Note(start=15.500000, end=15.748958, pitch=70, velocity=80), Note(start=15.750000, end=17.498958, pitch=68, velocity=80)]\n"
     ]
    }
   ],
   "source": [
    "notes = midi.instruments[0].notes\n",
    "print(notes)"
   ]
  },
  {
   "cell_type": "code",
   "execution_count": 30,
   "metadata": {},
   "outputs": [
    {
     "name": "stdout",
     "output_type": "stream",
     "text": [
      "sixteenth_duration: 0.125\n"
     ]
    }
   ],
   "source": [
    "jmidi = {'melody': []}\n",
    "tempo = 120\n",
    "sixteenth_duration = (60/tempo)/4\n",
    "print('sixteenth_duration:', sixteenth_duration)\n",
    "for note in notes:\n",
    "    jmidi['melody'].append( {\n",
    "        'start': round(note.start/sixteenth_duration),\n",
    "        'duration': round(note.end/sixteenth_duration - note.start/sixteenth_duration),\n",
    "        'pitch': note.pitch\n",
    "    } )"
   ]
  },
  {
   "cell_type": "code",
   "execution_count": 31,
   "metadata": {},
   "outputs": [
    {
     "name": "stdout",
     "output_type": "stream",
     "text": [
      "{'melody': [{'start': 18, 'duration': 6, 'pitch': 72}, {'start': 24, 'duration': 4, 'pitch': 71}, {'start': 28, 'duration': 2, 'pitch': 74}, {'start': 30, 'duration': 2, 'pitch': 72}, {'start': 34, 'duration': 12, 'pitch': 67}, {'start': 46, 'duration': 2, 'pitch': 69}, {'start': 48, 'duration': 4, 'pitch': 70}, {'start': 52, 'duration': 2, 'pitch': 70}, {'start': 54, 'duration': 2, 'pitch': 70}, {'start': 56, 'duration': 4, 'pitch': 69}, {'start': 60, 'duration': 2, 'pitch': 72}, {'start': 62, 'duration': 18, 'pitch': 70}, {'start': 82, 'duration': 6, 'pitch': 69}, {'start': 88, 'duration': 4, 'pitch': 68}, {'start': 92, 'duration': 2, 'pitch': 70}, {'start': 94, 'duration': 2, 'pitch': 69}, {'start': 98, 'duration': 10, 'pitch': 60}, {'start': 108, 'duration': 2, 'pitch': 65}, {'start': 110, 'duration': 2, 'pitch': 67}, {'start': 112, 'duration': 4, 'pitch': 68}, {'start': 116, 'duration': 2, 'pitch': 68}, {'start': 118, 'duration': 2, 'pitch': 68}, {'start': 120, 'duration': 4, 'pitch': 67}, {'start': 124, 'duration': 2, 'pitch': 70}, {'start': 126, 'duration': 14, 'pitch': 68}]}\n"
     ]
    }
   ],
   "source": [
    "print(jmidi)"
   ]
  },
  {
   "cell_type": "code",
   "execution_count": 32,
   "metadata": {},
   "outputs": [],
   "source": [
    "jmidi['chords'] = [\n",
    "    {\n",
    "        'start':0,\n",
    "        'symbol': 'N',\n",
    "        'duration': 16\n",
    "    },\n",
    "    {\n",
    "        'start':16,\n",
    "        'symbol': 'C:min',\n",
    "        'duration': 16\n",
    "    },\n",
    "    {\n",
    "        'start':32,\n",
    "        'symbol': 'C:min',\n",
    "        'duration': 16\n",
    "    },\n",
    "    {\n",
    "        'start':48,\n",
    "        'symbol': 'G:min7',\n",
    "        'duration': 16\n",
    "    },\n",
    "    {\n",
    "        'start':64,\n",
    "        'symbol': 'C:7',\n",
    "        'duration': 16\n",
    "    },\n",
    "    {\n",
    "        'start':80,\n",
    "        'symbol': 'F:maj',\n",
    "        'duration': 16\n",
    "    },\n",
    "    {\n",
    "        'start':96,\n",
    "        'symbol': 'F:maj',\n",
    "        'duration': 16\n",
    "    },\n",
    "    {\n",
    "        'start':112,\n",
    "        'symbol': 'F:min7',\n",
    "        'duration': 16\n",
    "    },\n",
    "    {\n",
    "        'start':128,\n",
    "        'symbol': 'Bb:7',\n",
    "        'duration': 16\n",
    "    },\n",
    "]"
   ]
  },
  {
   "cell_type": "code",
   "execution_count": 33,
   "metadata": {},
   "outputs": [],
   "source": [
    "with open('solar.json', 'w') as f:\n",
    "    json.dump(jmidi, f)"
   ]
  }
 ],
 "metadata": {
  "kernelspec": {
   "display_name": "midi",
   "language": "python",
   "name": "python3"
  },
  "language_info": {
   "codemirror_mode": {
    "name": "ipython",
    "version": 3
   },
   "file_extension": ".py",
   "mimetype": "text/x-python",
   "name": "python",
   "nbconvert_exporter": "python",
   "pygments_lexer": "ipython3",
   "version": "3.11.7"
  }
 },
 "nbformat": 4,
 "nbformat_minor": 2
}
